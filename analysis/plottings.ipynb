{
 "cells": [
  {
   "cell_type": "code",
   "execution_count": null,
   "id": "ac152d18-0a30-498d-92b1-18ae4ec97b56",
   "metadata": {},
   "outputs": [],
   "source": []
  },
  {
   "cell_type": "code",
   "execution_count": 1,
   "id": "cb43cf5c-3b23-4b58-afe4-fe0e237381e6",
   "metadata": {},
   "outputs": [],
   "source": [
    "import pandas as pd\n",
    "import time\n",
    "import numpy as np\n",
    "import copy\n",
    "import glob\n",
    "import sys, os\n",
    "import os\n",
    "import shutil\n",
    "\n",
    "import torch\n",
    "import torch.nn as nn\n",
    "import torch.utils.data as data_utils\n",
    "from sklearn.metrics import precision_score, recall_score\n",
    "import pickle\n",
    "from sklearn import preprocessing\n",
    "import torch.optim as optim\n",
    "from sklearn.preprocessing import LabelEncoder\n",
    "from sklearn.model_selection import train_test_split\n",
    "from folktables import ACSDataSource, ACSEmployment,ACSIncome\n",
    "import matplotlib.pyplot as plt\n",
    "import torch.nn.functional as F\n",
    "from tqdm import tqdm\n",
    "from sklearn.metrics import roc_curve\n",
    "from sklearn.model_selection import StratifiedKFold, train_test_split\n",
    "from torchvision import models\n",
    "from torchsummary import summary\n",
    "from torch.utils.data import Dataset, DataLoader\n",
    "from sklearn.metrics import accuracy_score\n",
    "import os\n",
    "from torch.utils.data import Dataset\n",
    "import numpy as np\n",
    "import torch.nn.functional as F\n",
    "import pandas as pd\n",
    "from scipy.stats import multivariate_normal\n",
    "import torch, random, copy, os\n",
    "from collections import OrderedDict\n"
   ]
  },
  {
   "cell_type": "code",
   "execution_count": 2,
   "id": "39a4ba92-f3de-4e75-8b99-131605d67206",
   "metadata": {},
   "outputs": [
    {
     "name": "stdout",
     "output_type": "stream",
     "text": [
      "CUDA is available.\n"
     ]
    }
   ],
   "source": [
    "\n",
    "import torch\n",
    "\n",
    "if torch.cuda.is_available():\n",
    "    print(\"CUDA is available.\")\n",
    "else:\n",
    "    # CUDA is not available\n",
    "    print(\"CUDA is not available. Running on CPU.\")\n"
   ]
  },
  {
   "cell_type": "code",
   "execution_count": 3,
   "id": "2d7662e0-87d0-42d3-9a90-2b6ad4194d75",
   "metadata": {},
   "outputs": [],
   "source": [
    " class DeepNet(nn.Module):\n",
    "    def __init__(self):\n",
    "        super().__init__()\n",
    "        # 14 : input shape\n",
    "        # 9-> we have 9 columns in data \n",
    "        self.layer1 = nn.Linear(14, 512)\n",
    "        self.act1 = nn.ReLU()\n",
    "        self.dropout1 = nn.Dropout(p=0.5)\n",
    "        self.layer2 = nn.Linear(512, 256)\n",
    "        self.act2 = nn.ReLU()\n",
    "        self.layer3 = nn.Linear(256, 60)\n",
    "        self.act3 = nn.ReLU()\n",
    "        self.output = nn.Linear(60, 1)\n",
    "        self.sigmoid = nn.Sigmoid()\n",
    "\n",
    "    def forward(self, x):\n",
    "        x = self.act1(self.layer1(x))\n",
    "        x = self.dropout1(x)\n",
    "        x = self.act2(self.layer2(x))\n",
    "        x = self.act3(self.layer3(x))\n",
    "        x = self.sigmoid(self.output(x))\n",
    "        return x\n",
    "\n"
   ]
  },
  {
   "cell_type": "code",
   "execution_count": null,
   "id": "7f71f68f-7fa6-443e-a4e0-350b6eae470c",
   "metadata": {},
   "outputs": [],
   "source": []
  },
  {
   "cell_type": "code",
   "execution_count": 4,
   "id": "3b8eb8e4-6706-4a86-80a3-b8ffe6b5881a",
   "metadata": {},
   "outputs": [],
   "source": [
    "\n",
    "path_1=\"/home/chiragapandav/Downloads/Hiwi/Improving-Fairness-via-Federated-Learning/FedFB/testing_models/global_model_FF.pt\"\n",
    "path_2=\"/home/chiragapandav/Downloads/Hiwi/Improving-Fairness-via-Federated-Learning/FedFB/testing_models/global_model_FA.pt\"\n"
   ]
  },
  {
   "cell_type": "code",
   "execution_count": null,
   "id": "316f643d-18f3-4419-a3c6-dfe5c206c159",
   "metadata": {},
   "outputs": [],
   "source": []
  },
  {
   "cell_type": "markdown",
   "id": "03f7595b-c7eb-4845-8bf3-d4d2e55490c6",
   "metadata": {},
   "source": [
    "# Testing on SubGroup\n",
    "1. BM\n",
    "2. BW\n",
    "3. WM\n",
    "4. WW"
   ]
  },
  {
   "cell_type": "code",
   "execution_count": null,
   "id": "18f1a976-cc7e-47bf-b265-207eaa2a6bf3",
   "metadata": {},
   "outputs": [],
   "source": []
  },
  {
   "cell_type": "code",
   "execution_count": 5,
   "id": "4d285138-3ca5-4bc4-898c-fe0bb629a104",
   "metadata": {},
   "outputs": [
    {
     "name": "stdout",
     "output_type": "stream",
     "text": [
      "name of subG::  WM_client_0_data.pkl\n",
      "name of subG::  BM_client_1_data.pkl\n",
      "name of subG::  WW_client_2_data.pkl\n",
      "name of subG::  BW_client_3_data.pkl\n"
     ]
    }
   ],
   "source": [
    "#Loading Sub_group data\n",
    "\n",
    "path = \"/home/chiragapandav/Downloads/Hiwi/Improving-Fairness-via-Federated-Learning/FedFB/data_subG/\"\n",
    "client_names = [\"WM\", \"BM\", \"WW\", \"BW\"]\n",
    "list_loaded_client_data = []\n",
    "\n",
    "for i, client_name in enumerate(client_names):\n",
    "    client_filename = f\"{client_name}_client_{i}_data.pkl\"\n",
    "    print(\"name of subG:: \",client_filename)\n",
    "    full_path = os.path.join(path, client_filename)\n",
    "\n",
    "    with open(full_path, \"rb\") as f:\n",
    "        client_data = pickle.load(f)\n",
    "        list_loaded_client_data.append(client_data)\n"
   ]
  },
  {
   "cell_type": "code",
   "execution_count": null,
   "id": "55895291-6978-469a-af45-7ca714b84547",
   "metadata": {},
   "outputs": [],
   "source": []
  },
  {
   "cell_type": "code",
   "execution_count": 6,
   "id": "925bf4fe-b301-4522-ba14-58a667f5cbb6",
   "metadata": {},
   "outputs": [],
   "source": [
    "model=DeepNet()\n",
    "\n",
    "criterion = nn.BCELoss()\n",
    "optimizer = optim.Adam(model.parameters(), lr=0.001)\n",
    "device = torch.device(\"cuda\" if torch.cuda.is_available() else \"cpu\")        "
   ]
  },
  {
   "cell_type": "code",
   "execution_count": null,
   "id": "b778be3a-3872-4358-a4ed-bdf13dc10d47",
   "metadata": {},
   "outputs": [],
   "source": []
  },
  {
   "cell_type": "markdown",
   "id": "617ec986-dc7e-4057-8056-9bddd89353a8",
   "metadata": {},
   "source": [
    "# TPR info\n"
   ]
  },
  {
   "cell_type": "code",
   "execution_count": null,
   "id": "48a3a366-c156-4f32-9148-797b307d9ca9",
   "metadata": {},
   "outputs": [],
   "source": [
    "# default: 'binary':\n",
    "# Only report results for the class specified by pos_label. This is applicable only if targets (y_{true,pred}) are binary.\n",
    "\n",
    "\n",
    "# https://scikit-learn.org/stable/modules/generated/sklearn.metrics.recall_score.html#:~:text=%27-,binary,-%27%3A\n",
    "\n",
    "# we can set: micro, macro, weighted"
   ]
  },
  {
   "cell_type": "code",
   "execution_count": 7,
   "id": "8b4108e4-01ff-4841-96cf-ee6b4742b7ca",
   "metadata": {},
   "outputs": [
    {
     "data": {
      "text/plain": [
       "0.5"
      ]
     },
     "execution_count": 7,
     "metadata": {},
     "output_type": "execute_result"
    }
   ],
   "source": [
    "from sklearn.metrics import recall_score\n",
    "y_true = [0, 1, 1, 0, 1, 1]\n",
    "y_pred = [0, 0, 0, 0, 1, 1]\n",
    "recall_score(y_true, y_pred, average='binary')"
   ]
  },
  {
   "cell_type": "code",
   "execution_count": 8,
   "id": "15629481-3cf3-47a4-9ea2-296e454c0385",
   "metadata": {},
   "outputs": [
    {
     "name": "stdout",
     "output_type": "stream",
     "text": [
      "Recall: 0.5\n"
     ]
    }
   ],
   "source": [
    "true_positive = 0\n",
    "false_negative = 0\n",
    "\n",
    "for true_label, predicted_label in zip(y_true, y_pred):\n",
    "    if true_label == 1 and predicted_label == 1:\n",
    "        true_positive += 1\n",
    "    elif true_label == 1 and predicted_label == 0:\n",
    "        false_negative += 1\n",
    "\n",
    "test_recall = true_positive / (true_positive + false_negative)\n",
    "\n",
    "print(\"Recall:\", test_recall)"
   ]
  },
  {
   "cell_type": "markdown",
   "id": "03a41907-063c-4137-8381-d2924405606d",
   "metadata": {},
   "source": [
    "# FAIR FED"
   ]
  },
  {
   "cell_type": "code",
   "execution_count": null,
   "id": "f25acb5b-ad11-4520-b9c1-e76a6c8f7580",
   "metadata": {},
   "outputs": [],
   "source": []
  },
  {
   "cell_type": "code",
   "execution_count": 9,
   "id": "11d6d099-475e-43ad-815b-f0c05899c184",
   "metadata": {},
   "outputs": [
    {
     "data": {
      "text/plain": [
       "DeepNet(\n",
       "  (layer1): Linear(in_features=14, out_features=512, bias=True)\n",
       "  (act1): ReLU()\n",
       "  (dropout1): Dropout(p=0.5, inplace=False)\n",
       "  (layer2): Linear(in_features=512, out_features=256, bias=True)\n",
       "  (act2): ReLU()\n",
       "  (layer3): Linear(in_features=256, out_features=60, bias=True)\n",
       "  (act3): ReLU()\n",
       "  (output): Linear(in_features=60, out_features=1, bias=True)\n",
       "  (sigmoid): Sigmoid()\n",
       ")"
      ]
     },
     "execution_count": 9,
     "metadata": {},
     "output_type": "execute_result"
    }
   ],
   "source": [
    "model.load_state_dict(torch.load(path_1))\n",
    "model.eval()"
   ]
  },
  {
   "cell_type": "code",
   "execution_count": 10,
   "id": "0e8544f5-aab5-48d8-b6d2-20688d1497be",
   "metadata": {},
   "outputs": [
    {
     "name": "stdout",
     "output_type": "stream",
     "text": [
      "subG name  is  WM\n",
      "Global Testing Accuracy: 81.80897%\n",
      "Global Precision: 84.35818%\n",
      "Global Recall: 75.33848%\n",
      "\n",
      "\n",
      "subG name  is  BM\n",
      "Global Testing Accuracy: 81.61316%\n",
      "Global Precision: 82.14120%\n",
      "Global Recall: 74.15872%\n",
      "\n",
      "\n",
      "subG name  is  WW\n",
      "Global Testing Accuracy: 80.14316%\n",
      "Global Precision: 75.34138%\n",
      "Global Recall: 76.36095%\n",
      "\n",
      "\n",
      "subG name  is  BW\n",
      "Global Testing Accuracy: 80.10469%\n",
      "Global Precision: 74.93753%\n",
      "Global Recall: 76.49102%\n",
      "\n",
      "\n"
     ]
    },
    {
     "data": {
      "text/html": [
       "<div>\n",
       "<style scoped>\n",
       "    .dataframe tbody tr th:only-of-type {\n",
       "        vertical-align: middle;\n",
       "    }\n",
       "\n",
       "    .dataframe tbody tr th {\n",
       "        vertical-align: top;\n",
       "    }\n",
       "\n",
       "    .dataframe thead th {\n",
       "        text-align: right;\n",
       "    }\n",
       "</style>\n",
       "<table border=\"1\" class=\"dataframe\">\n",
       "  <thead>\n",
       "    <tr style=\"text-align: right;\">\n",
       "      <th></th>\n",
       "      <th>SubG</th>\n",
       "      <th>Accuracy</th>\n",
       "      <th>Precision</th>\n",
       "      <th>Recall</th>\n",
       "    </tr>\n",
       "  </thead>\n",
       "  <tbody>\n",
       "    <tr>\n",
       "      <th>0</th>\n",
       "      <td>WM</td>\n",
       "      <td>0.818090</td>\n",
       "      <td>0.843582</td>\n",
       "      <td>0.753385</td>\n",
       "    </tr>\n",
       "    <tr>\n",
       "      <th>1</th>\n",
       "      <td>BM</td>\n",
       "      <td>0.816132</td>\n",
       "      <td>0.821412</td>\n",
       "      <td>0.741587</td>\n",
       "    </tr>\n",
       "    <tr>\n",
       "      <th>2</th>\n",
       "      <td>WW</td>\n",
       "      <td>0.801432</td>\n",
       "      <td>0.753414</td>\n",
       "      <td>0.763610</td>\n",
       "    </tr>\n",
       "    <tr>\n",
       "      <th>3</th>\n",
       "      <td>BW</td>\n",
       "      <td>0.801047</td>\n",
       "      <td>0.749375</td>\n",
       "      <td>0.764910</td>\n",
       "    </tr>\n",
       "  </tbody>\n",
       "</table>\n",
       "</div>"
      ],
      "text/plain": [
       "  SubG  Accuracy  Precision    Recall\n",
       "0   WM  0.818090   0.843582  0.753385\n",
       "1   BM  0.816132   0.821412  0.741587\n",
       "2   WW  0.801432   0.753414  0.763610\n",
       "3   BW  0.801047   0.749375  0.764910"
      ]
     },
     "execution_count": 10,
     "metadata": {},
     "output_type": "execute_result"
    }
   ],
   "source": [
    "size = 0\n",
    "loss = 0\n",
    "correct = 0\n",
    "total = 0\n",
    "predicted_labels = []\n",
    "true_labels = []\n",
    "pr_FF=[]\n",
    "rc_FF=[]\n",
    "ac_FF=[]\n",
    "selected_clients = [0, 1, 2, 3]\n",
    "client_metrics = []\n",
    "\n",
    "# Assuming model and criterion are already defined and loaded onto the GPU\n",
    "model = model.to(device)\n",
    "criterion = criterion.to(device)\n",
    "\n",
    "for i in range(len(selected_clients)):\n",
    "    \n",
    "    for inputs, targets, sens in list_loaded_client_data[i]:\n",
    "        inputs, targets = inputs.to(device), targets.to(device)\n",
    "        \n",
    "        outputs = model(inputs)\n",
    "        loss += criterion(outputs, targets)\n",
    "        predicted = outputs > 0.5\n",
    "\n",
    "        predicted_labels.extend(predicted.cpu().numpy())\n",
    "        true_labels.extend(targets.cpu().numpy())\n",
    "        \n",
    "        total += targets.size(0)\n",
    "        correct += (predicted == targets).sum().item()\n",
    "    \n",
    "    loss = loss / len(list_loaded_client_data[i])\n",
    "    acc = correct / total\n",
    "    \n",
    "    precision = precision_score(true_labels, predicted_labels, zero_division=0.0)\n",
    "    recall = recall_score(true_labels, predicted_labels,average='binary')\n",
    "\n",
    "    \n",
    "    print(\"subG name  is \",client_names[i])\n",
    "    print(f\"Global Testing Accuracy: {acc:.5%}\")\n",
    "    print(f\"Global Precision: {precision:.5%}\")\n",
    "    print(f\"Global Recall: {recall:.5%}\")\n",
    "    print(\"\\n\")\n",
    "\n",
    "    data = {\n",
    "        'SubG': client_names[i],\n",
    "        'Accuracy': acc,\n",
    "        'Precision': precision,\n",
    "        'Recall':recall,\n",
    "        }\n",
    "    client_metrics.append(data)\n",
    "\n",
    "df_ff = pd.DataFrame(client_metrics)\n",
    "df_ff\n"
   ]
  },
  {
   "cell_type": "code",
   "execution_count": null,
   "id": "a8fd0e55-2e4f-485c-8b51-fa967ba657d9",
   "metadata": {},
   "outputs": [],
   "source": []
  },
  {
   "cell_type": "markdown",
   "id": "bd3f6f5e-c829-48fd-8d6d-3943ac220ece",
   "metadata": {},
   "source": [
    "# FedAVG"
   ]
  },
  {
   "cell_type": "code",
   "execution_count": 11,
   "id": "1c6fdbdb-c04e-4a4a-a595-c0f409c13045",
   "metadata": {},
   "outputs": [
    {
     "name": "stdout",
     "output_type": "stream",
     "text": [
      "subG name  is  WM\n",
      "Global Testing Accuracy: 82.41673%\n",
      "Global Precision: 83.61390%\n",
      "Global Recall: 77.93243%\n",
      "\n",
      "\n",
      "\n",
      "subG name  is  BM\n",
      "Global Testing Accuracy: 82.15975%\n",
      "Global Precision: 81.46912%\n",
      "Global Recall: 76.73760%\n",
      "\n",
      "\n",
      "\n",
      "subG name  is  WW\n",
      "Global Testing Accuracy: 80.28130%\n",
      "Global Precision: 74.41050%\n",
      "Global Recall: 78.80913%\n",
      "\n",
      "\n",
      "\n",
      "subG name  is  BW\n",
      "Global Testing Accuracy: 80.16627%\n",
      "Global Precision: 73.97686%\n",
      "Global Recall: 78.77028%\n",
      "\n",
      "\n",
      "\n"
     ]
    },
    {
     "data": {
      "text/html": [
       "<div>\n",
       "<style scoped>\n",
       "    .dataframe tbody tr th:only-of-type {\n",
       "        vertical-align: middle;\n",
       "    }\n",
       "\n",
       "    .dataframe tbody tr th {\n",
       "        vertical-align: top;\n",
       "    }\n",
       "\n",
       "    .dataframe thead th {\n",
       "        text-align: right;\n",
       "    }\n",
       "</style>\n",
       "<table border=\"1\" class=\"dataframe\">\n",
       "  <thead>\n",
       "    <tr style=\"text-align: right;\">\n",
       "      <th></th>\n",
       "      <th>SubG</th>\n",
       "      <th>Accuracy</th>\n",
       "      <th>Precision</th>\n",
       "      <th>Recall</th>\n",
       "    </tr>\n",
       "  </thead>\n",
       "  <tbody>\n",
       "    <tr>\n",
       "      <th>0</th>\n",
       "      <td>WM</td>\n",
       "      <td>0.824167</td>\n",
       "      <td>0.836139</td>\n",
       "      <td>0.779324</td>\n",
       "    </tr>\n",
       "    <tr>\n",
       "      <th>1</th>\n",
       "      <td>BM</td>\n",
       "      <td>0.821598</td>\n",
       "      <td>0.814691</td>\n",
       "      <td>0.767376</td>\n",
       "    </tr>\n",
       "    <tr>\n",
       "      <th>2</th>\n",
       "      <td>WW</td>\n",
       "      <td>0.802813</td>\n",
       "      <td>0.744105</td>\n",
       "      <td>0.788091</td>\n",
       "    </tr>\n",
       "    <tr>\n",
       "      <th>3</th>\n",
       "      <td>BW</td>\n",
       "      <td>0.801663</td>\n",
       "      <td>0.739769</td>\n",
       "      <td>0.787703</td>\n",
       "    </tr>\n",
       "  </tbody>\n",
       "</table>\n",
       "</div>"
      ],
      "text/plain": [
       "  SubG  Accuracy  Precision    Recall\n",
       "0   WM  0.824167   0.836139  0.779324\n",
       "1   BM  0.821598   0.814691  0.767376\n",
       "2   WW  0.802813   0.744105  0.788091\n",
       "3   BW  0.801663   0.739769  0.787703"
      ]
     },
     "execution_count": 11,
     "metadata": {},
     "output_type": "execute_result"
    }
   ],
   "source": [
    "import torch\n",
    "\n",
    "size = 0\n",
    "loss = 0\n",
    "correct = 0\n",
    "total = 0\n",
    "predicted_labels = []\n",
    "true_labels = []\n",
    "final_fairness = []\n",
    "selected_clients = [0, 1, 2, 3]\n",
    "\n",
    "path_2=\"/home/chiragapandav/Downloads/Hiwi/Improving-Fairness-via-Federated-Learning/FedFB/testing_models/global_model_FA.pt\"\n",
    "diff_path=\"/home/chiragapandav/Downloads/Hiwi/pFedLA_Folktable/temp/my_model/global_model.pt\"\n",
    "\n",
    "\n",
    "model=DeepNet()\n",
    "model.load_state_dict(torch.load(path_2))\n",
    "model.eval()\n",
    "client_metrics=[]\n",
    "\n",
    "# Assuming model and criterion are already defined and loaded onto the GPU\n",
    "model = model.to(device)\n",
    "criterion = criterion.to(device)\n",
    "\n",
    "for i in range(len(selected_clients)):\n",
    "    for inputs, targets, sens in  list_loaded_client_data[i]:\n",
    "        inputs, targets = inputs.to(device), targets.to(device)\n",
    "        \n",
    "        outputs = model(inputs)\n",
    "        loss += criterion(outputs, targets)\n",
    "        predicted = outputs > 0.5\n",
    "\n",
    "        predicted_labels.extend(predicted.cpu().numpy())\n",
    "        true_labels.extend(targets.cpu().numpy())\n",
    "        \n",
    "        total += targets.size(0)\n",
    "        correct += (predicted == targets).sum().item()\n",
    "    \n",
    "    loss = loss / len(list_loaded_client_data[i])\n",
    "    acc = correct / total\n",
    "    \n",
    "    precision = precision_score(true_labels, predicted_labels, zero_division=0.0)\n",
    "    recall = recall_score(true_labels, predicted_labels,average='binary')\n",
    "\n",
    "    print(\"subG name  is \",client_names[i])\n",
    "    print(f\"Global Testing Accuracy: {acc:.5%}\")\n",
    "    print(f\"Global Precision: {precision:.5%}\")\n",
    "    print(f\"Global Recall: {recall:.5%}\")\n",
    "    print(\"\\n\\n\")\n",
    "    \n",
    "    data = {\n",
    "        'SubG': client_names[i],\n",
    "        'Accuracy': acc,\n",
    "        'Precision': precision,\n",
    "        'Recall':recall,\n",
    "        }\n",
    "    client_metrics.append(data)\n",
    "\n",
    "df_FA = pd.DataFrame(client_metrics)\n",
    "df_FA"
   ]
  },
  {
   "cell_type": "code",
   "execution_count": null,
   "id": "cbdd197d-35eb-48a6-a792-22de4a932ceb",
   "metadata": {},
   "outputs": [],
   "source": []
  },
  {
   "cell_type": "markdown",
   "id": "79d2d826-e154-4f1c-a5f1-9e0fbe06808b",
   "metadata": {},
   "source": [
    "# classical model"
   ]
  },
  {
   "cell_type": "code",
   "execution_count": 12,
   "id": "d65bfedb-e610-424d-9ed2-dc9b661993f4",
   "metadata": {},
   "outputs": [],
   "source": [
    " \n",
    "class DeepNet(nn.Module):\n",
    "    def __init__(self):\n",
    "        super().__init__()\n",
    "        # 14 : input shape\n",
    "        # 9-> we have 9 columns in data \n",
    "        self.layer1 = nn.Linear(14, 512)\n",
    "        self.act1 = nn.ReLU()\n",
    "        self.dropout1 = nn.Dropout(p=0.5)\n",
    "        self.layer2 = nn.Linear(512, 256)\n",
    "        self.act2 = nn.ReLU()\n",
    "        self.layer3 = nn.Linear(256, 60)\n",
    "        self.act3 = nn.ReLU()\n",
    "        self.output = nn.Linear(60, 1)\n",
    "        self.sigmoid = nn.Sigmoid()\n",
    "\n",
    "    def forward(self, x):\n",
    "        x = self.act1(self.layer1(x))\n",
    "        x = self.dropout1(x)\n",
    "        x = self.act2(self.layer2(x))\n",
    "        x = self.act3(self.layer3(x))\n",
    "        x = self.sigmoid(self.output(x))\n",
    "        return x\n"
   ]
  },
  {
   "cell_type": "code",
   "execution_count": null,
   "id": "ee82966a-166c-4490-85ad-8c36ce45373d",
   "metadata": {},
   "outputs": [],
   "source": []
  },
  {
   "cell_type": "code",
   "execution_count": 13,
   "id": "d3a86dcf-7e48-47da-8dde-f26fbfafead2",
   "metadata": {},
   "outputs": [],
   "source": [
    "temp_path_data=\"/home/chiragapandav/Downloads/Hiwi/Improving-Fairness-via-Federated-Learning/FedFB/\"\n",
    "\n",
    "with open(temp_path_data+\"/Normal_training_data.pkl\", \"rb\") as f:\n",
    "    nor_trainData = pickle.load(f)"
   ]
  },
  {
   "cell_type": "code",
   "execution_count": 14,
   "id": "8768ab21-e9fe-43e9-8883-9e247b4190f5",
   "metadata": {},
   "outputs": [],
   "source": [
    "device = torch.device(\"cuda\" if torch.cuda.is_available() else \"cpu\")        \n",
    "\n",
    "criterion = nn.BCELoss()\n",
    "optimizer = optim.Adam(model.parameters(), lr=0.001)\n",
    "model=DeepNet()\n",
    "\n",
    "model = model.to(device)\n",
    "criterion = criterion.to(device)"
   ]
  },
  {
   "cell_type": "code",
   "execution_count": 15,
   "id": "59852a74-e478-455f-8748-9e84a393aa4e",
   "metadata": {},
   "outputs": [],
   "source": [
    "# num_epochs=10\n",
    "# for epoch in range(num_epochs):\n",
    "#     # Set the model to training mode\n",
    "#     model.train()\n",
    "\n",
    "#     for inputs, labels, sens in nor_trainData:\n",
    "        \n",
    "#         inputs, labels = inputs.to(device), labels.to(device)\n",
    "#         optimizer.zero_grad()\n",
    "#         outputs = model(inputs).to(device)\n",
    "#         loss = criterion(outputs, labels.float())\n",
    "#         loss.backward()\n",
    "#         optimizer.step()"
   ]
  },
  {
   "cell_type": "code",
   "execution_count": 16,
   "id": "57cd6a77-994a-4d08-9c93-f55db893b4dc",
   "metadata": {},
   "outputs": [],
   "source": [
    "torch.save(model.state_dict(), \"normal_model.pth\")"
   ]
  },
  {
   "cell_type": "code",
   "execution_count": 17,
   "id": "cd2e11c9-f21d-4b14-ab32-7d6decd27881",
   "metadata": {},
   "outputs": [
    {
     "name": "stdout",
     "output_type": "stream",
     "text": [
      "subG name  is  WM\n",
      "Global Testing Accuracy: 47.08932%\n",
      "Global Precision: 47.08932%\n",
      "Global Recall: 100.00000%\n",
      "\n",
      "\n",
      "\n",
      "subG name  is  BM\n",
      "Global Testing Accuracy: 43.81517%\n",
      "Global Precision: 43.81517%\n",
      "Global Recall: 100.00000%\n",
      "\n",
      "\n",
      "\n",
      "subG name  is  WW\n",
      "Global Testing Accuracy: 40.83134%\n",
      "Global Precision: 40.83134%\n",
      "Global Recall: 100.00000%\n",
      "\n",
      "\n",
      "\n",
      "subG name  is  BW\n",
      "Global Testing Accuracy: 40.52740%\n",
      "Global Precision: 40.52740%\n",
      "Global Recall: 100.00000%\n",
      "\n",
      "\n",
      "\n"
     ]
    },
    {
     "data": {
      "text/html": [
       "<div>\n",
       "<style scoped>\n",
       "    .dataframe tbody tr th:only-of-type {\n",
       "        vertical-align: middle;\n",
       "    }\n",
       "\n",
       "    .dataframe tbody tr th {\n",
       "        vertical-align: top;\n",
       "    }\n",
       "\n",
       "    .dataframe thead th {\n",
       "        text-align: right;\n",
       "    }\n",
       "</style>\n",
       "<table border=\"1\" class=\"dataframe\">\n",
       "  <thead>\n",
       "    <tr style=\"text-align: right;\">\n",
       "      <th></th>\n",
       "      <th>SubG</th>\n",
       "      <th>Accuracy</th>\n",
       "      <th>Precision</th>\n",
       "      <th>Recall</th>\n",
       "    </tr>\n",
       "  </thead>\n",
       "  <tbody>\n",
       "    <tr>\n",
       "      <th>0</th>\n",
       "      <td>WM</td>\n",
       "      <td>0.470893</td>\n",
       "      <td>0.470893</td>\n",
       "      <td>1.0</td>\n",
       "    </tr>\n",
       "    <tr>\n",
       "      <th>1</th>\n",
       "      <td>BM</td>\n",
       "      <td>0.438152</td>\n",
       "      <td>0.438152</td>\n",
       "      <td>1.0</td>\n",
       "    </tr>\n",
       "    <tr>\n",
       "      <th>2</th>\n",
       "      <td>WW</td>\n",
       "      <td>0.408313</td>\n",
       "      <td>0.408313</td>\n",
       "      <td>1.0</td>\n",
       "    </tr>\n",
       "    <tr>\n",
       "      <th>3</th>\n",
       "      <td>BW</td>\n",
       "      <td>0.405274</td>\n",
       "      <td>0.405274</td>\n",
       "      <td>1.0</td>\n",
       "    </tr>\n",
       "  </tbody>\n",
       "</table>\n",
       "</div>"
      ],
      "text/plain": [
       "  SubG  Accuracy  Precision  Recall\n",
       "0   WM  0.470893   0.470893     1.0\n",
       "1   BM  0.438152   0.438152     1.0\n",
       "2   WW  0.408313   0.408313     1.0\n",
       "3   BW  0.405274   0.405274     1.0"
      ]
     },
     "execution_count": 17,
     "metadata": {},
     "output_type": "execute_result"
    }
   ],
   "source": [
    "size = 0\n",
    "loss = 0\n",
    "correct = 0\n",
    "total = 0\n",
    "predicted_labels = []\n",
    "true_labels = []\n",
    "final_fairness = []\n",
    "selected_clients = [0, 1, 2, 3]\n",
    "\n",
    "model=DeepNet()\n",
    "model.load_state_dict(torch.load(\"normal_model.pth\"))\n",
    "model.eval()\n",
    "\n",
    "client_metrics=[]\n",
    "# Assuming model and criterion are already defined and loaded onto the GPU\n",
    "model = model.to(device)\n",
    "criterion = criterion.to(device)\n",
    "\n",
    "for i in range(len(selected_clients)):\n",
    "    for inputs, targets, sens in list_loaded_client_data[i]:\n",
    "        inputs, targets = inputs.to(device), targets.to(device)\n",
    "        \n",
    "        outputs = model(inputs)\n",
    "        loss += criterion(outputs, targets)\n",
    "        predicted = outputs > 0.5\n",
    "\n",
    "        predicted_labels.extend(predicted.cpu().numpy())\n",
    "        true_labels.extend(targets.cpu().numpy())\n",
    "        \n",
    "        total += targets.size(0)\n",
    "        correct += (predicted == targets).sum().item()\n",
    "    \n",
    "    loss = loss / len(list_loaded_client_data[i])\n",
    "    acc = correct / total\n",
    "    \n",
    "    precision = precision_score(true_labels, predicted_labels, zero_division=0.0)\n",
    "    recall = recall_score(true_labels, predicted_labels,average='binary')\n",
    "\n",
    "    print(\"subG name  is \",client_names[i])\n",
    "    print(f\"Global Testing Accuracy: {acc:.5%}\")\n",
    "    print(f\"Global Precision: {precision:.5%}\")\n",
    "    print(f\"Global Recall: {recall:.5%}\")\n",
    "    print(\"\\n\\n\")\n",
    "\n",
    "    data = {\n",
    "        'SubG': client_names[i],\n",
    "        'Accuracy': acc,\n",
    "        'Precision': precision,\n",
    "        'Recall':recall,\n",
    "        }\n",
    "    client_metrics.append(data)\n",
    "\n",
    "df_CD = pd.DataFrame(client_metrics)\n",
    "df_CD"
   ]
  },
  {
   "cell_type": "code",
   "execution_count": 18,
   "id": "dc54559d-c184-4ade-949d-b0d4a4190cb0",
   "metadata": {},
   "outputs": [
    {
     "data": {
      "image/png": "[encoded data removed]",
      "text/plain": [
       "<Figure size 800x400 with 1 Axes>"
      ]
     },
     "metadata": {},
     "output_type": "display_data"
    }
   ],
   "source": [
    "\n",
    "colors = ['b', 'g', 'r', 'c']\n",
    "\n",
    "fig, ax = plt.subplots(figsize=(8, 4))\n",
    "\n",
    "for i, client in enumerate(df_ff['SubG']):\n",
    "    ax.scatter(client, df_ff['Accuracy'][i], c=colors[i], marker='o', label=f'subG_{client} - Accuracy')\n",
    "\n",
    "for i, client in enumerate(df_ff['SubG']):\n",
    "    ax.scatter(client, df_ff['Recall'][i], c=colors[i], marker='x', label=f'subG_{client} - TPR')\n",
    "\n",
    "ax.set_xlabel('SubG')\n",
    "ax.set_ylabel('Value')\n",
    "ax.set_title('FairFed: Accuracy and (TPR)')\n",
    "ax.legend()\n",
    "\n",
    "plt.grid(True)\n",
    "plt.show()"
   ]
  },
  {
   "cell_type": "code",
   "execution_count": 19,
   "id": "2ba3349a-db9f-4f99-b5e2-638f0d6f17ff",
   "metadata": {},
   "outputs": [
    {
     "data": {
      "image/png": "[encoded data removed]",
      "text/plain": [
       "<Figure size 800x400 with 1 Axes>"
      ]
     },
     "metadata": {},
     "output_type": "display_data"
    }
   ],
   "source": [
    "\n",
    "colors = ['b', 'g', 'r', 'c']\n",
    "\n",
    "fig, ax = plt.subplots(figsize=(8, 4))\n",
    "\n",
    "for i, client in enumerate(df_FA['SubG']):\n",
    "    ax.scatter(client, df_FA['Accuracy'][i], c=colors[i], marker='o', label=f'SubG_{client} - Accuracy')\n",
    "\n",
    "for i, client in enumerate(df_FA['SubG']):\n",
    "    ax.scatter(client, df_FA['Recall'][i], c=colors[i], marker='x', label=f'SubG_{client} - TPR')\n",
    "\n",
    "ax.set_xlabel('SubG')\n",
    "ax.set_ylabel('Value')\n",
    "ax.set_title('FedAVG: Accuracy and (TPR)')\n",
    "ax.legend()\n",
    "\n",
    "plt.grid(True)\n",
    "plt.show()"
   ]
  },
  {
   "cell_type": "code",
   "execution_count": 20,
   "id": "932d0839-9b7b-4117-8bb0-cc7bf67e30f5",
   "metadata": {},
   "outputs": [
    {
     "data": {
      "image/png": "[encoded data removed]",
      "text/plain": [
       "<Figure size 800x400 with 1 Axes>"
      ]
     },
     "metadata": {},
     "output_type": "display_data"
    }
   ],
   "source": [
    "\n",
    "colors = ['b', 'g', 'r', 'c']\n",
    "\n",
    "fig, ax = plt.subplots(figsize=(8, 4))\n",
    "\n",
    "for i, client in enumerate(df_CD['SubG']):\n",
    "    ax.scatter(client, df_CD['Accuracy'][i], c=colors[i], marker='o', label=f'SubG_{client} - Accuracy')\n",
    "\n",
    "for i, client in enumerate(df_CD['SubG']):\n",
    "    ax.scatter(client, df_CD['Recall'][i], c=colors[i], marker='x', label=f'SubG_{client} - TPR')\n",
    "\n",
    "ax.set_xlabel('SubG')\n",
    "ax.set_ylabel('Value')\n",
    "ax.set_title('Classical_DL: Accuracy and (TPR)')\n",
    "ax.legend()\n",
    "\n",
    "plt.grid(True)\n",
    "plt.show()"
   ]
  },
  {
   "cell_type": "code",
   "execution_count": null,
   "id": "33506c17-5843-4429-894c-60b413b7270b",
   "metadata": {},
   "outputs": [],
   "source": []
  },
  {
   "cell_type": "code",
   "execution_count": 21,
   "id": "5fd3519e-d3ea-4289-a5a5-d94d302f95eb",
   "metadata": {},
   "outputs": [
    {
     "data": {
      "image/png": "[encoded data removed]",
      "text/plain": [
       "<Figure size 640x480 with 1 Axes>"
      ]
     },
     "metadata": {},
     "output_type": "display_data"
    }
   ],
   "source": [
    "import matplotlib.pyplot as plt\n",
    "\n",
    "# Data\n",
    "client_names = ['Client 1', 'Client 2', 'Client 3', 'Client 4']\n",
    "data_sizes = [27424, 28685, 39815, 40480]\n",
    "\n",
    "# Dictionary to map old names to new names\n",
    "name_mapping = {\n",
    "    'Client 1': 'WM_BM_BW',\n",
    "    'Client 2': 'WW_BW_BM',\n",
    "    'Client 3': 'BM_WM_WW',\n",
    "    'Client 4': 'WW_WM_BW'\n",
    "}\n",
    "\n",
    "client_names = [name_mapping[name] for name in client_names]\n",
    "\n",
    "# Create a bar chart\n",
    "plt.bar(client_names, data_sizes, color=['blue', 'green', 'red', 'purple'])\n",
    "plt.xlabel('Client')\n",
    "plt.ylabel('Data Size')\n",
    "plt.title('Data Size for Each Client')\n",
    "plt.xticks(rotation=45)  # Rotate x-axis labels for better visibility\n",
    "plt.show()\n"
   ]
  },
  {
   "cell_type": "markdown",
   "id": "dddf64ef-83e6-4ed8-ad32-109430a3fb87",
   "metadata": {},
   "source": [
    "# individual client performance\n",
    "\n",
    "Generated using random split (fairFed)"
   ]
  },
  {
   "cell_type": "code",
   "execution_count": 22,
   "id": "818a1cdb-b660-4500-ad1b-aec2303ae1c7",
   "metadata": {},
   "outputs": [],
   "source": [
    "# these are generated with fairfed"
   ]
  },
  {
   "cell_type": "code",
   "execution_count": 23,
   "id": "b36fa913-15eb-40ea-9370-8165c0ae5bd8",
   "metadata": {},
   "outputs": [],
   "source": [
    "temp_path_data=\"/home/chiragapandav/Downloads/Hiwi/Improving-Fairness-via-Federated-Learning/FedFB/data_fairFed\"\n",
    "\n",
    " \n",
    "with open(temp_path_data+\"/clients_testing_wrong.pkl\", \"rb\") as f:\n",
    "    testset  = pickle.load(f)\n",
    "\n",
    "     \n",
    "# testset = testset[client_id]"
   ]
  },
  {
   "cell_type": "code",
   "execution_count": null,
   "id": "df70912f-cc47-4d55-808f-84ec71a9e1a7",
   "metadata": {},
   "outputs": [],
   "source": []
  },
  {
   "cell_type": "code",
   "execution_count": 24,
   "id": "f5f51fe0-7a4b-48d7-b511-f6d371edbc55",
   "metadata": {},
   "outputs": [
    {
     "name": "stdout",
     "output_type": "stream",
     "text": [
      "client:: 0\n",
      "Global Testing Accuracy: 79.69697%\n",
      "Global Precision: 77.77778%\n",
      "Global Recall: 60.07304%\n",
      "\n",
      "\n",
      "\n",
      "client:: 1\n",
      "Global Testing Accuracy: 79.58478%\n",
      "Global Precision: 73.75396%\n",
      "Global Recall: 68.92838%\n",
      "\n",
      "\n",
      "\n",
      "client:: 2\n",
      "Global Testing Accuracy: 80.64834%\n",
      "Global Precision: 80.87087%\n",
      "Global Recall: 72.43093%\n",
      "\n",
      "\n",
      "\n",
      "client:: 3\n",
      "Global Testing Accuracy: 79.75080%\n",
      "Global Precision: 75.85665%\n",
      "Global Recall: 74.47964%\n",
      "\n",
      "\n",
      "\n"
     ]
    },
    {
     "data": {
      "text/html": [
       "<div>\n",
       "<style scoped>\n",
       "    .dataframe tbody tr th:only-of-type {\n",
       "        vertical-align: middle;\n",
       "    }\n",
       "\n",
       "    .dataframe tbody tr th {\n",
       "        vertical-align: top;\n",
       "    }\n",
       "\n",
       "    .dataframe thead th {\n",
       "        text-align: right;\n",
       "    }\n",
       "</style>\n",
       "<table border=\"1\" class=\"dataframe\">\n",
       "  <thead>\n",
       "    <tr style=\"text-align: right;\">\n",
       "      <th></th>\n",
       "      <th>Client ID</th>\n",
       "      <th>Accuracy</th>\n",
       "      <th>Precision</th>\n",
       "      <th>Recall</th>\n",
       "    </tr>\n",
       "  </thead>\n",
       "  <tbody>\n",
       "    <tr>\n",
       "      <th>0</th>\n",
       "      <td>0</td>\n",
       "      <td>0.796970</td>\n",
       "      <td>0.777778</td>\n",
       "      <td>0.600730</td>\n",
       "    </tr>\n",
       "    <tr>\n",
       "      <th>1</th>\n",
       "      <td>1</td>\n",
       "      <td>0.795848</td>\n",
       "      <td>0.737540</td>\n",
       "      <td>0.689284</td>\n",
       "    </tr>\n",
       "    <tr>\n",
       "      <th>2</th>\n",
       "      <td>2</td>\n",
       "      <td>0.806483</td>\n",
       "      <td>0.808709</td>\n",
       "      <td>0.724309</td>\n",
       "    </tr>\n",
       "    <tr>\n",
       "      <th>3</th>\n",
       "      <td>3</td>\n",
       "      <td>0.797508</td>\n",
       "      <td>0.758566</td>\n",
       "      <td>0.744796</td>\n",
       "    </tr>\n",
       "  </tbody>\n",
       "</table>\n",
       "</div>"
      ],
      "text/plain": [
       "   Client ID  Accuracy  Precision    Recall\n",
       "0          0  0.796970   0.777778  0.600730\n",
       "1          1  0.795848   0.737540  0.689284\n",
       "2          2  0.806483   0.808709  0.724309\n",
       "3          3  0.797508   0.758566  0.744796"
      ]
     },
     "execution_count": 24,
     "metadata": {},
     "output_type": "execute_result"
    }
   ],
   "source": [
    "import torch\n",
    "\n",
    "size = 0\n",
    "loss = 0\n",
    "correct = 0\n",
    "total = 0\n",
    "predicted_labels = []\n",
    "true_labels = []\n",
    "final_fairness = []\n",
    "selected_clients = [0, 1, 2, 3]\n",
    "\n",
    "model=DeepNet()\n",
    "\n",
    "models_directory = \"/home/chiragapandav/Downloads/Hiwi/Improving-Fairness-via-Federated-Learning/FedFB/models/\"\n",
    "\n",
    "client_metrics=[]\n",
    "# Assuming model and criterion are already defined and loaded onto the GPU\n",
    "\n",
    "criterion = criterion.to(device)\n",
    "\n",
    "for i in range(len(selected_clients)):\n",
    "    model_path = os.path.join(models_directory, f\"client_{i}_model.pth\")  \n",
    "    model.load_state_dict(torch.load(model_path,map_location=device))\n",
    "    model.eval()\n",
    "    print(\"client::\",i)\n",
    "    model = model.to(device)\n",
    "    for inputs, targets, sens in testset[i]:\n",
    "        inputs, targets = inputs.to(device), targets.to(device)\n",
    "        \n",
    "        outputs = model(inputs)\n",
    "        loss += criterion(outputs, targets)\n",
    "        predicted = outputs > 0.5\n",
    "\n",
    "        predicted_labels.extend(predicted.cpu().numpy())\n",
    "        true_labels.extend(targets.cpu().numpy())\n",
    "        \n",
    "        total += targets.size(0)\n",
    "        correct += (predicted == targets).sum().item()\n",
    "    \n",
    "    loss = loss / len(testset)\n",
    "    acc = correct / total\n",
    "    \n",
    "    precision = precision_score(true_labels, predicted_labels, zero_division=0.0)\n",
    "    recall = recall_score(true_labels, predicted_labels)\n",
    "    \n",
    "    print(f\"Global Testing Accuracy: {acc:.5%}\")\n",
    "    print(f\"Global Precision: {precision:.5%}\")\n",
    "    print(f\"Global Recall: {recall:.5%}\")\n",
    "    print(\"\\n\\n\")\n",
    "\n",
    "    data = {\n",
    "        'Client ID': i,\n",
    "        'Accuracy': acc,\n",
    "        'Precision': precision,\n",
    "        'Recall':recall,\n",
    "        }\n",
    "    client_metrics.append(data)\n",
    "\n",
    "df_CD = pd.DataFrame(client_metrics)\n",
    "df_CD"
   ]
  },
  {
   "cell_type": "code",
   "execution_count": 22,
   "id": "c82cabe2-7769-4017-ac87-2c9aa03ee11b",
   "metadata": {},
   "outputs": [
    {
     "data": {
      "image/png": "[encoded data removed]",
      "text/plain": [
       "<Figure size 800x400 with 1 Axes>"
      ]
     },
     "metadata": {},
     "output_type": "display_data"
    }
   ],
   "source": [
    "\n",
    "colors = ['b', 'g', 'r', 'c']\n",
    "\n",
    "fig, ax = plt.subplots(figsize=(8, 4))\n",
    "\n",
    "for i, client in enumerate(df_CD['Client ID']):\n",
    "    ax.scatter(client, df_CD['Accuracy'][i], c=colors[i], marker='o', label=f'Client {client} - Accuracy')\n",
    "\n",
    "for i, client in enumerate(df_CD['Client ID']):\n",
    "    ax.scatter(client, df_CD['Recall'][i], c=colors[i], marker='x', label=f'Client {client} - TPR')\n",
    "\n",
    "ax.set_xlabel('Client ID')\n",
    "ax.set_ylabel('Value')\n",
    "ax.set_title('individual client performance: Accuracy and (TPR)')\n",
    "ax.legend()\n",
    "\n",
    "plt.grid(True)\n",
    "plt.show()"
   ]
  },
  {
   "cell_type": "code",
   "execution_count": null,
   "id": "734a42c4-298d-44a0-ad30-554a8d27b78a",
   "metadata": {},
   "outputs": [],
   "source": []
  },
  {
   "cell_type": "code",
   "execution_count": null,
   "id": "f84e9d67-0da7-47b8-b69a-7dfdce596ca5",
   "metadata": {},
   "outputs": [],
   "source": []
  },
  {
   "cell_type": "code",
   "execution_count": null,
   "id": "b7858821-b0f2-41a8-8e86-5541a620735d",
   "metadata": {},
   "outputs": [],
   "source": []
  },
  {
   "cell_type": "code",
   "execution_count": null,
   "id": "3a3d41be-5a51-47a0-b9b2-0f198a048353",
   "metadata": {},
   "outputs": [],
   "source": []
  },
  {
   "cell_type": "code",
   "execution_count": null,
   "id": "a55313aa-7f20-4c03-9081-c6f84faebfcb",
   "metadata": {},
   "outputs": [],
   "source": []
  }
 ],
 "metadata": {
  "kernelspec": {
   "display_name": "Python 3 (ipykernel)",
   "language": "python",
   "name": "python3"
  },
  "language_info": {
   "codemirror_mode": {
    "name": "ipython",
    "version": 3
   },
   "file_extension": ".py",
   "mimetype": "text/x-python",
   "name": "python",
   "nbconvert_exporter": "python",
   "pygments_lexer": "ipython3",
   "version": "3.10.12"
  }
 },
 "nbformat": 4,
 "nbformat_minor": 5
}
