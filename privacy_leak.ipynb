{
 "cells": [
  {
   "cell_type": "code",
   "execution_count": 1,
   "id": "ac152d18-0a30-498d-92b1-18ae4ec97b56",
   "metadata": {},
   "outputs": [],
   "source": [
    "# !pip install dataframe-image"
   ]
  },
  {
   "cell_type": "code",
   "execution_count": 2,
   "id": "cb43cf5c-3b23-4b58-afe4-fe0e237381e6",
   "metadata": {},
   "outputs": [],
   "source": [
    "import pandas as pd\n",
    "import time\n",
    "import numpy as np\n",
    "import copy\n",
    "import glob\n",
    "import sys, os\n",
    "import os\n",
    "import shutil\n",
    "import dataframe_image as dfi\n",
    "import torch\n",
    "import torch.nn as nn\n",
    "import torch.utils.data as data_utils\n",
    "from sklearn.metrics import precision_score, recall_score\n",
    "import pickle\n",
    "from sklearn import preprocessing\n",
    "import torch.optim as optim\n",
    "from sklearn.preprocessing import LabelEncoder\n",
    "from sklearn.model_selection import train_test_split\n",
    "from folktables import ACSDataSource, ACSEmployment,ACSIncome\n",
    "import matplotlib.pyplot as plt\n",
    "import torch.nn.functional as F\n",
    "from tqdm import tqdm\n",
    "from sklearn.metrics import roc_curve\n",
    "from sklearn.model_selection import StratifiedKFold, train_test_split\n",
    "from torchvision import models\n",
    "from torchsummary import summary\n",
    "from torch.utils.data import Dataset, DataLoader\n",
    "from sklearn.metrics import accuracy_score\n",
    "import os\n",
    "from torch.utils.data import Dataset\n",
    "import numpy as np\n",
    "import torch.nn.functional as F\n",
    "import pandas as pd\n",
    "from scipy.stats import multivariate_normal\n",
    "import torch, random, copy, os\n",
    "from collections import OrderedDict\n"
   ]
  },
  {
   "cell_type": "code",
   "execution_count": 3,
   "id": "39a4ba92-f3de-4e75-8b99-131605d67206",
   "metadata": {},
   "outputs": [
    {
     "name": "stdout",
     "output_type": "stream",
     "text": [
      "CUDA is available.\n"
     ]
    }
   ],
   "source": [
    "if torch.cuda.is_available():\n",
    "    print(\"CUDA is available.\")\n",
    "else:\n",
    "    # CUDA is not available\n",
    "    print(\"CUDA is not available. Running on CPU.\")\n"
   ]
  },
  {
   "cell_type": "code",
   "execution_count": 4,
   "id": "2d7662e0-87d0-42d3-9a90-2b6ad4194d75",
   "metadata": {},
   "outputs": [],
   "source": [
    " class DeepNet(nn.Module):\n",
    "    def __init__(self):\n",
    "        super().__init__()\n",
    "        # 14 : input shape\n",
    "        # 9-> we have 9 columns in data \n",
    "        self.layer1 = nn.Linear(14, 512)\n",
    "        self.act1 = nn.ReLU()\n",
    "        self.dropout1 = nn.Dropout(p=0.5)\n",
    "        self.layer2 = nn.Linear(512, 256)\n",
    "        self.act2 = nn.ReLU()\n",
    "        self.layer3 = nn.Linear(256, 60)\n",
    "        self.act3 = nn.ReLU()\n",
    "        self.output = nn.Linear(60, 1)\n",
    "        self.sigmoid = nn.Sigmoid()\n",
    "\n",
    "    def forward(self, x):\n",
    "        x = self.act1(self.layer1(x))\n",
    "        x = self.dropout1(x)\n",
    "        x = self.act2(self.layer2(x))\n",
    "        x = self.act3(self.layer3(x))\n",
    "        x = self.sigmoid(self.output(x))\n",
    "        return x\n",
    "\n"
   ]
  },
  {
   "cell_type": "code",
   "execution_count": null,
   "id": "4899c0f4-fce2-4835-bf39-c4533a47199d",
   "metadata": {},
   "outputs": [],
   "source": []
  },
  {
   "cell_type": "code",
   "execution_count": 5,
   "id": "3b8eb8e4-6706-4a86-80a3-b8ffe6b5881a",
   "metadata": {},
   "outputs": [],
   "source": [
    "\n",
    "path_1=\"/home/chiragpandav/chirag/FL/FedFB/testing_models/global_model_FF.pt\"\n",
    "path_1_random=\"/home/chiragpandav/chirag/FL/FedFB/testing_models/global_model_FF_random.pt\"\n",
    "path_2=\"/home/chiragpandav/chirag/FL/FedFB/testing_models/global_model_FA.pt\"\n",
    "path_3=\"/home/chiragpandav/chirag/FL/FedFB/testing_models/global_model_FF_OE.pt\" "
   ]
  },
  {
   "cell_type": "code",
   "execution_count": null,
   "id": "316f643d-18f3-4419-a3c6-dfe5c206c159",
   "metadata": {},
   "outputs": [],
   "source": []
  },
  {
   "cell_type": "markdown",
   "id": "03f7595b-c7eb-4845-8bf3-d4d2e55490c6",
   "metadata": {},
   "source": [
    "# Testing on SubGroup\n",
    "1. BM\n",
    "2. BW\n",
    "3. WM\n",
    "4. WW"
   ]
  },
  {
   "cell_type": "code",
   "execution_count": 6,
   "id": "18f1a976-cc7e-47bf-b265-207eaa2a6bf3",
   "metadata": {},
   "outputs": [
    {
     "data": {
      "text/plain": [
       "'/home/chiragpandav/chirag/FL/FedFB'"
      ]
     },
     "execution_count": 6,
     "metadata": {},
     "output_type": "execute_result"
    }
   ],
   "source": [
    "os.getcwd()"
   ]
  },
  {
   "cell_type": "code",
   "execution_count": null,
   "id": "7cb8ce80-283a-41d9-b4cf-198de525b086",
   "metadata": {},
   "outputs": [],
   "source": []
  },
  {
   "cell_type": "code",
   "execution_count": 7,
   "id": "4d285138-3ca5-4bc4-898c-fe0bb629a104",
   "metadata": {},
   "outputs": [
    {
     "name": "stdout",
     "output_type": "stream",
     "text": [
      "name of subG::  WM_client_0_data.pkl\n",
      "name of subG::  BM_client_1_data.pkl\n",
      "name of subG::  WW_client_2_data.pkl\n",
      "name of subG::  BW_client_3_data.pkl\n"
     ]
    }
   ],
   "source": [
    "#Loading Sub_group data\n",
    "path = \"/home/chiragpandav/chirag/FL/FedFB/data_subG/\"\n",
    "client_names = [\"WM\", \"BM\", \"WW\", \"BW\"]\n",
    "list_loaded_client_data = []\n",
    "\n",
    "for i, client_name in enumerate(client_names):\n",
    "    client_filename = f\"{client_name}_client_{i}_data.pkl\"\n",
    "    print(\"name of subG:: \",client_filename)\n",
    "    full_path = os.path.join(path, client_filename)\n",
    "\n",
    "    with open(full_path, \"rb\") as f:\n",
    "        client_data = pickle.load(f)\n",
    "        list_loaded_client_data.append(client_data)"
   ]
  },
  {
   "cell_type": "code",
   "execution_count": null,
   "id": "55895291-6978-469a-af45-7ca714b84547",
   "metadata": {},
   "outputs": [],
   "source": []
  },
  {
   "cell_type": "code",
   "execution_count": null,
   "id": "d6e9c921-d0b6-4e9f-9490-0860a6702708",
   "metadata": {},
   "outputs": [],
   "source": []
  },
  {
   "cell_type": "code",
   "execution_count": 8,
   "id": "925bf4fe-b301-4522-ba14-58a667f5cbb6",
   "metadata": {},
   "outputs": [],
   "source": [
    "model=DeepNet()\n",
    "\n",
    "criterion = nn.BCELoss()\n",
    "optimizer = optim.Adam(model.parameters(), lr=0.001)\n",
    "device = torch.device(\"cuda\" if torch.cuda.is_available() else \"cpu\")        "
   ]
  },
  {
   "cell_type": "code",
   "execution_count": null,
   "id": "b778be3a-3872-4358-a4ed-bdf13dc10d47",
   "metadata": {},
   "outputs": [],
   "source": []
  },
  {
   "cell_type": "markdown",
   "id": "617ec986-dc7e-4057-8056-9bddd89353a8",
   "metadata": {},
   "source": [
    "# TPR info\n"
   ]
  },
  {
   "cell_type": "code",
   "execution_count": 9,
   "id": "48a3a366-c156-4f32-9148-797b307d9ca9",
   "metadata": {},
   "outputs": [],
   "source": [
    "# default: 'binary':\n",
    "# Only report results for the class specified by pos_label. This is applicable only if targets (y_{true, pred}) are binary.\n",
    "\n",
    "# https://scikit-learn.org/stable/modules/generated/sklearn.metrics.recall_score.html#:~: text=%27-,binary,-%27 %3A\n",
    "\n",
    "# We can set: micro, macro, weighted"
   ]
  },
  {
   "cell_type": "code",
   "execution_count": 10,
   "id": "8b4108e4-01ff-4841-96cf-ee6b4742b7ca",
   "metadata": {},
   "outputs": [
    {
     "data": {
      "text/plain": [
       "0.5"
      ]
     },
     "execution_count": 10,
     "metadata": {},
     "output_type": "execute_result"
    }
   ],
   "source": [
    "from sklearn.metrics import recall_score\n",
    "y_true = [0, 1, 1, 0, 1, 1]\n",
    "y_pred = [0, 0, 0, 0, 1, 1]\n",
    "recall_score(y_true, y_pred, average='binary')"
   ]
  },
  {
   "cell_type": "code",
   "execution_count": 11,
   "id": "15629481-3cf3-47a4-9ea2-296e454c0385",
   "metadata": {},
   "outputs": [
    {
     "name": "stdout",
     "output_type": "stream",
     "text": [
      "Recall: 0.5\n"
     ]
    }
   ],
   "source": [
    "true_positive = 0\n",
    "false_negative = 0\n",
    "\n",
    "for true_label, predicted_label in zip(y_true, y_pred):\n",
    "    if true_label == 1 and predicted_label == 1:\n",
    "        true_positive += 1\n",
    "    elif true_label == 1 and predicted_label == 0:\n",
    "        false_negative += 1\n",
    "\n",
    "test_recall = true_positive / (true_positive + false_negative)\n",
    "\n",
    "print(\"Recall:\", test_recall)"
   ]
  },
  {
   "cell_type": "code",
   "execution_count": null,
   "id": "c0af4cc4-6719-40a4-8aa9-0b00db0e7685",
   "metadata": {},
   "outputs": [],
   "source": []
  },
  {
   "cell_type": "code",
   "execution_count": null,
   "id": "d3bc7240-c89d-4561-a66f-ce3954dd0e35",
   "metadata": {},
   "outputs": [],
   "source": []
  },
  {
   "cell_type": "markdown",
   "id": "03a41907-063c-4137-8381-d2924405606d",
   "metadata": {},
   "source": [
    "# FAIR FED"
   ]
  },
  {
   "cell_type": "code",
   "execution_count": null,
   "id": "11d6d099-475e-43ad-815b-f0c05899c184",
   "metadata": {},
   "outputs": [],
   "source": []
  },
  {
   "cell_type": "code",
   "execution_count": 12,
   "id": "0e8544f5-aab5-48d8-b6d2-20688d1497be",
   "metadata": {},
   "outputs": [
    {
     "name": "stdout",
     "output_type": "stream",
     "text": [
      "subG name  is  WM\n",
      "Global Testing Accuracy: 83.65012%\n",
      "Global Precision: 85.11913%\n",
      "Global TPR: 79.10920%\n",
      "\n",
      "\n",
      "subG name  is  BM\n",
      "Global Testing Accuracy: 83.44128%\n",
      "Global Precision: 83.24742%\n",
      "Global TPR: 77.88028%\n",
      "\n",
      "\n",
      "subG name  is  WW\n",
      "Global Testing Accuracy: 81.45171%\n",
      "Global Precision: 75.89609%\n",
      "Global TPR: 79.97170%\n",
      "\n",
      "\n",
      "subG name  is  BW\n",
      "Global Testing Accuracy: 81.28574%\n",
      "Global Precision: 75.40992%\n",
      "Global TPR: 79.86650%\n",
      "\n",
      "\n"
     ]
    },
    {
     "data": {
      "text/html": [
       "<div>\n",
       "<style scoped>\n",
       "    .dataframe tbody tr th:only-of-type {\n",
       "        vertical-align: middle;\n",
       "    }\n",
       "\n",
       "    .dataframe tbody tr th {\n",
       "        vertical-align: top;\n",
       "    }\n",
       "\n",
       "    .dataframe thead th {\n",
       "        text-align: right;\n",
       "    }\n",
       "</style>\n",
       "<table border=\"1\" class=\"dataframe\">\n",
       "  <thead>\n",
       "    <tr style=\"text-align: right;\">\n",
       "      <th></th>\n",
       "      <th>SubG</th>\n",
       "      <th>Accuracy</th>\n",
       "      <th>Precision</th>\n",
       "      <th>TPR</th>\n",
       "    </tr>\n",
       "  </thead>\n",
       "  <tbody>\n",
       "    <tr>\n",
       "      <th>0</th>\n",
       "      <td>WM</td>\n",
       "      <td>0.836501</td>\n",
       "      <td>0.851191</td>\n",
       "      <td>0.791092</td>\n",
       "    </tr>\n",
       "    <tr>\n",
       "      <th>1</th>\n",
       "      <td>BM</td>\n",
       "      <td>0.834413</td>\n",
       "      <td>0.832474</td>\n",
       "      <td>0.778803</td>\n",
       "    </tr>\n",
       "    <tr>\n",
       "      <th>2</th>\n",
       "      <td>WW</td>\n",
       "      <td>0.814517</td>\n",
       "      <td>0.758961</td>\n",
       "      <td>0.799717</td>\n",
       "    </tr>\n",
       "    <tr>\n",
       "      <th>3</th>\n",
       "      <td>BW</td>\n",
       "      <td>0.812857</td>\n",
       "      <td>0.754099</td>\n",
       "      <td>0.798665</td>\n",
       "    </tr>\n",
       "  </tbody>\n",
       "</table>\n",
       "</div>"
      ],
      "text/plain": [
       "  SubG  Accuracy  Precision       TPR\n",
       "0   WM  0.836501   0.851191  0.791092\n",
       "1   BM  0.834413   0.832474  0.778803\n",
       "2   WW  0.814517   0.758961  0.799717\n",
       "3   BW  0.812857   0.754099  0.798665"
      ]
     },
     "execution_count": 12,
     "metadata": {},
     "output_type": "execute_result"
    }
   ],
   "source": [
    "model.load_state_dict(torch.load(path_1))\n",
    "# model.load_state_dict(torch.load(path_1_random))\n",
    "model.eval()\n",
    "\n",
    "size = 0\n",
    "loss = 0\n",
    "correct = 0\n",
    "total = 0\n",
    "predicted_labels = []\n",
    "true_labels = []\n",
    "pr_FF=[]\n",
    "rc_FF=[]\n",
    "ac_FF=[]\n",
    "selected_clients = [0, 1, 2, 3]\n",
    "client_metrics = []\n",
    "\n",
    "# Assuming model and criterion are already defined and loaded onto the GPU\n",
    "model = model.to(device)\n",
    "criterion = criterion.to(device)\n",
    "\n",
    "all_actaul_y=[]\n",
    "all_pred_y=[]\n",
    "temp_list_act=[]\n",
    "temp_list_pred=[]\n",
    "\n",
    "for i in range(len(selected_clients)):\n",
    "    \n",
    "    for inputs, targets, sens in list_loaded_client_data[i]:\n",
    "        inputs, targets = inputs.to(device), targets.to(device)\n",
    "\n",
    "        temp_list_act.append(targets)\n",
    "        \n",
    "        outputs = model(inputs)\n",
    "        loss += criterion(outputs, targets)\n",
    "        predicted = outputs > 0.5\n",
    "\n",
    "        temp_list_pred.append(predicted)\n",
    "        \n",
    "        predicted_labels.extend(predicted.cpu().numpy())\n",
    "        true_labels.extend(targets.cpu().numpy())\n",
    "        \n",
    "        total += targets.size(0)\n",
    "        correct += (predicted == targets).sum().item()\n",
    "    \n",
    "    loss = loss / len(list_loaded_client_data[i])\n",
    "    acc = correct / total\n",
    "    \n",
    "    precision = precision_score(true_labels, predicted_labels, zero_division=0.0)\n",
    "    recall = recall_score(true_labels, predicted_labels,average='binary')\n",
    "\n",
    "    all_actaul_y.append(temp_list_act)\n",
    "    all_pred_y.append(temp_list_pred)\n",
    "\n",
    "    temp_list_act=[]\n",
    "    temp_list_pred=[]\n",
    "\n",
    "    print(\"subG name  is \",client_names[i])\n",
    "    print(f\"Global Testing Accuracy: {acc:.5%}\")\n",
    "    print(f\"Global Precision: {precision:.5%}\")\n",
    "    print(f\"Global TPR: {recall:.5%}\")\n",
    "    print(\"\\n\")\n",
    "\n",
    "    data = {\n",
    "        'SubG': client_names[i],\n",
    "        'Accuracy': acc,\n",
    "        'Precision': precision,\n",
    "        'TPR':recall,\n",
    "        }\n",
    "    client_metrics.append(data)\n",
    "\n",
    "df_ff = pd.DataFrame(client_metrics)\n",
    "df_ff"
   ]
  },
  {
   "cell_type": "code",
   "execution_count": null,
   "id": "d551f1cf-f0be-4c14-bce1-07e006bb57a8",
   "metadata": {},
   "outputs": [],
   "source": []
  },
  {
   "cell_type": "code",
   "execution_count": null,
   "id": "0fc61a53-a296-49d3-a6f0-9ac859e58abc",
   "metadata": {},
   "outputs": [],
   "source": []
  },
  {
   "cell_type": "code",
   "execution_count": 13,
   "id": "27c38adf-0f34-466f-9056-4a36aba6bed9",
   "metadata": {},
   "outputs": [],
   "source": [
    "WM_pred=torch.cat(all_pred_y[0], dim=0).tolist()\n",
    "BM_pred=torch.cat(all_pred_y[1], dim=0).tolist()\n",
    "WW_pred=torch.cat(all_pred_y[2], dim=0).tolist()\n",
    "BW_pred=torch.cat(all_pred_y[3], dim=0).tolist()\n",
    "\n",
    "WM_labels=torch.cat(all_actaul_y[0], dim=0).tolist()\n",
    "BM_labels=torch.cat(all_actaul_y[1], dim=0).tolist()\n",
    "WW_labels=torch.cat(all_actaul_y[2], dim=0).tolist()\n",
    "BW_labels=torch.cat(all_actaul_y[3], dim=0).tolist()"
   ]
  },
  {
   "cell_type": "code",
   "execution_count": null,
   "id": "d339ed9c-02ae-4709-843d-6d67845411a8",
   "metadata": {},
   "outputs": [],
   "source": []
  },
  {
   "cell_type": "code",
   "execution_count": null,
   "id": "03e28761-4148-43e9-a66c-36d0e4c59235",
   "metadata": {},
   "outputs": [],
   "source": []
  },
  {
   "cell_type": "code",
   "execution_count": 14,
   "id": "cd95ad3c-1f8d-4614-9119-97b875df8ada",
   "metadata": {},
   "outputs": [],
   "source": [
    "def prob_indiv_group (WM_labels,BM_labels,WW_labels,BW_labels):\n",
    "    total_len=len(WM_labels)+len(BM_labels)+len(WW_labels)+len(BW_labels)\n",
    "    pro_WM=len(WM_labels)/total_len\n",
    "    pro_BM=len(BM_labels)/total_len\n",
    "    pro_WW=len(WW_labels)/total_len\n",
    "    pro_BW=len(BW_labels)/total_len\n",
    "\n",
    "    print(\"total length \",total_len)\n",
    "\n",
    "    print(\"Sub-G order in list-: WM, BM, WW, BW\")\n",
    "    \n",
    "    return [pro_WM,pro_BM,pro_WW,pro_BW]    "
   ]
  },
  {
   "cell_type": "code",
   "execution_count": 15,
   "id": "1895d869-f715-4001-8a3f-93eef55b720a",
   "metadata": {},
   "outputs": [],
   "source": [
    "def prob_predY_individual_grp(data, y=1):\n",
    "    count_target = sum(row[0] == y for row in data)\n",
    "    count_other = sum(row[0] != y for row in data)\n",
    "    probability_target = count_target / len(data)\n",
    "    print(\"Count_target: \",count_target,\"Other: \",count_other, \" probability_target:\",probability_target)\n",
    "    \n",
    "    return probability_target , count_target"
   ]
  },
  {
   "cell_type": "code",
   "execution_count": 16,
   "id": "5acd23ba-24e3-43cd-8b36-551565b8bb58",
   "metadata": {},
   "outputs": [],
   "source": [
    "def privacy_measure(grp1,grp2,eps=0.01):\n",
    "    lower= min(grp1,grp2)\n",
    "    upper= max(grp1,grp2)\n",
    "    print(\"lower/upper\", lower/upper)\n",
    "    privacy_prob=(lower/upper)-np.exp(eps)\n",
    "    return privacy_prob"
   ]
  },
  {
   "cell_type": "code",
   "execution_count": 17,
   "id": "1b5e6f2b-1586-43b1-ab90-fdf252e15e1e",
   "metadata": {},
   "outputs": [],
   "source": [
    "def prob_predY_individual_grp_wrp_other_groups(WM_pred,BM_pred,WW_pred,BW_pred):\n",
    "    prob_preY_WM,count_target_WM=prob_predY_individual_grp(WM_pred)\n",
    "    prob_preY_BM,count_target_BM=prob_predY_individual_grp(BM_pred)\n",
    "    prob_preY_WW,count_target_WW=prob_predY_individual_grp(WW_pred)\n",
    "    prob_preY_BW,count_target_BW=prob_predY_individual_grp(BW_pred)\n",
    "\n",
    "    print(\"\\n prob_predY_individual_grp function was called\")\n",
    "\n",
    "    #y=1\n",
    "    total_pred_all_grp=count_target_WM+count_target_BM+count_target_WW+count_target_BW\n",
    "    #y=1\n",
    "    prob_grp_given_other_grps=[count_target_WM/total_pred_all_grp,count_target_BM/total_pred_all_grp,count_target_WW/total_pred_all_grp,\n",
    "                               count_target_BW/total_pred_all_grp]\n",
    "    print(\"Sub-G order in list-: WM, BM, WW, BW\")\n",
    "    return prob_grp_given_other_grps"
   ]
  },
  {
   "cell_type": "code",
   "execution_count": 18,
   "id": "1c2979ea-4b85-46ac-aca0-a99265f6e45e",
   "metadata": {},
   "outputs": [],
   "source": [
    "def privacy_semantic_guarantee(grp1_given_pred_y,grp2_given_pred_y,grp1,grp2,eps=0.01):\n",
    "    temp1=grp1_given_pred_y/grp2_given_pred_y\n",
    "    temp2=grp1/grp2\n",
    "\n",
    "    print(\"temp1 \",temp1,\"temp2 \",temp2)\n",
    "\n",
    "    return temp1/temp2"
   ]
  },
  {
   "cell_type": "code",
   "execution_count": 19,
   "id": "1e1cd7fd-d368-4f4e-bcef-a4f3b4456882",
   "metadata": {},
   "outputs": [
    {
     "name": "stdout",
     "output_type": "stream",
     "text": [
      "total length  45468\n",
      "Sub-G order in list-: WM, BM, WW, BW\n"
     ]
    },
    {
     "data": {
      "text/plain": [
       "(0.36911674144453244,\n",
       " 0.10970352775578429,\n",
       " 0.39685053224245626,\n",
       " 0.12432919855722706)"
      ]
     },
     "execution_count": 19,
     "metadata": {},
     "output_type": "execute_result"
    }
   ],
   "source": [
    "# data distr probility.\n",
    "# total labels = total size of particular subgroup\n",
    "\n",
    "WM_data_prob,BM_data_prob,WW_data_prob,BW_data_prob=prob_indiv_group (WM_labels,BM_labels,WW_labels,BW_labels)\n",
    "WM_data_prob,BM_data_prob,WW_data_prob,BW_data_prob"
   ]
  },
  {
   "cell_type": "code",
   "execution_count": null,
   "id": "2f1f2e15-f36c-4aea-be0b-3be91b1c092c",
   "metadata": {},
   "outputs": [],
   "source": []
  },
  {
   "cell_type": "code",
   "execution_count": null,
   "id": "af21e86d-38d0-463e-9afe-9e4fdf74df45",
   "metadata": {},
   "outputs": [],
   "source": []
  },
  {
   "cell_type": "code",
   "execution_count": 20,
   "id": "e5db1de6-50dd-4c9c-97ad-6aaf92ef2c71",
   "metadata": {},
   "outputs": [
    {
     "name": "stdout",
     "output_type": "stream",
     "text": [
      "Count_target:  7345 Other:  9438  probability_target: 0.43764523625096824\n",
      "Count_target:  1579 Other:  3409  probability_target: 0.3165597433841219\n",
      "Count_target:  8206 Other:  9838  probability_target: 0.4547772112613611\n",
      "Count_target:  2386 Other:  3267  probability_target: 0.4220767733946577\n"
     ]
    }
   ],
   "source": [
    "prob_preY_WM,count_target=prob_predY_individual_grp(WM_pred)\n",
    "prob_preY_BM,count_target=prob_predY_individual_grp(BM_pred)\n",
    "prob_preY_WW,count_target=prob_predY_individual_grp(WW_pred)\n",
    "prob_preY_BW,count_target=prob_predY_individual_grp(BW_pred)"
   ]
  },
  {
   "cell_type": "code",
   "execution_count": 21,
   "id": "fd1cc600-9123-4d06-9b09-530fae66fa6e",
   "metadata": {},
   "outputs": [
    {
     "name": "stdout",
     "output_type": "stream",
     "text": [
      "Count_target:  7345 Other:  9438  probability_target: 0.43764523625096824\n",
      "Count_target:  1579 Other:  3409  probability_target: 0.3165597433841219\n",
      "Count_target:  8206 Other:  9838  probability_target: 0.4547772112613611\n",
      "Count_target:  2386 Other:  3267  probability_target: 0.4220767733946577\n",
      "\n",
      " prob_predY_individual_grp function was called\n",
      "Sub-G order in list-: WM, BM, WW, BW\n"
     ]
    },
    {
     "data": {
      "text/plain": [
       "(0.37635786021725764,\n",
       " 0.08090797294527567,\n",
       " 0.4204755072760812,\n",
       " 0.12225865956138553)"
      ]
     },
     "execution_count": 21,
     "metadata": {},
     "output_type": "execute_result"
    }
   ],
   "source": [
    "WM_pred_prob,BM_pred_prob,WW_pred_prob,BW_pred_prob=prob_predY_individual_grp_wrp_other_groups(WM_pred,BM_pred,WW_pred,BW_pred)\n",
    "WM_pred_prob,BM_pred_prob,WW_pred_prob,BW_pred_prob"
   ]
  },
  {
   "cell_type": "code",
   "execution_count": 22,
   "id": "20b7489a-d052-4271-9471-8461101113eb",
   "metadata": {},
   "outputs": [
    {
     "name": "stdout",
     "output_type": "stream",
     "text": [
      "lower/upper 0.7233250065644272\n"
     ]
    },
    {
     "data": {
      "text/plain": [
       "-0.28672516051974073"
      ]
     },
     "execution_count": 22,
     "metadata": {},
     "output_type": "execute_result"
    }
   ],
   "source": [
    "privacy_measure(prob_preY_WM, prob_preY_BM)"
   ]
  },
  {
   "cell_type": "code",
   "execution_count": 23,
   "id": "f0fdc6ca-a876-43db-926b-a10f53c4e8a8",
   "metadata": {},
   "outputs": [
    {
     "name": "stdout",
     "output_type": "stream",
     "text": [
      "temp1  3.4392288348700757 temp2  3.19193348664426\n"
     ]
    },
    {
     "data": {
      "text/plain": [
       "1.0774750944092515"
      ]
     },
     "execution_count": 23,
     "metadata": {},
     "output_type": "execute_result"
    }
   ],
   "source": [
    "privacy_semantic_guarantee(WW_pred_prob,\n",
    "                           BW_pred_prob,\n",
    "                           WW_data_prob,\n",
    "                           BW_data_prob)"
   ]
  },
  {
   "cell_type": "code",
   "execution_count": 24,
   "id": "6f66aff9-95ed-4f60-841e-65b98c125300",
   "metadata": {},
   "outputs": [
    {
     "data": {
      "text/plain": [
       "(0.8187307530779818, 1.2214027581601699)"
      ]
     },
     "execution_count": 24,
     "metadata": {},
     "output_type": "execute_result"
    }
   ],
   "source": [
    "a=0.2\n",
    "np.exp(-a),np.exp(a)"
   ]
  },
  {
   "cell_type": "code",
   "execution_count": null,
   "id": "af78ebef-5816-4d53-8614-b54102e277e7",
   "metadata": {},
   "outputs": [],
   "source": []
  },
  {
   "cell_type": "code",
   "execution_count": null,
   "id": "0a0e1988-7e96-4173-ab5d-f1e2a537948c",
   "metadata": {},
   "outputs": [],
   "source": []
  },
  {
   "cell_type": "markdown",
   "id": "bd3f6f5e-c829-48fd-8d6d-3943ac220ece",
   "metadata": {},
   "source": [
    "# FedAVG"
   ]
  },
  {
   "cell_type": "code",
   "execution_count": 25,
   "id": "1c6fdbdb-c04e-4a4a-a595-c0f409c13045",
   "metadata": {},
   "outputs": [
    {
     "name": "stdout",
     "output_type": "stream",
     "text": [
      "subG name  is  WM\n",
      "Global Testing Accuracy: 80.55771%\n",
      "Global Precision: 88.04526%\n",
      "Global TPR: 67.93623%\n",
      "\n",
      "\n",
      "\n",
      "subG name  is  BM\n",
      "Global Testing Accuracy: 80.92876%\n",
      "Global Precision: 85.89897%\n",
      "Global TPR: 67.56473%\n",
      "\n",
      "\n",
      "\n",
      "subG name  is  WW\n",
      "Global Testing Accuracy: 80.26372%\n",
      "Global Precision: 79.26277%\n",
      "Global TPR: 69.96986%\n",
      "\n",
      "\n",
      "\n",
      "subG name  is  BW\n",
      "Global Testing Accuracy: 80.24325%\n",
      "Global Precision: 78.79268%\n",
      "Global TPR: 70.12536%\n",
      "\n",
      "\n",
      "\n"
     ]
    },
    {
     "data": {
      "text/html": [
       "<div>\n",
       "<style scoped>\n",
       "    .dataframe tbody tr th:only-of-type {\n",
       "        vertical-align: middle;\n",
       "    }\n",
       "\n",
       "    .dataframe tbody tr th {\n",
       "        vertical-align: top;\n",
       "    }\n",
       "\n",
       "    .dataframe thead th {\n",
       "        text-align: right;\n",
       "    }\n",
       "</style>\n",
       "<table border=\"1\" class=\"dataframe\">\n",
       "  <thead>\n",
       "    <tr style=\"text-align: right;\">\n",
       "      <th></th>\n",
       "      <th>SubG</th>\n",
       "      <th>Accuracy</th>\n",
       "      <th>Precision</th>\n",
       "      <th>TPR</th>\n",
       "    </tr>\n",
       "  </thead>\n",
       "  <tbody>\n",
       "    <tr>\n",
       "      <th>0</th>\n",
       "      <td>WM</td>\n",
       "      <td>0.805577</td>\n",
       "      <td>0.880453</td>\n",
       "      <td>0.679362</td>\n",
       "    </tr>\n",
       "    <tr>\n",
       "      <th>1</th>\n",
       "      <td>BM</td>\n",
       "      <td>0.809288</td>\n",
       "      <td>0.858990</td>\n",
       "      <td>0.675647</td>\n",
       "    </tr>\n",
       "    <tr>\n",
       "      <th>2</th>\n",
       "      <td>WW</td>\n",
       "      <td>0.802637</td>\n",
       "      <td>0.792628</td>\n",
       "      <td>0.699699</td>\n",
       "    </tr>\n",
       "    <tr>\n",
       "      <th>3</th>\n",
       "      <td>BW</td>\n",
       "      <td>0.802432</td>\n",
       "      <td>0.787927</td>\n",
       "      <td>0.701254</td>\n",
       "    </tr>\n",
       "  </tbody>\n",
       "</table>\n",
       "</div>"
      ],
      "text/plain": [
       "  SubG  Accuracy  Precision       TPR\n",
       "0   WM  0.805577   0.880453  0.679362\n",
       "1   BM  0.809288   0.858990  0.675647\n",
       "2   WW  0.802637   0.792628  0.699699\n",
       "3   BW  0.802432   0.787927  0.701254"
      ]
     },
     "execution_count": 25,
     "metadata": {},
     "output_type": "execute_result"
    }
   ],
   "source": [
    "import torch\n",
    "\n",
    "size = 0\n",
    "loss = 0\n",
    "correct = 0\n",
    "total = 0\n",
    "predicted_labels = []\n",
    "true_labels = []\n",
    "final_fairness = []\n",
    "selected_clients = [0, 1, 2, 3]\n",
    "\n",
    "# diff_path=\"/home/chiragapandav/Downloads/Hiwi/pFedLA_Folktable/temp/my_model/global_model.pt\"\n",
    "\n",
    "model=DeepNet()\n",
    "model.load_state_dict(torch.load(path_2))\n",
    "model.eval()\n",
    "client_metrics=[]\n",
    "\n",
    "# Assuming model and criterion are already defined and loaded onto the GPU\n",
    "model = model.to(device)\n",
    "criterion = criterion.to(device)\n",
    "\n",
    "\n",
    "all_actaul_y=[]\n",
    "all_pred_y=[]\n",
    "temp_list_act=[]\n",
    "temp_list_pred=[]\n",
    "\n",
    "for i in range(len(selected_clients)):\n",
    "    for inputs, targets, sens in  list_loaded_client_data[i]:\n",
    "        inputs, targets = inputs.to(device), targets.to(device)\n",
    "        \n",
    "        outputs = model(inputs)\n",
    "        loss += criterion(outputs, targets)\n",
    "        predicted = outputs > 0.5\n",
    "\n",
    "        temp_list_act.append(targets)\n",
    "        temp_list_pred.append(predicted)\n",
    "        \n",
    "        predicted_labels.extend(predicted.cpu().numpy())\n",
    "        true_labels.extend(targets.cpu().numpy())\n",
    "        \n",
    "        total += targets.size(0)\n",
    "        correct += (predicted == targets).sum().item()\n",
    "    \n",
    "    loss = loss / len(list_loaded_client_data[i])\n",
    "    acc = correct / total\n",
    "    \n",
    "    precision = precision_score(true_labels, predicted_labels, zero_division=0.0)\n",
    "    recall = recall_score(true_labels, predicted_labels,average='binary')\n",
    "\n",
    "    all_actaul_y.append(temp_list_act)\n",
    "    all_pred_y.append(temp_list_pred)\n",
    "    \n",
    "    temp_list_act=[]\n",
    "    temp_list_pred=[]\n",
    "\n",
    "    print(\"subG name  is \",client_names[i])\n",
    "    print(f\"Global Testing Accuracy: {acc:.5%}\")\n",
    "    print(f\"Global Precision: {precision:.5%}\")\n",
    "    print(f\"Global TPR: {recall:.5%}\")\n",
    "    print(\"\\n\\n\")\n",
    "    \n",
    "    data = {\n",
    "        'SubG': client_names[i],\n",
    "        'Accuracy': acc,\n",
    "        'Precision': precision,\n",
    "        'TPR':recall,\n",
    "        }\n",
    "    client_metrics.append(data)\n",
    "\n",
    "df_FA = pd.DataFrame(client_metrics)\n",
    "df_FA"
   ]
  },
  {
   "cell_type": "code",
   "execution_count": 26,
   "id": "74058816-79b8-41b2-b2f9-f0817a48275d",
   "metadata": {},
   "outputs": [],
   "source": [
    "WM_pred=torch.cat(all_pred_y[0], dim=0).tolist()\n",
    "BM_pred=torch.cat(all_pred_y[1], dim=0).tolist()\n",
    "WW_pred=torch.cat(all_pred_y[2], dim=0).tolist()\n",
    "BW_pred=torch.cat(all_pred_y[3], dim=0).tolist()"
   ]
  },
  {
   "cell_type": "code",
   "execution_count": 27,
   "id": "33b314bc-a5a1-4a50-b238-b997b25545e4",
   "metadata": {},
   "outputs": [
    {
     "name": "stdout",
     "output_type": "stream",
     "text": [
      "Count_target:  6098 Other:  10685  probability_target: 0.36334385985818984\n",
      "Count_target:  1405 Other:  3583  probability_target: 0.28167602245388934\n",
      "Count_target:  6848 Other:  11196  probability_target: 0.37951673686544\n",
      "Count_target:  2049 Other:  3604  probability_target: 0.3624624093401734\n"
     ]
    }
   ],
   "source": [
    "prob_preY_WM,count_target=prob_predY_individual_grp(WM_pred)\n",
    "prob_preY_BM,count_target=prob_predY_individual_grp(BM_pred)\n",
    "prob_preY_WW,count_target=prob_predY_individual_grp(WW_pred)\n",
    "prob_preY_BW,count_target=prob_predY_individual_grp(BW_pred)"
   ]
  },
  {
   "cell_type": "code",
   "execution_count": 28,
   "id": "d374e6c4-cf87-412f-aa20-50f0185fd25f",
   "metadata": {},
   "outputs": [
    {
     "name": "stdout",
     "output_type": "stream",
     "text": [
      "total length  45468\n",
      "Sub-G order in list-: WM, BM, WW, BW\n"
     ]
    },
    {
     "data": {
      "text/plain": [
       "(0.36911674144453244,\n",
       " 0.10970352775578429,\n",
       " 0.39685053224245626,\n",
       " 0.12432919855722706)"
      ]
     },
     "execution_count": 28,
     "metadata": {},
     "output_type": "execute_result"
    }
   ],
   "source": [
    "WM_data_prob,BM_data_prob,WW_data_prob,BW_data_prob=prob_indiv_group (WM_labels,BM_labels,WW_labels,BW_labels)\n",
    "WM_data_prob,BM_data_prob,WW_data_prob,BW_data_prob"
   ]
  },
  {
   "cell_type": "code",
   "execution_count": 29,
   "id": "34c0a51d-ce2c-484c-8164-53233d911184",
   "metadata": {},
   "outputs": [
    {
     "name": "stdout",
     "output_type": "stream",
     "text": [
      "Count_target:  6098 Other:  10685  probability_target: 0.36334385985818984\n",
      "Count_target:  1405 Other:  3583  probability_target: 0.28167602245388934\n",
      "Count_target:  6848 Other:  11196  probability_target: 0.37951673686544\n",
      "Count_target:  2049 Other:  3604  probability_target: 0.3624624093401734\n",
      "\n",
      " prob_predY_individual_grp function was called\n",
      "Sub-G order in list-: WM, BM, WW, BW\n"
     ]
    },
    {
     "data": {
      "text/plain": [
       "(0.3718292682926829,\n",
       " 0.08567073170731708,\n",
       " 0.4175609756097561,\n",
       " 0.1249390243902439)"
      ]
     },
     "execution_count": 29,
     "metadata": {},
     "output_type": "execute_result"
    }
   ],
   "source": [
    "WM_pred_prob,BM_pred_prob,WW_pred_prob,BW_pred_prob=prob_predY_individual_grp_wrp_other_groups(WM_pred,BM_pred,WW_pred,BW_pred)\n",
    "WM_pred_prob,BM_pred_prob,WW_pred_prob,BW_pred_prob"
   ]
  },
  {
   "cell_type": "code",
   "execution_count": 30,
   "id": "5acfb283-2de5-4a08-ad18-eb0d879c2bcd",
   "metadata": {},
   "outputs": [
    {
     "name": "stdout",
     "output_type": "stream",
     "text": [
      "temp1  3.3421181063933623 temp2  3.3585109568413922\n"
     ]
    },
    {
     "data": {
      "text/plain": [
       "0.9951190123662877"
      ]
     },
     "execution_count": 30,
     "metadata": {},
     "output_type": "execute_result"
    }
   ],
   "source": [
    "privacy_semantic_guarantee(WW_pred_prob,\n",
    "                           BW_pred_prob,\n",
    "                           WW_pred_prob,\n",
    "                           BW_data_prob)"
   ]
  },
  {
   "cell_type": "code",
   "execution_count": null,
   "id": "10e545f2-e82a-45c2-895f-31922ac40132",
   "metadata": {},
   "outputs": [],
   "source": []
  },
  {
   "cell_type": "code",
   "execution_count": null,
   "id": "111b321b-e587-4091-bee3-1a47d97722b4",
   "metadata": {},
   "outputs": [],
   "source": []
  },
  {
   "cell_type": "code",
   "execution_count": null,
   "id": "03d9953f-b7d7-43bb-8af7-41695579e2ff",
   "metadata": {},
   "outputs": [],
   "source": []
  },
  {
   "cell_type": "code",
   "execution_count": null,
   "id": "d391fcae-4954-48a7-af7c-1ab1681eda88",
   "metadata": {},
   "outputs": [],
   "source": []
  },
  {
   "cell_type": "code",
   "execution_count": null,
   "id": "1aad8f11-d290-416c-96c5-32e073728264",
   "metadata": {},
   "outputs": [],
   "source": []
  },
  {
   "cell_type": "code",
   "execution_count": 31,
   "id": "125d37a0-a011-4ac8-8b3a-d66d71da76a3",
   "metadata": {},
   "outputs": [
    {
     "name": "stdout",
     "output_type": "stream",
     "text": [
      "lower/upper 0.9550630423677116\n"
     ]
    },
    {
     "data": {
      "text/plain": [
       "-0.05498712471645639"
      ]
     },
     "execution_count": 31,
     "metadata": {},
     "output_type": "execute_result"
    }
   ],
   "source": [
    "privacy_measure(prob_preY_WW, prob_preY_BW)"
   ]
  },
  {
   "cell_type": "markdown",
   "id": "4483d5c6-b0ca-4f10-b3dd-0741026d526b",
   "metadata": {},
   "source": [
    "# our experiement"
   ]
  },
  {
   "cell_type": "code",
   "execution_count": 32,
   "id": "cbdd197d-35eb-48a6-a792-22de4a932ceb",
   "metadata": {},
   "outputs": [
    {
     "name": "stdout",
     "output_type": "stream",
     "text": [
      "subG name  is  WM\n",
      "Global Testing Accuracy: 82.71465%\n",
      "Global Precision: 86.52161%\n",
      "Global TPR: 74.97153%\n",
      "\n",
      "\n",
      "subG name  is  BM\n",
      "Global Testing Accuracy: 82.66042%\n",
      "Global Precision: 83.95382%\n",
      "Global TPR: 74.70385%\n",
      "\n",
      "\n",
      "subG name  is  WW\n",
      "Global Testing Accuracy: 81.35125%\n",
      "Global Precision: 77.53461%\n",
      "Global TPR: 76.49013%\n",
      "\n",
      "\n",
      "subG name  is  BW\n",
      "Global Testing Accuracy: 81.23735%\n",
      "Global Precision: 76.88838%\n",
      "Global TPR: 76.78407%\n",
      "\n",
      "\n"
     ]
    },
    {
     "data": {
      "text/html": [
       "<div>\n",
       "<style scoped>\n",
       "    .dataframe tbody tr th:only-of-type {\n",
       "        vertical-align: middle;\n",
       "    }\n",
       "\n",
       "    .dataframe tbody tr th {\n",
       "        vertical-align: top;\n",
       "    }\n",
       "\n",
       "    .dataframe thead th {\n",
       "        text-align: right;\n",
       "    }\n",
       "</style>\n",
       "<table border=\"1\" class=\"dataframe\">\n",
       "  <thead>\n",
       "    <tr style=\"text-align: right;\">\n",
       "      <th></th>\n",
       "      <th>SubG</th>\n",
       "      <th>Accuracy</th>\n",
       "      <th>Precision</th>\n",
       "      <th>TPR</th>\n",
       "    </tr>\n",
       "  </thead>\n",
       "  <tbody>\n",
       "    <tr>\n",
       "      <th>0</th>\n",
       "      <td>WM</td>\n",
       "      <td>0.827147</td>\n",
       "      <td>0.865216</td>\n",
       "      <td>0.749715</td>\n",
       "    </tr>\n",
       "    <tr>\n",
       "      <th>1</th>\n",
       "      <td>BM</td>\n",
       "      <td>0.826604</td>\n",
       "      <td>0.839538</td>\n",
       "      <td>0.747038</td>\n",
       "    </tr>\n",
       "    <tr>\n",
       "      <th>2</th>\n",
       "      <td>WW</td>\n",
       "      <td>0.813512</td>\n",
       "      <td>0.775346</td>\n",
       "      <td>0.764901</td>\n",
       "    </tr>\n",
       "    <tr>\n",
       "      <th>3</th>\n",
       "      <td>BW</td>\n",
       "      <td>0.812374</td>\n",
       "      <td>0.768884</td>\n",
       "      <td>0.767841</td>\n",
       "    </tr>\n",
       "  </tbody>\n",
       "</table>\n",
       "</div>"
      ],
      "text/plain": [
       "  SubG  Accuracy  Precision       TPR\n",
       "0   WM  0.827147   0.865216  0.749715\n",
       "1   BM  0.826604   0.839538  0.747038\n",
       "2   WW  0.813512   0.775346  0.764901\n",
       "3   BW  0.812374   0.768884  0.767841"
      ]
     },
     "execution_count": 32,
     "metadata": {},
     "output_type": "execute_result"
    }
   ],
   "source": [
    "model=DeepNet()\n",
    "model.load_state_dict(torch.load(path_3))\n",
    "model.eval()\n",
    "\n",
    "size = 0\n",
    "loss = 0\n",
    "correct = 0\n",
    "total = 0\n",
    "predicted_labels = []\n",
    "true_labels = []\n",
    "pr_FF=[]\n",
    "rc_FF=[]\n",
    "ac_FF=[]\n",
    "selected_clients = [0, 1, 2, 3]\n",
    "client_metrics = []\n",
    "\n",
    "# Assuming model and criterion are already defined and loaded onto the GPU\n",
    "model = model.to(device)\n",
    "criterion = criterion.to(device)\n",
    "\n",
    "all_actaul_y=[]\n",
    "all_pred_y=[]\n",
    "temp_list_act=[]\n",
    "temp_list_pred=[]\n",
    "\n",
    "for i in range(len(selected_clients)):\n",
    "    \n",
    "    for inputs, targets, sens in list_loaded_client_data[i]:\n",
    "        inputs, targets = inputs.to(device), targets.to(device)\n",
    "        \n",
    "        outputs = model(inputs)\n",
    "        loss += criterion(outputs, targets)\n",
    "        predicted = outputs > 0.5\n",
    "\n",
    "        temp_list_act.append(targets)\n",
    "        temp_list_pred.append(predicted)\n",
    "        \n",
    "        predicted_labels.extend(predicted.cpu().numpy())\n",
    "        true_labels.extend(targets.cpu().numpy())\n",
    "        \n",
    "        total += targets.size(0)\n",
    "        correct += (predicted == targets).sum().item()\n",
    "    \n",
    "    loss = loss / len(list_loaded_client_data[i])\n",
    "    acc = correct / total\n",
    "    \n",
    "    precision = precision_score(true_labels, predicted_labels, zero_division=0.0)\n",
    "    recall = recall_score(true_labels, predicted_labels,average='binary')\n",
    "    \n",
    "    all_actaul_y.append(temp_list_act)\n",
    "    all_pred_y.append(temp_list_pred)\n",
    "    \n",
    "    temp_list_act=[]\n",
    "    temp_list_pred=[]\n",
    "    \n",
    "    print(\"subG name  is \",client_names[i])\n",
    "    print(f\"Global Testing Accuracy: {acc:.5%}\")\n",
    "    print(f\"Global Precision: {precision:.5%}\")\n",
    "    print(f\"Global TPR: {recall:.5%}\")\n",
    "    print(\"\\n\")\n",
    "\n",
    "    data = {\n",
    "        'SubG': client_names[i],\n",
    "        'Accuracy': acc,\n",
    "        'Precision': precision,\n",
    "        'TPR':recall,\n",
    "        }\n",
    "    client_metrics.append(data)\n",
    "\n",
    "df_ff_o = pd.DataFrame(client_metrics)\n",
    "df_ff_o\n"
   ]
  },
  {
   "cell_type": "code",
   "execution_count": 33,
   "id": "ac47fdc5-2e46-4355-abc6-2632d15eeaa7",
   "metadata": {},
   "outputs": [],
   "source": [
    "WM_pred=torch.cat(all_pred_y[0], dim=0).tolist()\n",
    "BM_pred=torch.cat(all_pred_y[1], dim=0).tolist()\n",
    "WW_pred=torch.cat(all_pred_y[2], dim=0).tolist()\n",
    "BW_pred=torch.cat(all_pred_y[3], dim=0).tolist()"
   ]
  },
  {
   "cell_type": "code",
   "execution_count": 34,
   "id": "81fde09d-8e53-4b03-9463-bbe19b25caed",
   "metadata": {},
   "outputs": [
    {
     "name": "stdout",
     "output_type": "stream",
     "text": [
      "Count_target:  6848 Other:  9935  probability_target: 0.4080319370791873\n",
      "Count_target:  1640 Other:  3348  probability_target: 0.32878909382518046\n",
      "Count_target:  7550 Other:  10494  probability_target: 0.4184216360008867\n",
      "Count_target:  2364 Other:  3289  probability_target: 0.4181850344949584\n"
     ]
    }
   ],
   "source": [
    "prob_preY_WM,count_target=prob_predY_individual_grp(WM_pred)\n",
    "prob_preY_BM,count_target=prob_predY_individual_grp(BM_pred)\n",
    "prob_preY_WW,count_target=prob_predY_individual_grp(WW_pred)\n",
    "prob_preY_BW,count_target=prob_predY_individual_grp(BW_pred)"
   ]
  },
  {
   "cell_type": "code",
   "execution_count": null,
   "id": "cf3eb055-fcd0-4bc1-b612-e877b4817141",
   "metadata": {},
   "outputs": [],
   "source": []
  },
  {
   "cell_type": "code",
   "execution_count": 35,
   "id": "da9dbb29-2fe6-42c1-b403-dc9d286ffad7",
   "metadata": {},
   "outputs": [
    {
     "name": "stdout",
     "output_type": "stream",
     "text": [
      "total length  45468\n",
      "Sub-G order in list-: WM, BM, WW, BW\n"
     ]
    },
    {
     "data": {
      "text/plain": [
       "(0.36911674144453244,\n",
       " 0.10970352775578429,\n",
       " 0.39685053224245626,\n",
       " 0.12432919855722706)"
      ]
     },
     "execution_count": 35,
     "metadata": {},
     "output_type": "execute_result"
    }
   ],
   "source": [
    "# data distr probility.\n",
    "# total labels = total size of particular subgroup\n",
    "\n",
    "WM_data_prob,BM_data_prob,WW_data_prob,BW_data_prob=prob_indiv_group (WM_labels,BM_labels,WW_labels,BW_labels)\n",
    "WM_data_prob,BM_data_prob,WW_data_prob,BW_data_prob"
   ]
  },
  {
   "cell_type": "code",
   "execution_count": 36,
   "id": "53c2cea1-aa35-4f40-b749-feda7af1c103",
   "metadata": {},
   "outputs": [
    {
     "name": "stdout",
     "output_type": "stream",
     "text": [
      "Count_target:  6848 Other:  9935  probability_target: 0.4080319370791873\n",
      "Count_target:  1640 Other:  3348  probability_target: 0.32878909382518046\n",
      "Count_target:  7550 Other:  10494  probability_target: 0.4184216360008867\n",
      "Count_target:  2364 Other:  3289  probability_target: 0.4181850344949584\n",
      "\n",
      " prob_predY_individual_grp function was called\n",
      "Sub-G order in list-: WM, BM, WW, BW\n"
     ]
    },
    {
     "data": {
      "text/plain": [
       "(0.3721334637539398,\n",
       " 0.08912074774481035,\n",
       " 0.41028149114226714,\n",
       " 0.1284642973589827)"
      ]
     },
     "execution_count": 36,
     "metadata": {},
     "output_type": "execute_result"
    }
   ],
   "source": [
    "WM_pred_prob,BM_pred_prob,WW_pred_prob,BW_pred_prob=prob_predY_individual_grp_wrp_other_groups(WM_pred,BM_pred,WW_pred,BW_pred)\n",
    "WM_pred_prob,BM_pred_prob,WW_pred_prob,BW_pred_prob"
   ]
  },
  {
   "cell_type": "code",
   "execution_count": 37,
   "id": "2ec7fdbd-05ba-4e91-99dd-75b730242dca",
   "metadata": {},
   "outputs": [
    {
     "name": "stdout",
     "output_type": "stream",
     "text": [
      "temp1  1.441463414634146 temp2  1.171013366543349\n"
     ]
    },
    {
     "data": {
      "text/plain": [
       "1.2309538522938674"
      ]
     },
     "execution_count": 37,
     "metadata": {},
     "output_type": "execute_result"
    }
   ],
   "source": [
    "privacy_semantic_guarantee(BW_pred_prob,\n",
    "                           BM_pred_prob,\n",
    "                           BW_pred_prob,\n",
    "                           BM_data_prob)"
   ]
  },
  {
   "cell_type": "code",
   "execution_count": null,
   "id": "81630e67-015f-46ec-a206-3b47b0946548",
   "metadata": {},
   "outputs": [],
   "source": []
  },
  {
   "cell_type": "code",
   "execution_count": 38,
   "id": "815d9068-597d-47a7-82b4-8d214aad9295",
   "metadata": {},
   "outputs": [
    {
     "name": "stdout",
     "output_type": "stream",
     "text": [
      "lower/upper 0.9994345380698053\n"
     ]
    },
    {
     "data": {
      "text/plain": [
       "-0.010615629014362638"
      ]
     },
     "execution_count": 38,
     "metadata": {},
     "output_type": "execute_result"
    }
   ],
   "source": [
    "privacy_measure(prob_preY_WW, prob_preY_BW)"
   ]
  },
  {
   "cell_type": "code",
   "execution_count": 39,
   "id": "cbbc27a1-b998-4b0e-b91e-2b09ed5b7415",
   "metadata": {},
   "outputs": [
    {
     "data": {
      "text/plain": [
       "0.8057925469725472"
      ]
     },
     "execution_count": 39,
     "metadata": {},
     "output_type": "execute_result"
    }
   ],
   "source": [
    "0.32878909382518046/0.4080319370791873"
   ]
  },
  {
   "cell_type": "code",
   "execution_count": null,
   "id": "80b64326-45a8-411c-8022-ffec4622e86b",
   "metadata": {},
   "outputs": [],
   "source": []
  },
  {
   "cell_type": "code",
   "execution_count": 40,
   "id": "c2e87799-c09a-49b2-8b8a-354f94091063",
   "metadata": {},
   "outputs": [
    {
     "data": {
      "text/plain": [
       "(0.8187307530779818, 1.2214027581601699)"
      ]
     },
     "execution_count": 40,
     "metadata": {},
     "output_type": "execute_result"
    }
   ],
   "source": [
    "dummy_val=0.2\n",
    "np.exp(-dummy_val), np.exp(dummy_val)"
   ]
  },
  {
   "cell_type": "markdown",
   "id": "79d2d826-e154-4f1c-a5f1-9e0fbe06808b",
   "metadata": {},
   "source": [
    "# classical model"
   ]
  },
  {
   "cell_type": "code",
   "execution_count": 41,
   "id": "d65bfedb-e610-424d-9ed2-dc9b661993f4",
   "metadata": {},
   "outputs": [],
   "source": [
    " \n",
    "class DeepNet(nn.Module):\n",
    "    def __init__(self):\n",
    "        super().__init__()\n",
    "        # 14 : input shape\n",
    "        # 9-> we have 9 columns in data \n",
    "        self.layer1 = nn.Linear(14, 512)\n",
    "        self.act1 = nn.ReLU()\n",
    "        self.dropout1 = nn.Dropout(p=0.5)\n",
    "        self.layer2 = nn.Linear(512, 256)\n",
    "        self.act2 = nn.ReLU()\n",
    "        self.layer3 = nn.Linear(256, 60)\n",
    "        self.act3 = nn.ReLU()\n",
    "        self.output = nn.Linear(60, 1)\n",
    "        self.sigmoid = nn.Sigmoid()\n",
    "\n",
    "    def forward(self, x):\n",
    "        x = self.act1(self.layer1(x))\n",
    "        x = self.dropout1(x)\n",
    "        x = self.act2(self.layer2(x))\n",
    "        x = self.act3(self.layer3(x))\n",
    "        x = self.sigmoid(self.output(x))\n",
    "        return x\n"
   ]
  },
  {
   "cell_type": "code",
   "execution_count": null,
   "id": "ee82966a-166c-4490-85ad-8c36ce45373d",
   "metadata": {},
   "outputs": [],
   "source": []
  },
  {
   "cell_type": "code",
   "execution_count": 43,
   "id": "d3a86dcf-7e48-47da-8dde-f26fbfafead2",
   "metadata": {},
   "outputs": [],
   "source": [
    "temp_path_data=\"/home/chiragpandav/chirag/FL/FedFB/\"\n",
    "\n",
    "with open(temp_path_data+\"/Normal_training_data.pkl\", \"rb\") as f:\n",
    "    nor_trainData = pickle.load(f)"
   ]
  },
  {
   "cell_type": "code",
   "execution_count": 44,
   "id": "8768ab21-e9fe-43e9-8883-9e247b4190f5",
   "metadata": {},
   "outputs": [],
   "source": [
    "device = torch.device(\"cuda\" if torch.cuda.is_available() else \"cpu\")        \n",
    "\n",
    "criterion = nn.BCELoss()\n",
    "optimizer = optim.Adam(model.parameters(), lr=0.001)\n",
    "model=DeepNet()\n",
    "\n",
    "model = model.to(device)\n",
    "criterion = criterion.to(device)"
   ]
  },
  {
   "cell_type": "code",
   "execution_count": 45,
   "id": "59852a74-e478-455f-8748-9e84a393aa4e",
   "metadata": {},
   "outputs": [],
   "source": [
    "# num_epochs=10\n",
    "# for epoch in range(num_epochs):\n",
    "#     # Set the model to training mode\n",
    "#     model.train()\n",
    "\n",
    "#     for inputs, labels, sens in nor_trainData:\n",
    "        \n",
    "#         inputs, labels = inputs.to(device), labels.to(device)\n",
    "#         optimizer.zero_grad()\n",
    "#         outputs = model(inputs).to(device)\n",
    "#         loss = criterion(outputs, labels.float())\n",
    "#         loss.backward()\n",
    "#         optimizer.step()"
   ]
  },
  {
   "cell_type": "code",
   "execution_count": 46,
   "id": "57cd6a77-994a-4d08-9c93-f55db893b4dc",
   "metadata": {},
   "outputs": [],
   "source": [
    "torch.save(model.state_dict(), \"normal_model.pth\")"
   ]
  },
  {
   "cell_type": "code",
   "execution_count": 47,
   "id": "cd2e11c9-f21d-4b14-ab32-7d6decd27881",
   "metadata": {},
   "outputs": [
    {
     "name": "stdout",
     "output_type": "stream",
     "text": [
      "subG name  is  WM\n",
      "Global Testing Accuracy: 38.90246%\n",
      "Global Precision: 11.97024%\n",
      "Global Recall: 4.68177%\n",
      "\n",
      "\n",
      "\n",
      "subG name  is  BM\n",
      "Global Testing Accuracy: 40.60907%\n",
      "Global Precision: 11.83885%\n",
      "Global Recall: 5.51420%\n",
      "\n",
      "\n",
      "\n",
      "subG name  is  WW\n",
      "Global Testing Accuracy: 44.66909%\n",
      "Global Precision: 10.91401%\n",
      "Global Recall: 4.95786%\n",
      "\n",
      "\n",
      "\n",
      "subG name  is  BW\n",
      "Global Testing Accuracy: 44.72816%\n",
      "Global Precision: 11.76135%\n",
      "Global Recall: 5.59505%\n",
      "\n",
      "\n",
      "\n"
     ]
    },
    {
     "data": {
      "text/html": [
       "<div>\n",
       "<style scoped>\n",
       "    .dataframe tbody tr th:only-of-type {\n",
       "        vertical-align: middle;\n",
       "    }\n",
       "\n",
       "    .dataframe tbody tr th {\n",
       "        vertical-align: top;\n",
       "    }\n",
       "\n",
       "    .dataframe thead th {\n",
       "        text-align: right;\n",
       "    }\n",
       "</style>\n",
       "<table border=\"1\" class=\"dataframe\">\n",
       "  <thead>\n",
       "    <tr style=\"text-align: right;\">\n",
       "      <th></th>\n",
       "      <th>SubG</th>\n",
       "      <th>Accuracy</th>\n",
       "      <th>Precision</th>\n",
       "      <th>Recall</th>\n",
       "    </tr>\n",
       "  </thead>\n",
       "  <tbody>\n",
       "    <tr>\n",
       "      <th>0</th>\n",
       "      <td>WM</td>\n",
       "      <td>0.389025</td>\n",
       "      <td>0.119702</td>\n",
       "      <td>0.046818</td>\n",
       "    </tr>\n",
       "    <tr>\n",
       "      <th>1</th>\n",
       "      <td>BM</td>\n",
       "      <td>0.406091</td>\n",
       "      <td>0.118388</td>\n",
       "      <td>0.055142</td>\n",
       "    </tr>\n",
       "    <tr>\n",
       "      <th>2</th>\n",
       "      <td>WW</td>\n",
       "      <td>0.446691</td>\n",
       "      <td>0.109140</td>\n",
       "      <td>0.049579</td>\n",
       "    </tr>\n",
       "    <tr>\n",
       "      <th>3</th>\n",
       "      <td>BW</td>\n",
       "      <td>0.447282</td>\n",
       "      <td>0.117614</td>\n",
       "      <td>0.055951</td>\n",
       "    </tr>\n",
       "  </tbody>\n",
       "</table>\n",
       "</div>"
      ],
      "text/plain": [
       "  SubG  Accuracy  Precision    Recall\n",
       "0   WM  0.389025   0.119702  0.046818\n",
       "1   BM  0.406091   0.118388  0.055142\n",
       "2   WW  0.446691   0.109140  0.049579\n",
       "3   BW  0.447282   0.117614  0.055951"
      ]
     },
     "execution_count": 47,
     "metadata": {},
     "output_type": "execute_result"
    }
   ],
   "source": [
    "size = 0\n",
    "loss = 0\n",
    "correct = 0\n",
    "total = 0\n",
    "predicted_labels = []\n",
    "true_labels = []\n",
    "final_fairness = []\n",
    "selected_clients = [0, 1, 2, 3]\n",
    "\n",
    "model=DeepNet()\n",
    "model.load_state_dict(torch.load(\"normal_model.pth\"))\n",
    "model.eval()\n",
    "\n",
    "client_metrics=[]\n",
    "# Assuming model and criterion are already defined and loaded onto the GPU\n",
    "model = model.to(device)\n",
    "criterion = criterion.to(device)\n",
    "\n",
    "for i in range(len(selected_clients)):\n",
    "    for inputs, targets, sens in list_loaded_client_data[i]:\n",
    "        inputs, targets = inputs.to(device), targets.to(device)\n",
    "        \n",
    "        outputs = model(inputs)\n",
    "        loss += criterion(outputs, targets)\n",
    "        predicted = outputs > 0.5\n",
    "\n",
    "        predicted_labels.extend(predicted.cpu().numpy())\n",
    "        true_labels.extend(targets.cpu().numpy())\n",
    "        \n",
    "        total += targets.size(0)\n",
    "        correct += (predicted == targets).sum().item()\n",
    "    \n",
    "    loss = loss / len(list_loaded_client_data[i])\n",
    "    acc = correct / total\n",
    "    \n",
    "    precision = precision_score(true_labels, predicted_labels, zero_division=0.0)\n",
    "    recall = recall_score(true_labels, predicted_labels,average='binary')\n",
    "\n",
    "    print(\"subG name  is \",client_names[i])\n",
    "    print(f\"Global Testing Accuracy: {acc:.5%}\")\n",
    "    print(f\"Global Precision: {precision:.5%}\")\n",
    "    print(f\"Global Recall: {recall:.5%}\")\n",
    "    print(\"\\n\\n\")\n",
    "\n",
    "    data = {\n",
    "        'SubG': client_names[i],\n",
    "        'Accuracy': acc,\n",
    "        'Precision': precision,\n",
    "        'Recall':recall,\n",
    "        }\n",
    "    client_metrics.append(data)\n",
    "\n",
    "df_CD = pd.DataFrame(client_metrics)\n",
    "df_CD"
   ]
  },
  {
   "cell_type": "code",
   "execution_count": 48,
   "id": "dc54559d-c184-4ade-949d-b0d4a4190cb0",
   "metadata": {},
   "outputs": [
    {
     "ename": "KeyError",
     "evalue": "'Recall'",
     "output_type": "error",
     "traceback": [
      "\u001b[0;31m---------------------------------------------------------------------------\u001b[0m",
      "\u001b[0;31mKeyError\u001b[0m                                  Traceback (most recent call last)",
      "File \u001b[0;32m~/chirag/gpu_env/lib/python3.11/site-packages/pandas/core/indexes/base.py:3791\u001b[0m, in \u001b[0;36mIndex.get_loc\u001b[0;34m(self, key)\u001b[0m\n\u001b[1;32m   3790\u001b[0m \u001b[38;5;28;01mtry\u001b[39;00m:\n\u001b[0;32m-> 3791\u001b[0m     \u001b[38;5;28;01mreturn\u001b[39;00m \u001b[38;5;28;43mself\u001b[39;49m\u001b[38;5;241;43m.\u001b[39;49m\u001b[43m_engine\u001b[49m\u001b[38;5;241;43m.\u001b[39;49m\u001b[43mget_loc\u001b[49m\u001b[43m(\u001b[49m\u001b[43mcasted_key\u001b[49m\u001b[43m)\u001b[49m\n\u001b[1;32m   3792\u001b[0m \u001b[38;5;28;01mexcept\u001b[39;00m \u001b[38;5;167;01mKeyError\u001b[39;00m \u001b[38;5;28;01mas\u001b[39;00m err:\n",
      "File \u001b[0;32mindex.pyx:152\u001b[0m, in \u001b[0;36mpandas._libs.index.IndexEngine.get_loc\u001b[0;34m()\u001b[0m\n",
      "File \u001b[0;32mindex.pyx:181\u001b[0m, in \u001b[0;36mpandas._libs.index.IndexEngine.get_loc\u001b[0;34m()\u001b[0m\n",
      "File \u001b[0;32mpandas/_libs/hashtable_class_helper.pxi:7080\u001b[0m, in \u001b[0;36mpandas._libs.hashtable.PyObjectHashTable.get_item\u001b[0;34m()\u001b[0m\n",
      "File \u001b[0;32mpandas/_libs/hashtable_class_helper.pxi:7088\u001b[0m, in \u001b[0;36mpandas._libs.hashtable.PyObjectHashTable.get_item\u001b[0;34m()\u001b[0m\n",
      "\u001b[0;31mKeyError\u001b[0m: 'Recall'",
      "\nThe above exception was the direct cause of the following exception:\n",
      "\u001b[0;31mKeyError\u001b[0m                                  Traceback (most recent call last)",
      "Cell \u001b[0;32mIn[48], line 9\u001b[0m\n\u001b[1;32m      6\u001b[0m     ax\u001b[38;5;241m.\u001b[39mscatter(client, df_ff[\u001b[38;5;124m'\u001b[39m\u001b[38;5;124mAccuracy\u001b[39m\u001b[38;5;124m'\u001b[39m][i], c\u001b[38;5;241m=\u001b[39mcolors[i], marker\u001b[38;5;241m=\u001b[39m\u001b[38;5;124m'\u001b[39m\u001b[38;5;124mo\u001b[39m\u001b[38;5;124m'\u001b[39m, label\u001b[38;5;241m=\u001b[39m\u001b[38;5;124mf\u001b[39m\u001b[38;5;124m'\u001b[39m\u001b[38;5;124msubG_\u001b[39m\u001b[38;5;132;01m{\u001b[39;00mclient\u001b[38;5;132;01m}\u001b[39;00m\u001b[38;5;124m - Accuracy\u001b[39m\u001b[38;5;124m'\u001b[39m)\n\u001b[1;32m      8\u001b[0m \u001b[38;5;28;01mfor\u001b[39;00m i, client \u001b[38;5;129;01min\u001b[39;00m \u001b[38;5;28menumerate\u001b[39m(df_ff[\u001b[38;5;124m'\u001b[39m\u001b[38;5;124mSubG\u001b[39m\u001b[38;5;124m'\u001b[39m]):\n\u001b[0;32m----> 9\u001b[0m     ax\u001b[38;5;241m.\u001b[39mscatter(client, \u001b[43mdf_ff\u001b[49m\u001b[43m[\u001b[49m\u001b[38;5;124;43m'\u001b[39;49m\u001b[38;5;124;43mRecall\u001b[39;49m\u001b[38;5;124;43m'\u001b[39;49m\u001b[43m]\u001b[49m[i], c\u001b[38;5;241m=\u001b[39mcolors[i], marker\u001b[38;5;241m=\u001b[39m\u001b[38;5;124m'\u001b[39m\u001b[38;5;124mx\u001b[39m\u001b[38;5;124m'\u001b[39m, label\u001b[38;5;241m=\u001b[39m\u001b[38;5;124mf\u001b[39m\u001b[38;5;124m'\u001b[39m\u001b[38;5;124msubG_\u001b[39m\u001b[38;5;132;01m{\u001b[39;00mclient\u001b[38;5;132;01m}\u001b[39;00m\u001b[38;5;124m - TPR\u001b[39m\u001b[38;5;124m'\u001b[39m)\n\u001b[1;32m     11\u001b[0m ax\u001b[38;5;241m.\u001b[39mset_xlabel(\u001b[38;5;124m'\u001b[39m\u001b[38;5;124mSubG\u001b[39m\u001b[38;5;124m'\u001b[39m)\n\u001b[1;32m     12\u001b[0m ax\u001b[38;5;241m.\u001b[39mset_ylabel(\u001b[38;5;124m'\u001b[39m\u001b[38;5;124mValue\u001b[39m\u001b[38;5;124m'\u001b[39m)\n",
      "File \u001b[0;32m~/chirag/gpu_env/lib/python3.11/site-packages/pandas/core/frame.py:3893\u001b[0m, in \u001b[0;36mDataFrame.__getitem__\u001b[0;34m(self, key)\u001b[0m\n\u001b[1;32m   3891\u001b[0m \u001b[38;5;28;01mif\u001b[39;00m \u001b[38;5;28mself\u001b[39m\u001b[38;5;241m.\u001b[39mcolumns\u001b[38;5;241m.\u001b[39mnlevels \u001b[38;5;241m>\u001b[39m \u001b[38;5;241m1\u001b[39m:\n\u001b[1;32m   3892\u001b[0m     \u001b[38;5;28;01mreturn\u001b[39;00m \u001b[38;5;28mself\u001b[39m\u001b[38;5;241m.\u001b[39m_getitem_multilevel(key)\n\u001b[0;32m-> 3893\u001b[0m indexer \u001b[38;5;241m=\u001b[39m \u001b[38;5;28;43mself\u001b[39;49m\u001b[38;5;241;43m.\u001b[39;49m\u001b[43mcolumns\u001b[49m\u001b[38;5;241;43m.\u001b[39;49m\u001b[43mget_loc\u001b[49m\u001b[43m(\u001b[49m\u001b[43mkey\u001b[49m\u001b[43m)\u001b[49m\n\u001b[1;32m   3894\u001b[0m \u001b[38;5;28;01mif\u001b[39;00m is_integer(indexer):\n\u001b[1;32m   3895\u001b[0m     indexer \u001b[38;5;241m=\u001b[39m [indexer]\n",
      "File \u001b[0;32m~/chirag/gpu_env/lib/python3.11/site-packages/pandas/core/indexes/base.py:3798\u001b[0m, in \u001b[0;36mIndex.get_loc\u001b[0;34m(self, key)\u001b[0m\n\u001b[1;32m   3793\u001b[0m     \u001b[38;5;28;01mif\u001b[39;00m \u001b[38;5;28misinstance\u001b[39m(casted_key, \u001b[38;5;28mslice\u001b[39m) \u001b[38;5;129;01mor\u001b[39;00m (\n\u001b[1;32m   3794\u001b[0m         \u001b[38;5;28misinstance\u001b[39m(casted_key, abc\u001b[38;5;241m.\u001b[39mIterable)\n\u001b[1;32m   3795\u001b[0m         \u001b[38;5;129;01mand\u001b[39;00m \u001b[38;5;28many\u001b[39m(\u001b[38;5;28misinstance\u001b[39m(x, \u001b[38;5;28mslice\u001b[39m) \u001b[38;5;28;01mfor\u001b[39;00m x \u001b[38;5;129;01min\u001b[39;00m casted_key)\n\u001b[1;32m   3796\u001b[0m     ):\n\u001b[1;32m   3797\u001b[0m         \u001b[38;5;28;01mraise\u001b[39;00m InvalidIndexError(key)\n\u001b[0;32m-> 3798\u001b[0m     \u001b[38;5;28;01mraise\u001b[39;00m \u001b[38;5;167;01mKeyError\u001b[39;00m(key) \u001b[38;5;28;01mfrom\u001b[39;00m \u001b[38;5;21;01merr\u001b[39;00m\n\u001b[1;32m   3799\u001b[0m \u001b[38;5;28;01mexcept\u001b[39;00m \u001b[38;5;167;01mTypeError\u001b[39;00m:\n\u001b[1;32m   3800\u001b[0m     \u001b[38;5;66;03m# If we have a listlike key, _check_indexing_error will raise\u001b[39;00m\n\u001b[1;32m   3801\u001b[0m     \u001b[38;5;66;03m#  InvalidIndexError. Otherwise we fall through and re-raise\u001b[39;00m\n\u001b[1;32m   3802\u001b[0m     \u001b[38;5;66;03m#  the TypeError.\u001b[39;00m\n\u001b[1;32m   3803\u001b[0m     \u001b[38;5;28mself\u001b[39m\u001b[38;5;241m.\u001b[39m_check_indexing_error(key)\n",
      "\u001b[0;31mKeyError\u001b[0m: 'Recall'"
     ]
    },
    {
     "data": {
      "image/png": "[encoded data removed]",
      "text/plain": [
       "<Figure size 800x400 with 1 Axes>"
      ]
     },
     "metadata": {},
     "output_type": "display_data"
    }
   ],
   "source": [
    "\n",
    "colors = ['b', 'g', 'r', 'c']\n",
    "\n",
    "fig, ax = plt.subplots(figsize=(8, 4))\n",
    "\n",
    "for i, client in enumerate(df_ff['SubG']):\n",
    "    ax.scatter(client, df_ff['Accuracy'][i], c=colors[i], marker='o', label=f'subG_{client} - Accuracy')\n",
    "\n",
    "for i, client in enumerate(df_ff['SubG']):\n",
    "    ax.scatter(client, df_ff['Recall'][i], c=colors[i], marker='x', label=f'subG_{client} - TPR')\n",
    "\n",
    "ax.set_xlabel('SubG')\n",
    "ax.set_ylabel('Value')\n",
    "ax.set_title('FairFed: Accuracy and (TPR)')\n",
    "ax.legend()\n",
    "\n",
    "plt.grid(True)\n",
    "plt.show()"
   ]
  },
  {
   "cell_type": "code",
   "execution_count": null,
   "id": "2ba3349a-db9f-4f99-b5e2-638f0d6f17ff",
   "metadata": {},
   "outputs": [],
   "source": [
    "\n",
    "colors = ['b', 'g', 'r', 'c']\n",
    "\n",
    "fig, ax = plt.subplots(figsize=(8, 4))\n",
    "\n",
    "for i, client in enumerate(df_FA['SubG']):\n",
    "    ax.scatter(client, df_FA['Accuracy'][i], c=colors[i], marker='o', label=f'SubG_{client} - Accuracy')\n",
    "\n",
    "for i, client in enumerate(df_FA['SubG']):\n",
    "    ax.scatter(client, df_FA['Recall'][i], c=colors[i], marker='x', label=f'SubG_{client} - TPR')\n",
    "\n",
    "ax.set_xlabel('SubG')\n",
    "ax.set_ylabel('Value')\n",
    "ax.set_title('FedAVG: Accuracy and (TPR)')\n",
    "ax.legend()\n",
    "\n",
    "plt.grid(True)\n",
    "plt.show()"
   ]
  },
  {
   "cell_type": "code",
   "execution_count": null,
   "id": "3f1f4d6e-ee4b-49fd-8059-f67a4b1eebcb",
   "metadata": {},
   "outputs": [],
   "source": [
    "\n",
    "colors = ['b', 'g', 'r', 'c']\n",
    "\n",
    "fig, ax = plt.subplots(figsize=(8, 4))\n",
    "\n",
    "for i, client in enumerate(df_ff_o['SubG']):\n",
    "    ax.scatter(client, df_ff_o['Accuracy'][i], c=colors[i], marker='o', label=f'SubG_{client} - Accuracy')\n",
    "\n",
    "for i, client in enumerate(df_ff_o['SubG']):\n",
    "    ax.scatter(client, df_ff_o['Recall'][i], c=colors[i], marker='x', label=f'SubG_{client} - TPR')\n",
    "\n",
    "ax.set_xlabel('SubG')\n",
    "ax.set_ylabel('Value')\n",
    "ax.set_title('FairFed_experimental: Accuracy and (TPR)')\n",
    "ax.legend()\n",
    "\n",
    "plt.grid(True)\n",
    "plt.show()"
   ]
  },
  {
   "cell_type": "code",
   "execution_count": null,
   "id": "932d0839-9b7b-4117-8bb0-cc7bf67e30f5",
   "metadata": {},
   "outputs": [],
   "source": [
    "\n",
    "colors = ['b', 'g', 'r', 'c']\n",
    "\n",
    "fig, ax = plt.subplots(figsize=(8, 4))\n",
    "\n",
    "for i, client in enumerate(df_CD['SubG']):\n",
    "    ax.scatter(client, df_CD['Accuracy'][i], c=colors[i], marker='o', label=f'SubG_{client} - Accuracy')\n",
    "\n",
    "for i, client in enumerate(df_CD['SubG']):\n",
    "    ax.scatter(client, df_CD['Recall'][i], c=colors[i], marker='x', label=f'SubG_{client} - TPR')\n",
    "\n",
    "ax.set_xlabel('SubG')\n",
    "ax.set_ylabel('Value')\n",
    "ax.set_title('Classical_DL: Accuracy and (TPR)')\n",
    "ax.legend()\n",
    "\n",
    "plt.grid(True)\n",
    "plt.show()"
   ]
  },
  {
   "cell_type": "code",
   "execution_count": null,
   "id": "33506c17-5843-4429-894c-60b413b7270b",
   "metadata": {},
   "outputs": [],
   "source": []
  },
  {
   "cell_type": "code",
   "execution_count": null,
   "id": "5fd3519e-d3ea-4289-a5a5-d94d302f95eb",
   "metadata": {},
   "outputs": [],
   "source": [
    "import matplotlib.pyplot as plt\n",
    "\n",
    "# Data\n",
    "client_names = ['Client 1', 'Client 2', 'Client 3', 'Client 4']\n",
    "data_sizes = [27424, 28685, 39815, 40480]\n",
    "\n",
    "# Dictionary to map old names to new names\n",
    "name_mapping = {\n",
    "    'Client 1': 'WM_BM_BW',\n",
    "    'Client 2': 'WW_BW_BM',\n",
    "    'Client 3': 'BM_WM_WW',\n",
    "    'Client 4': 'WW_WM_BW'\n",
    "}\n",
    "\n",
    "client_names = [name_mapping[name] for name in client_names]\n",
    "\n",
    "# Create a bar chart\n",
    "plt.bar(client_names, data_sizes, color=['blue', 'green', 'red', 'purple'])\n",
    "plt.xlabel('Client')\n",
    "plt.ylabel('Data Size')\n",
    "plt.title('Data Size for Each Client')\n",
    "plt.xticks(rotation=45)  # Rotate x-axis labels for better visibility\n",
    "plt.show()\n"
   ]
  },
  {
   "cell_type": "markdown",
   "id": "dddf64ef-83e6-4ed8-ad32-109430a3fb87",
   "metadata": {},
   "source": [
    "# individual client performance\n",
    "\n",
    "Generated using random split (fairFed)"
   ]
  },
  {
   "cell_type": "code",
   "execution_count": null,
   "id": "818a1cdb-b660-4500-ad1b-aec2303ae1c7",
   "metadata": {},
   "outputs": [],
   "source": [
    "# these are generated with fairfed"
   ]
  },
  {
   "cell_type": "code",
   "execution_count": null,
   "id": "df70912f-cc47-4d55-808f-84ec71a9e1a7",
   "metadata": {},
   "outputs": [],
   "source": []
  },
  {
   "cell_type": "code",
   "execution_count": 50,
   "id": "f5f51fe0-7a4b-48d7-b511-f6d371edbc55",
   "metadata": {},
   "outputs": [
    {
     "name": "stdout",
     "output_type": "stream",
     "text": [
      "client:: 0\n",
      "Global Testing Accuracy: 80.66496%\n",
      "Global Precision: 86.61950%\n",
      "Global Recall: 69.70771%\n",
      "\n",
      "\n",
      "\n",
      "client:: 1\n",
      "Global Testing Accuracy: 80.54292%\n",
      "Global Precision: 83.52510%\n",
      "Global Recall: 69.25254%\n",
      "\n",
      "\n",
      "\n",
      "client:: 2\n",
      "Global Testing Accuracy: 79.19377%\n",
      "Global Precision: 74.49763%\n",
      "Global Recall: 74.57095%\n",
      "\n",
      "\n",
      "\n",
      "client:: 3\n",
      "Global Testing Accuracy: 79.15237%\n",
      "Global Precision: 74.45878%\n",
      "Global Recall: 73.91328%\n",
      "\n",
      "\n",
      "\n"
     ]
    },
    {
     "data": {
      "text/html": [
       "<div>\n",
       "<style scoped>\n",
       "    .dataframe tbody tr th:only-of-type {\n",
       "        vertical-align: middle;\n",
       "    }\n",
       "\n",
       "    .dataframe tbody tr th {\n",
       "        vertical-align: top;\n",
       "    }\n",
       "\n",
       "    .dataframe thead th {\n",
       "        text-align: right;\n",
       "    }\n",
       "</style>\n",
       "<table border=\"1\" class=\"dataframe\">\n",
       "  <thead>\n",
       "    <tr style=\"text-align: right;\">\n",
       "      <th></th>\n",
       "      <th>Client ID</th>\n",
       "      <th>Accuracy</th>\n",
       "      <th>Precision</th>\n",
       "      <th>Recall</th>\n",
       "    </tr>\n",
       "  </thead>\n",
       "  <tbody>\n",
       "    <tr>\n",
       "      <th>0</th>\n",
       "      <td>0</td>\n",
       "      <td>0.806650</td>\n",
       "      <td>0.866195</td>\n",
       "      <td>0.697077</td>\n",
       "    </tr>\n",
       "    <tr>\n",
       "      <th>1</th>\n",
       "      <td>1</td>\n",
       "      <td>0.805429</td>\n",
       "      <td>0.835251</td>\n",
       "      <td>0.692525</td>\n",
       "    </tr>\n",
       "    <tr>\n",
       "      <th>2</th>\n",
       "      <td>2</td>\n",
       "      <td>0.791938</td>\n",
       "      <td>0.744976</td>\n",
       "      <td>0.745710</td>\n",
       "    </tr>\n",
       "    <tr>\n",
       "      <th>3</th>\n",
       "      <td>3</td>\n",
       "      <td>0.791524</td>\n",
       "      <td>0.744588</td>\n",
       "      <td>0.739133</td>\n",
       "    </tr>\n",
       "  </tbody>\n",
       "</table>\n",
       "</div>"
      ],
      "text/plain": [
       "   Client ID  Accuracy  Precision    Recall\n",
       "0          0  0.806650   0.866195  0.697077\n",
       "1          1  0.805429   0.835251  0.692525\n",
       "2          2  0.791938   0.744976  0.745710\n",
       "3          3  0.791524   0.744588  0.739133"
      ]
     },
     "execution_count": 50,
     "metadata": {},
     "output_type": "execute_result"
    }
   ],
   "source": [
    "import torch\n",
    "\n",
    "size = 0\n",
    "loss = 0\n",
    "correct = 0\n",
    "total = 0\n",
    "predicted_labels = []\n",
    "true_labels = []\n",
    "final_fairness = []\n",
    "selected_clients = [0, 1, 2, 3]\n",
    "\n",
    "model=DeepNet()\n",
    "\n",
    "models_directory = \"/home/chiragpandav/chirag/FL/FedFB/models/\"\n",
    "\n",
    "client_metrics=[]\n",
    "# Assuming model and criterion are already defined and loaded onto the GPU\n",
    "\n",
    "criterion = criterion.to(device)\n",
    "\n",
    "for i in range(len(selected_clients)):\n",
    "    model_path = os.path.join(models_directory, f\"client_{i}_model.pth\")  \n",
    "    model.load_state_dict(torch.load(model_path,map_location=device))\n",
    "    model.eval()\n",
    "    print(\"client::\",i)\n",
    "    model = model.to(device)\n",
    "    for inputs, targets, sens in list_loaded_client_data[i]:\n",
    "        inputs, targets = inputs.to(device), targets.to(device)\n",
    "        \n",
    "        outputs = model(inputs)\n",
    "        loss += criterion(outputs, targets)\n",
    "        predicted = outputs > 0.5\n",
    "\n",
    "        predicted_labels.extend(predicted.cpu().numpy())\n",
    "        true_labels.extend(targets.cpu().numpy())\n",
    "        \n",
    "        total += targets.size(0)\n",
    "        correct += (predicted == targets).sum().item()\n",
    "    \n",
    "    loss = loss / len(list_loaded_client_data[i])\n",
    "    acc = correct / total\n",
    "    \n",
    "    precision = precision_score(true_labels, predicted_labels, zero_division=0.0)\n",
    "    recall = recall_score(true_labels, predicted_labels)\n",
    "    \n",
    "    print(f\"Global Testing Accuracy: {acc:.5%}\")\n",
    "    print(f\"Global Precision: {precision:.5%}\")\n",
    "    print(f\"Global Recall: {recall:.5%}\")\n",
    "    print(\"\\n\\n\")\n",
    "\n",
    "    data = {\n",
    "        'Client ID': i,\n",
    "        'Accuracy': acc,\n",
    "        'Precision': precision,\n",
    "        'Recall':recall,\n",
    "        }\n",
    "    client_metrics.append(data)\n",
    "\n",
    "df_CD = pd.DataFrame(client_metrics)\n",
    "df_CD"
   ]
  },
  {
   "cell_type": "code",
   "execution_count": null,
   "id": "c82cabe2-7769-4017-ac87-2c9aa03ee11b",
   "metadata": {},
   "outputs": [],
   "source": [
    "\n",
    "colors = ['b', 'g', 'r', 'c']\n",
    "\n",
    "fig, ax = plt.subplots(figsize=(8, 4))\n",
    "\n",
    "for i, client in enumerate(df_CD['Client ID']):\n",
    "    ax.scatter(client, df_CD['Accuracy'][i], c=colors[i], marker='o', label=f'Client {client} - Accuracy')\n",
    "\n",
    "for i, client in enumerate(df_CD['Client ID']):\n",
    "    ax.scatter(client, df_CD['Recall'][i], c=colors[i], marker='x', label=f'Client {client} - TPR')\n",
    "\n",
    "ax.set_xlabel('Client ID')\n",
    "ax.set_ylabel('Value')\n",
    "ax.set_title('individual client performance: Accuracy and (TPR)')\n",
    "ax.legend()\n",
    "\n",
    "plt.grid(True)\n",
    "plt.show()"
   ]
  },
  {
   "cell_type": "code",
   "execution_count": null,
   "id": "f84e9d67-0da7-47b8-b69a-7dfdce596ca5",
   "metadata": {},
   "outputs": [],
   "source": []
  },
  {
   "cell_type": "code",
   "execution_count": null,
   "id": "b7858821-b0f2-41a8-8e86-5541a620735d",
   "metadata": {},
   "outputs": [],
   "source": []
  },
  {
   "cell_type": "code",
   "execution_count": null,
   "id": "3a3d41be-5a51-47a0-b9b2-0f198a048353",
   "metadata": {},
   "outputs": [],
   "source": []
  },
  {
   "cell_type": "code",
   "execution_count": null,
   "id": "a55313aa-7f20-4c03-9081-c6f84faebfcb",
   "metadata": {},
   "outputs": [],
   "source": []
  },
  {
   "cell_type": "code",
   "execution_count": null,
   "id": "1643cdca-9690-4b75-8951-b488d8896d94",
   "metadata": {},
   "outputs": [],
   "source": []
  },
  {
   "cell_type": "code",
   "execution_count": null,
   "id": "3388dc07-f520-420b-968c-77c5ac2b691c",
   "metadata": {},
   "outputs": [],
   "source": []
  },
  {
   "cell_type": "code",
   "execution_count": null,
   "id": "a1e64136-d372-471d-828b-7bac2cee2477",
   "metadata": {},
   "outputs": [],
   "source": []
  },
  {
   "cell_type": "code",
   "execution_count": null,
   "id": "0a802d96-81c2-4824-87ca-879beb395b67",
   "metadata": {},
   "outputs": [],
   "source": []
  },
  {
   "cell_type": "code",
   "execution_count": null,
   "id": "710f2d84-070f-49b2-880a-503f427195fa",
   "metadata": {},
   "outputs": [],
   "source": []
  },
  {
   "cell_type": "code",
   "execution_count": null,
   "id": "e60e8a5c-601b-4bff-82d5-c3cef87bfae9",
   "metadata": {},
   "outputs": [],
   "source": []
  },
  {
   "cell_type": "code",
   "execution_count": null,
   "id": "e46a3913-decd-4faa-9571-038f4c6392b3",
   "metadata": {},
   "outputs": [],
   "source": []
  },
  {
   "cell_type": "code",
   "execution_count": null,
   "id": "b0fa1817-8f30-4fa9-966c-ff00755baf55",
   "metadata": {},
   "outputs": [],
   "source": []
  },
  {
   "cell_type": "code",
   "execution_count": null,
   "id": "c4db5b2e-2b75-41aa-bc9e-a2ef818c6aa9",
   "metadata": {},
   "outputs": [],
   "source": []
  }
 ],
 "metadata": {
  "kernelspec": {
   "display_name": "Python 3 (ipykernel)",
   "language": "python",
   "name": "python3"
  },
  "language_info": {
   "codemirror_mode": {
    "name": "ipython",
    "version": 3
   },
   "file_extension": ".py",
   "mimetype": "text/x-python",
   "name": "python",
   "nbconvert_exporter": "python",
   "pygments_lexer": "ipython3",
   "version": "3.11.7"
  }
 },
 "nbformat": 4,
 "nbformat_minor": 5
}
