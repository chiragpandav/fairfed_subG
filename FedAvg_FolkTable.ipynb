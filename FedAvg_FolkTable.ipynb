{
 "cells": [
  {
   "cell_type": "code",
   "execution_count": 1,
   "id": "0f3f2206",
   "metadata": {},
   "outputs": [],
   "source": [
    "# !pip install rich"
   ]
  },
  {
   "cell_type": "code",
   "execution_count": null,
   "id": "ef46b949",
   "metadata": {},
   "outputs": [],
   "source": []
  },
  {
   "cell_type": "code",
   "execution_count": 1,
   "id": "a50eedd3",
   "metadata": {},
   "outputs": [],
   "source": [
    "import pandas as pd\n",
    "import numpy as np\n",
    "import copy\n",
    "from argparse import Namespace\n",
    "from copy import deepcopy\n",
    "import torch.nn as nn\n",
    "from sklearn import preprocessing\n",
    "import torch.optim as optim\n",
    "from sklearn.preprocessing import LabelEncoder\n",
    "from folktables import ACSDataSource, ACSEmployment,ACSIncome\n",
    "import matplotlib.pyplot as plt\n",
    "import shutil\n",
    "import torch.nn.functional as F\n",
    "import tqdm\n",
    "from sklearn.model_selection import StratifiedKFold, train_test_split\n",
    "from sklearn.preprocessing import LabelEncoder\n",
    "import torch\n",
    "from torchvision import models\n",
    "from torchsummary import summary\n",
    "from torch.utils.data import Dataset, DataLoader\n",
    "from sklearn.metrics import accuracy_score\n",
    "from typing import Dict, List, OrderedDict, Tuple\n",
    "import pickle\n",
    "from collections import OrderedDict\n",
    "from typing import OrderedDict\n",
    "from typing import Dict, List, OrderedDict, Tuple, Union\n",
    "from torch.utils.data import DataLoader, Subset, random_split\n",
    "from collections import OrderedDict\n",
    "import os\n",
    "import random\n",
    "from sklearn.metrics import precision_score, recall_score\n",
    "\n",
    "from path import Path\n",
    "from rich.console import Console\n",
    "from rich.progress import track\n",
    "from collections import OrderedDict\n",
    "import os\n",
    "import torch\n",
    "import random\n",
    "from collections import OrderedDict\n",
    "from typing import List, OrderedDict, Tuple\n"
   ]
  },
  {
   "cell_type": "code",
   "execution_count": null,
   "id": "5fa7fcf2",
   "metadata": {},
   "outputs": [],
   "source": []
  },
  {
   "cell_type": "code",
   "execution_count": 2,
   "id": "acd50dca",
   "metadata": {},
   "outputs": [
    {
     "name": "stdout",
     "output_type": "stream",
     "text": [
      "Deleted: /home/chiragapandav/Downloads/Hiwi/pFedLA_Folktable/temp/my_model/epoch.pkl\n",
      "Deleted: /home/chiragapandav/Downloads/Hiwi/pFedLA_Folktable/temp/my_model/global_model.pt\n",
      "All files removed successfully.\n"
     ]
    }
   ],
   "source": [
    "import os\n",
    "import shutil\n",
    "\n",
    "old_model_path = \"/home/chiragapandav/Downloads/Hiwi/pFedLA_Folktable/temp/my_model\"\n",
    "client_models_path = \"/home/chiragapandav/Downloads/Hiwi/pFedLA_Folktable/src/pkl_files/hn\"\n",
    "\n",
    "\n",
    "for file in os.listdir(old_model_path):\n",
    "    file_path = os.path.join(old_model_path, file)\n",
    "    os.remove(file_path)\n",
    "    print(f\"Deleted: {file_path}\")\n",
    "    \n",
    "for file in os.listdir(client_models_path):\n",
    "    file_path = os.path.join(client_models_path, file)\n",
    "    os.remove(file_path)\n",
    "    print(f\"Deleted: {file_path}\")\n",
    "        \n",
    "\n",
    "\n",
    "print(\"All files removed successfully.\")"
   ]
  },
  {
   "cell_type": "code",
   "execution_count": null,
   "id": "3ab0364f-b8b8-4e30-a675-779eac9e81c9",
   "metadata": {},
   "outputs": [],
   "source": []
  },
  {
   "cell_type": "code",
   "execution_count": 3,
   "id": "1dc33154",
   "metadata": {},
   "outputs": [],
   "source": [
    " \n",
    "class DeepNet(nn.Module):\n",
    "    def __init__(self):\n",
    "        super().__init__()\n",
    "        # 14 : input shape\n",
    "        # 9-> we have 9 columns in data \n",
    "        self.layer1 = nn.Linear(14, 512)\n",
    "        self.act1 = nn.ReLU()\n",
    "        self.dropout1 = nn.Dropout(p=0.5)\n",
    "        self.layer2 = nn.Linear(512, 256)\n",
    "        self.act2 = nn.ReLU()\n",
    "        self.layer3 = nn.Linear(256, 60)\n",
    "        self.act3 = nn.ReLU()\n",
    "        self.output = nn.Linear(60, 1)\n",
    "        self.sigmoid = nn.Sigmoid()\n",
    "\n",
    "    def forward(self, x):\n",
    "        x = self.act1(self.layer1(x))\n",
    "        x = self.dropout1(x)\n",
    "        x = self.act2(self.layer2(x))\n",
    "        x = self.act3(self.layer3(x))\n",
    "        x = self.sigmoid(self.output(x))\n",
    "        return x\n",
    "\n"
   ]
  },
  {
   "cell_type": "code",
   "execution_count": 4,
   "id": "ad00a80f",
   "metadata": {},
   "outputs": [],
   "source": [
    "\n",
    "def fix_random_seed(seed: int) -> None:\n",
    "    \n",
    "#     print(\"fix_random_seed Chirag\")\n",
    "    \n",
    "    torch.cuda.empty_cache()\n",
    "    torch.random.manual_seed(seed)\n",
    "    torch.cuda.manual_seed(seed)\n",
    "    random.seed(seed)\n",
    "    np.random.seed(seed)\n",
    "    torch.backends.cudnn.deterministic = True\n",
    "    torch.backends.cudnn.benchmark = True\n",
    "\n",
    "    \n",
    "def clone_parameters(\n",
    "    src: Union[OrderedDict[str, torch.Tensor], torch.nn.Module]\n",
    ") -> OrderedDict[str, torch.Tensor]:\n",
    "    \n",
    "#     print(\"clone_parameters Chirag\")\n",
    "    \n",
    "    if isinstance(src, OrderedDict):\n",
    "        return OrderedDict(\n",
    "            {\n",
    "                name: param.clone().detach().requires_grad_(param.requires_grad)\n",
    "                for name, param in src.items()\n",
    "            }\n",
    "        )\n",
    "    if isinstance(src, torch.nn.Module):\n",
    "        return OrderedDict(\n",
    "            {\n",
    "                name: param.clone().detach().requires_grad_(param.requires_grad)\n",
    "                for name, param in src.state_dict(keep_vars=True).items()\n",
    "            }\n",
    "        )\n",
    "\n",
    "    \n",
    "    \n",
    "def get_dataloader(\n",
    "    dataset: str,\n",
    "    client_id: int,\n",
    "    batch_size=10,\n",
    "    valset_ratio=0.2,\n",
    "    testset_ratio=0.1,\n",
    "    only_dataset=False,\n",
    ") -> Dict[str, Union[DataLoader, Subset]]:\n",
    "    \n",
    "    print(\"get_dataloader Chirag \")\n",
    "    \n",
    "    args_dict = json.load(open(DATASETS_DIR / \"args.json\", \"r\"))\n",
    "    client_num_in_each_pickles = args_dict[\"client_num_in_each_pickles\"]\n",
    "    pickles_dir = DATASETS_DIR / dataset / \"pickles\"\n",
    "    if os.path.isdir(pickles_dir) is False:\n",
    "        raise RuntimeError(\"Please preprocess and create pickles first.\")\n",
    "\n",
    "    pickle_path = (\n",
    "        pickles_dir / f\"{math.floor(client_id / client_num_in_each_pickles)}.pkl\"\n",
    "    )\n",
    "    with open(pickle_path, \"rb\") as f:\n",
    "        subset = pickle.load(f)\n",
    "    client_dataset = subset[client_id % client_num_in_each_pickles]\n",
    "    val_samples_num = int(len(client_dataset) * valset_ratio)\n",
    "    test_samples_num = int(len(client_dataset) * testset_ratio)\n",
    "    train_samples_num = len(client_dataset) - val_samples_num - test_samples_num\n",
    "    trainset, valset, testset = random_split(\n",
    "        client_dataset, [train_samples_num, val_samples_num, test_samples_num]\n",
    "    )\n",
    "    if only_dataset:\n",
    "        return {\"train\": trainset, \"val\": valset, \"test\": testset}\n",
    "    trainloader = DataLoader(trainset, batch_size, shuffle=True)\n",
    "    valloader = DataLoader(valset, batch_size)\n",
    "    testloader = DataLoader(testset, batch_size)\n",
    "    \n",
    "    return {\"train\": trainloader, \"val\": valloader, \"test\": testloader}\n"
   ]
  },
  {
   "cell_type": "code",
   "execution_count": null,
   "id": "f5d42ef3",
   "metadata": {},
   "outputs": [],
   "source": []
  },
  {
   "cell_type": "code",
   "execution_count": 5,
   "id": "e905b8d0",
   "metadata": {},
   "outputs": [],
   "source": [
    "\n",
    "class ClientBase:\n",
    "    def __init__(\n",
    "        self,\n",
    "        backbone: torch.nn.Module,\n",
    "        dataset: str,\n",
    "        batch_size: int,\n",
    "        valset_ratio: float,\n",
    "        testset_ratio: float,\n",
    "        local_epochs: int,\n",
    "        local_lr: float,\n",
    "        logger: Console,\n",
    "        gpu: int,\n",
    "    ):\n",
    "        self.device = torch.device(\n",
    "            \"cuda\" if gpu and torch.cuda.is_available() else \"cpu\"\n",
    "        )\n",
    "        self.client_id: int = None\n",
    "        self.valset: DataLoader = None\n",
    "        self.trainset: DataLoader = None\n",
    "        self.testset: DataLoader = None\n",
    "        \n",
    "        \n",
    "        # need to change\n",
    "#         self.model: torch.nn.Module = init_model\n",
    "        self.model: torch.nn.Module = deepcopy(backbone)\n",
    "        \n",
    "#         print(\"model client\", self.model.parameters())\n",
    "        \n",
    "#         self.optimizer: torch.optim.Optimizer = torch.optim.SGD(\n",
    "#             self.model.parameters(), lr=local_lr\n",
    "#         )\n",
    "            \n",
    "        self.optimizer: torch.optim.Optimizer = torch.optim.Adam(\n",
    "            self.model.parameters(), lr=local_lr\n",
    "        )\n",
    "          \n",
    "        self.batch_size = batch_size\n",
    "        self.valset_ratio = valset_ratio\n",
    "        self.testset_ratio = testset_ratio\n",
    "        self.local_epochs = local_epochs\n",
    "        self.local_lr = local_lr\n",
    "        self.criterion = torch.nn.BCELoss()\n",
    "        self.logger = logger\n",
    "        \n",
    "        print(\"Base Client constructor\")\n",
    "\n",
    "\n",
    "    \n",
    "    @torch.no_grad()\n",
    "    def evaluate(self):\n",
    "        self.model.eval()\n",
    "        size = 0\n",
    "        loss = 0\n",
    "        correct = 0\n",
    "        total = 0\n",
    "        predicted_labels = []\n",
    "        true_labels = []\n",
    "        \n",
    "        for inputs, targets ,z in self.testset:\n",
    "            \n",
    "            inputs, targets = inputs.to(self.device), targets.to(self.device)\n",
    "            \n",
    "            outputs = self.model(inputs)\n",
    "            loss += self.criterion(outputs, targets)\n",
    "            predicted = outputs > 0.5\n",
    "            \n",
    "#             print(\"predicted\",predicted)\n",
    "            predicted_labels.extend(predicted.cpu().numpy())\n",
    "            true_labels.extend(targets.cpu().numpy())\n",
    "            \n",
    "            total += targets.size(0)\n",
    "            correct += (predicted == targets).sum().item()\n",
    "            \n",
    "        \n",
    "        loss = loss / len(self.testset)\n",
    "        acc = correct / total\n",
    "        \n",
    "        # print(\"loss: %f\\n\" % (loss))\n",
    "        \n",
    "        print(f\"Testing Accuracy: {acc:.2%}\")\n",
    "#         print(predicted_labels,\" :: \",true_labels)\n",
    "        precision = precision_score(true_labels, predicted_labels,zero_division=0.0)\n",
    "        \n",
    "        recall = recall_score(true_labels, predicted_labels)\n",
    "\n",
    "        print(f\"Precision: {precision:.2%}\")\n",
    "        print(f\"Recall: {recall:.2%}\")\n",
    "        \n",
    "        print(\"\\n\\n\")\n",
    "\n",
    "        \n",
    "        return loss, acc\n",
    "    \n",
    "\n",
    "    def train(self):\n",
    "        print(\"Base Client train called\")\n",
    "        pass\n",
    "\n",
    "    def _train(self):\n",
    "        print(\"Base Client __train called\")\n",
    "        pass\n",
    "\n",
    "    # def get_client_local_dataset(self):\n",
    "        \n",
    "    #     print(\"self.client_id:: \",self.client_id)\n",
    "                                \n",
    "    #     temp_path_data=\"/home/chiragapandav/Downloads/Hiwi/pFedLA_Folktable\"\n",
    "        \n",
    "    #     with open(temp_path_data+\"/clients_training.pkl\", \"rb\") as f:\n",
    "    #         self.trainset = pickle.load(f)\n",
    "            \n",
    "    #     with open(temp_path_data+\"/clients_validation.pkl\", \"rb\") as f:\n",
    "    #         self.valset = pickle.load(f)\n",
    "        \n",
    "    #     with open(temp_path_data+\"/clients_testing.pkl\", \"rb\") as f:\n",
    "    #         self.testset  = pickle.load(f)\n",
    "        \n",
    "    #     self.trainset = self.trainset[self.client_id]\n",
    "    #     self.valset = self.valset[self.client_id]       \n",
    "    #     self.testset = self.testset[self.client_id]\n",
    "\n",
    "                \n",
    "    #     print(\"self.client_id :: len(self.trainset)\",self.client_id,\"::\",len(self.trainset))\n",
    "        \n",
    "    def get_client_local_dataset(self):\n",
    "                \n",
    "        temp_path_data=\"/home/chiragapandav/Downloads/Hiwi/Improving-Fairness-via-Federated-Learning/FedFB/data_fairFed\"\n",
    "        \n",
    "        with open(temp_path_data+\"/clients_training.pkl\", \"rb\") as f:\n",
    "            self.trainset = pickle.load(f)\n",
    "            \n",
    "        with open(temp_path_data+\"/clients_validation.pkl\", \"rb\") as f:\n",
    "            self.valset = pickle.load(f)\n",
    "         \n",
    "        with open(temp_path_data+\"/clients_testing_wrong.pkl\", \"rb\") as f:\n",
    "            self.testset  = pickle.load(f)\n",
    "\n",
    "        self.trainset = self.trainset[self.client_id]\n",
    "        self.valset = self.valset[self.client_id]       \n",
    "        self.testset = self.testset[self.client_id]\n",
    "\n",
    "    \n",
    "    def _log_while_training(self, evaluate=True, verbose=False):\n",
    "        def _log_and_train(*args, **kwargs):\n",
    "            loss_before = 0\n",
    "            loss_after = 0\n",
    "            acc_before = 0\n",
    "            acc_after = 0\n",
    "            if evaluate:\n",
    "                loss_before, acc_before = self.evaluate()\n",
    "\n",
    "            res = self._train(*args, **kwargs)\n",
    "\n",
    "            if evaluate:\n",
    "                loss_after, acc_after = self.evaluate()\n",
    "                        \n",
    "#             if verbose:\n",
    "#                 self.logger.log(\n",
    "#                     \"client [{}]   [bold red]loss: {:.4f} -> {:.4f}    [bold blue]accuracy: {:.2f}% -> {:.2f}%\".format(\n",
    "#                         self.client_id, loss_before, loss_after, acc_before, acc_after\n",
    "#                     )\n",
    "#                 )\n",
    "\n",
    "            eval_stats = {\n",
    "                \"loss_before\": loss_before,\n",
    "                \"loss_after\": loss_after,\n",
    "                \"acc_before\": acc_before,\n",
    "                \"acc_after\": acc_after,\n",
    "            }\n",
    "            \n",
    "            return res, eval_stats\n",
    "\n",
    "        return _log_and_train\n",
    "\n",
    "    def set_parameters(self, model_params: OrderedDict):\n",
    "\n",
    "        self.model.load_state_dict(model_params, strict=True)\n"
   ]
  },
  {
   "cell_type": "code",
   "execution_count": null,
   "id": "9cde0850",
   "metadata": {},
   "outputs": [],
   "source": []
  },
  {
   "cell_type": "code",
   "execution_count": 6,
   "id": "5055145d",
   "metadata": {},
   "outputs": [],
   "source": [
    "\n",
    "class FedAvgClient(ClientBase):\n",
    "    def __init__(\n",
    "        self,\n",
    "        backbone: torch.nn.Module,\n",
    "        dataset: str,\n",
    "        batch_size: int,\n",
    "        valset_ratio: float,\n",
    "        testset_ratio: float,\n",
    "        local_epochs: int,\n",
    "        local_lr: float,\n",
    "        logger: Console,\n",
    "        gpu: int,\n",
    "    ):\n",
    "        super(FedAvgClient, self).__init__(\n",
    "            backbone,\n",
    "            dataset,\n",
    "            batch_size,\n",
    "            valset_ratio,\n",
    "            testset_ratio,\n",
    "            local_epochs,\n",
    "            local_lr,\n",
    "            logger,\n",
    "            gpu,\n",
    "        )\n",
    "\n",
    "    def train(\n",
    "        self,\n",
    "        client_id: int,\n",
    "        model_params: OrderedDict[str, torch.Tensor],\n",
    "        verbose=True,\n",
    "    ):\n",
    "        self.client_id = client_id\n",
    "        self.set_parameters(model_params)\n",
    "        self.get_client_local_dataset()\n",
    "        self.model.to(self.device)\n",
    "        \n",
    "        res, stats = self._log_while_training(evaluate=True, verbose=verbose)()\n",
    "        \n",
    "        self.model.cpu()\n",
    "        return res, stats\n",
    "\n",
    "    def _train(self):\n",
    "        self.model.train()\n",
    "        for epoch in range(self.local_epochs):\n",
    "            print(\"epoch\",epoch)\n",
    "            for x, y,z in self.trainset:\n",
    "                x, y = x.to(self.device), y.to(self.device)\n",
    "                logits = self.model(x)\n",
    "                loss = self.criterion(logits, y)\n",
    "                self.optimizer.zero_grad()\n",
    "                loss.backward()\n",
    "                self.optimizer.step()\n",
    "        return list(self.model.state_dict().values()), len(self.trainset.dataset)\n",
    "\n",
    "    def test(\n",
    "        self, client_id: int, model_params: OrderedDict[str, torch.Tensor],\n",
    "    ):\n",
    "        self.client_id = client_id\n",
    "        self.set_parameters(model_params)\n",
    "        self.get_client_local_dataset()\n",
    "        self.model.to(self.device)\n",
    "        loss, acc = self.evaluate()\n",
    "        self.model.cpu()\n",
    "        stats = {\"loss\": loss, \"acc\": acc}\n",
    "        return stats\n"
   ]
  },
  {
   "cell_type": "code",
   "execution_count": null,
   "id": "f2499dcb",
   "metadata": {},
   "outputs": [],
   "source": []
  },
  {
   "cell_type": "code",
   "execution_count": 7,
   "id": "e0d78bf6",
   "metadata": {},
   "outputs": [],
   "source": [
    "class ServerBase:\n",
    "    def __init__(self, args: Namespace, algo: str):\n",
    "        self.algo = algo\n",
    "        self.args = args\n",
    "        \n",
    "        # default log file format\n",
    "        self.log_name = \"{}_{}_{}_{}.html\".format(\n",
    "            self.algo,\n",
    "            self.args.dataset,\n",
    "            self.args.global_epochs,\n",
    "            self.args.local_epochs,\n",
    "        )\n",
    "\n",
    "        self.device = torch.device(\"cuda\" if torch.cuda.is_available() else \"cpu\")\n",
    "\n",
    "        fix_random_seed(self.args.seed)\n",
    "        \n",
    "#         self.backbone= (DeepNet)   \n",
    "        \n",
    "        self.backbone = (\n",
    "            CNNWithBatchNorm\n",
    "            if self.args.dataset in [\"cifar10\", \"cifar100\"]\n",
    "            else DeepNet\n",
    "        )\n",
    "        \n",
    "        print(\"self.backbone\",self.backbone)\n",
    "        \n",
    "        self.logger = Console(record=True, log_path=False, log_time=False,)\n",
    "        \n",
    "        self.client_id_indices, self.client_num_in_total = [0,1,2,3], 4\n",
    "        \n",
    "        self.temp_dir =\"/home/chiragapandav/Downloads/Hiwi/pFedLA_Folktable/temp/my_model\"\n",
    "\n",
    "#         name_of_model = '../../WW_WM_BW.pth'\n",
    "        #  self.temp_dir = TEMP_DIR / self.algo\n",
    "        if not os.path.isdir(self.temp_dir):\n",
    "            os.makedirs(self.temp_dir)\n",
    "            \n",
    "#         _dummy_model = self.backbone(self.args.dataset)\n",
    "        _dummy_model = self.backbone()\n",
    "#         _dummy_model = DeepNet()\n",
    "    \n",
    "#         print(\"_dummy_model:: base\",_dummy_model)\n",
    "        \n",
    "        passed_epoch = 0\n",
    "        self.global_params_dict: OrderedDict[str : torch.Tensor] = None\n",
    "        \n",
    "        if os.listdir(self.temp_dir) != []:\n",
    "            if os.path.exists(os.path.join(self.temp_dir, \"global_model.pt\")):\n",
    "                \n",
    "                self.global_params_dict = torch.load(os.path.join(self.temp_dir, \"global_model.pt\"))\n",
    "                self.logger.log(\"Find existed global model...\")\n",
    "\n",
    "            if os.path.exists(os.path.join(self.temp_dir, \"epoch.pkl\")):  \n",
    "                with open(os.path.join(self.temp_dir, \"epoch.pkl\"), \"rb\") as f:\n",
    "#               \n",
    "                    passed_epoch = pickle.load(f)\n",
    "                self.logger.log(f\"Have run {passed_epoch} epochs already.\",)\n",
    "        else:\n",
    "            self.global_params_dict = OrderedDict(_dummy_model.state_dict())\n",
    "            \n",
    "#         self.global_params_dict = OrderedDict(_dummy_model.state_dict())\n",
    "#         print(\"self.global_params_dict: \",self.global_params_dict)\n",
    "\n",
    "        self.global_epochs = self.args.global_epochs - passed_epoch\n",
    "#         self.global_epochs = self.global_epochs - passed_epoch\n",
    "    \n",
    "        self.logger.log(\"Backbone:\", _dummy_model)\n",
    "\n",
    "        self.trainer: ClientBase = None\n",
    "        self.all_clients_stats = {i: {} for i in self.client_id_indices}\n",
    "           \n",
    "            \n",
    "        print(\"Base Server Called !\")\n",
    "        \n",
    "    def train(self):\n",
    "\n",
    "        print(\"In Base server  train\\n\")\n",
    "        \n",
    "        self.logger.log(\"=\" * 30, \"TRAINING\", \"=\" * 30, style=\"bold green\")\n",
    "        progress_bar = (\n",
    "            track(\n",
    "                range(self.global_epochs),\n",
    "                \"[bold green]Training...\",\n",
    "                console=self.logger,\n",
    "            )\n",
    "            if not self.args.log\n",
    "            else tqdm(range(self.global_epochs), \"Training...\")\n",
    "        )\n",
    "        for E in progress_bar:\n",
    "\n",
    "            if E % self.args.verbose_gap == 0:\n",
    "                self.logger.log(\"=\" * 30, f\"ROUND: {E}\", \"=\" * 30)\n",
    "\n",
    "            selected_clients = random.sample(\n",
    "                self.client_id_indices, self.args.client_num_per_round\n",
    "            )\n",
    "            \n",
    "            updated_params_cache = []\n",
    "            weights_cache = []\n",
    "\n",
    "            for client_id in selected_clients:\n",
    "                \n",
    "                client_local_params = clone_parameters(self.global_params_dict)\n",
    "                                \n",
    "                (updated_params, weight), stats = self.trainer.train(\n",
    "                    client_id=client_id,\n",
    "                    model_params=client_local_params,\n",
    "                    verbose=(E % self.args.verbose_gap) == 0,\n",
    "                )\n",
    "\n",
    "                \n",
    "                updated_params_cache.append(updated_params)\n",
    "                weights_cache.append(weight)\n",
    "                print(\"weights_cache\",weights_cache[0])\n",
    "                \n",
    "                self.all_clients_stats[client_id][f\"ROUND: {E}\"] = (\n",
    "                    f\"{stats['loss_before']:.4f} -> {stats['loss_after']:.4f}\",\n",
    "                )\n",
    "\n",
    "            self.aggregate_parameters(updated_params_cache, weights_cache)\n",
    "\n",
    "            if E % self.args.save_period == 0:\n",
    "                torch.save(\n",
    "                    self.global_params_dict, os.path.join(self.temp_dir, \"global_model.pt\"),\n",
    "                )\n",
    "                with open(os.path.join(self.temp_dir, \"epoch.pkl\"), \"wb\") as f:\n",
    "                    pickle.dump(E, f)\n",
    "                    \n",
    "        self.logger.log(self.all_clients_stats)\n",
    "    \n",
    "    @torch.no_grad()\n",
    "    def aggregate_parameters(self, updated_params_cache, weights_cache):\n",
    "        weight_sum = sum(weights_cache)\n",
    "        weights = torch.tensor(weights_cache, device=self.device) / weight_sum\n",
    "\n",
    "        aggregated_params = []\n",
    "\n",
    "        for params in zip(*updated_params_cache):\n",
    "            aggregated_params.append(\n",
    "                torch.sum(weights * torch.stack(params, dim=-1), dim=-1)\n",
    "            )\n",
    "\n",
    "        self.global_params_dict = OrderedDict(\n",
    "            zip(self.global_params_dict.keys(), aggregated_params)\n",
    "        )\n",
    "\n",
    "                \n",
    "    def test(self) -> None:\n",
    "        self.logger.log(\"=\" * 30, \"TESTING\", \"=\" * 30, style=\"bold blue\")\n",
    "        all_loss = []\n",
    "        all_acc = []\n",
    "        for client_id in track(\n",
    "            self.client_id_indices,\n",
    "            \"[bold blue]Testing...\",\n",
    "            console=self.logger,\n",
    "            disable=self.args.log,\n",
    "        ):\n",
    "            client_local_params = clone_parameters(self.global_params_dict)\n",
    "            stats = self.trainer.test(\n",
    "                client_id=client_id, model_params=client_local_params,\n",
    "            )\n",
    "\n",
    "            self.logger.log(\n",
    "                f\"client [{client_id}]  [red]loss: {stats['loss']:.4f}    [magenta]accuracy: {stats['acc']:.2f}%\"\n",
    "            )\n",
    "            all_loss.append(stats[\"loss\"])\n",
    "            all_acc.append(stats[\"acc\"])\n",
    "\n",
    "        self.logger.log(\"=\" * 20, \"RESULTS\", \"=\" * 20, style=\"bold green\")\n",
    "        self.logger.log(\n",
    "            \"loss: {:.4f}    accuracy: {:.2f}%\".format(\n",
    "                sum(all_loss) / len(all_loss), sum(all_acc) / len(all_acc),\n",
    "            )\n",
    "        )        \n",
    "    \n",
    "    def run(self):\n",
    "        print(\"Base server Run called\")\n",
    "        self.logger.log(\"Arguments:\", dict(self.args._get_kwargs()))\n",
    "        self.train()\n",
    "        self.test()\n",
    "        if self.args.log:\n",
    "            if not os.path.isdir(LOG_DIR):\n",
    "                os.mkdir(LOG_DIR)\n",
    "            self.logger.save_html(LOG_DIR / self.log_name)\n",
    "\n",
    "        # delete all temporary files\n",
    "#         if os.listdir(self.temp_dir) != []:\n",
    "#             os.system(f\"rm -rf {self.temp_dir}\")\n"
   ]
  },
  {
   "cell_type": "code",
   "execution_count": null,
   "id": "610b1470",
   "metadata": {},
   "outputs": [],
   "source": []
  },
  {
   "cell_type": "code",
   "execution_count": 8,
   "id": "133d7f0b",
   "metadata": {},
   "outputs": [],
   "source": [
    "args1 = Namespace(\n",
    "    k=2,\n",
    "    global_epochs=2,\n",
    "    local_epochs=5,\n",
    "    local_lr=0.001,\n",
    "    hn_lr=0.002,\n",
    "    verbose_gap=20,\n",
    "    embedding_dim=200,\n",
    "    hidden_dim=200,\n",
    "    dataset=\"no\",\n",
    "    batch_size=64,\n",
    "    valset_ratio=0.0,\n",
    "    testset_ratio=0.3,\n",
    "    gpu=True,\n",
    "    log=0,\n",
    "    seed=5,\n",
    "    client_num_per_round=2,\n",
    "    save_period=10,\n",
    ")\n"
   ]
  },
  {
   "cell_type": "code",
   "execution_count": null,
   "id": "2ea1329a",
   "metadata": {},
   "outputs": [],
   "source": []
  },
  {
   "cell_type": "code",
   "execution_count": 9,
   "id": "bb68405d",
   "metadata": {},
   "outputs": [
    {
     "name": "stdout",
     "output_type": "stream",
     "text": [
      "self.backbone <class '__main__.DeepNet'>\n"
     ]
    },
    {
     "data": {
      "text/html": [
       "<pre style=\"white-space:pre;overflow-x:auto;line-height:normal;font-family:Menlo,'DejaVu Sans Mono',consolas,'Courier New',monospace\">Backbone: <span style=\"color: #800080; text-decoration-color: #800080; font-weight: bold\">DeepNet</span><span style=\"font-weight: bold\">(</span>                                                                                                 \n",
       "  <span style=\"font-weight: bold\">(</span>layer1<span style=\"font-weight: bold\">)</span>: <span style=\"color: #800080; text-decoration-color: #800080; font-weight: bold\">Linear</span><span style=\"font-weight: bold\">(</span><span style=\"color: #808000; text-decoration-color: #808000\">in_features</span>=<span style=\"color: #008080; text-decoration-color: #008080; font-weight: bold\">14</span>, <span style=\"color: #808000; text-decoration-color: #808000\">out_features</span>=<span style=\"color: #008080; text-decoration-color: #008080; font-weight: bold\">512</span>, <span style=\"color: #808000; text-decoration-color: #808000\">bias</span>=<span style=\"color: #00ff00; text-decoration-color: #00ff00; font-style: italic\">True</span><span style=\"font-weight: bold\">)</span>                                                    \n",
       "  <span style=\"font-weight: bold\">(</span>act1<span style=\"font-weight: bold\">)</span>: <span style=\"color: #800080; text-decoration-color: #800080; font-weight: bold\">ReLU</span><span style=\"font-weight: bold\">()</span>                                                                                                   \n",
       "  <span style=\"font-weight: bold\">(</span>dropout1<span style=\"font-weight: bold\">)</span>: <span style=\"color: #800080; text-decoration-color: #800080; font-weight: bold\">Dropout</span><span style=\"font-weight: bold\">(</span><span style=\"color: #808000; text-decoration-color: #808000\">p</span>=<span style=\"color: #008080; text-decoration-color: #008080; font-weight: bold\">0.5</span>, <span style=\"color: #808000; text-decoration-color: #808000\">inplace</span>=<span style=\"color: #ff0000; text-decoration-color: #ff0000; font-style: italic\">False</span><span style=\"font-weight: bold\">)</span>                                                                        \n",
       "  <span style=\"font-weight: bold\">(</span>layer2<span style=\"font-weight: bold\">)</span>: <span style=\"color: #800080; text-decoration-color: #800080; font-weight: bold\">Linear</span><span style=\"font-weight: bold\">(</span><span style=\"color: #808000; text-decoration-color: #808000\">in_features</span>=<span style=\"color: #008080; text-decoration-color: #008080; font-weight: bold\">512</span>, <span style=\"color: #808000; text-decoration-color: #808000\">out_features</span>=<span style=\"color: #008080; text-decoration-color: #008080; font-weight: bold\">256</span>, <span style=\"color: #808000; text-decoration-color: #808000\">bias</span>=<span style=\"color: #00ff00; text-decoration-color: #00ff00; font-style: italic\">True</span><span style=\"font-weight: bold\">)</span>                                                   \n",
       "  <span style=\"font-weight: bold\">(</span>act2<span style=\"font-weight: bold\">)</span>: <span style=\"color: #800080; text-decoration-color: #800080; font-weight: bold\">ReLU</span><span style=\"font-weight: bold\">()</span>                                                                                                   \n",
       "  <span style=\"font-weight: bold\">(</span>layer3<span style=\"font-weight: bold\">)</span>: <span style=\"color: #800080; text-decoration-color: #800080; font-weight: bold\">Linear</span><span style=\"font-weight: bold\">(</span><span style=\"color: #808000; text-decoration-color: #808000\">in_features</span>=<span style=\"color: #008080; text-decoration-color: #008080; font-weight: bold\">256</span>, <span style=\"color: #808000; text-decoration-color: #808000\">out_features</span>=<span style=\"color: #008080; text-decoration-color: #008080; font-weight: bold\">60</span>, <span style=\"color: #808000; text-decoration-color: #808000\">bias</span>=<span style=\"color: #00ff00; text-decoration-color: #00ff00; font-style: italic\">True</span><span style=\"font-weight: bold\">)</span>                                                    \n",
       "  <span style=\"font-weight: bold\">(</span>act3<span style=\"font-weight: bold\">)</span>: <span style=\"color: #800080; text-decoration-color: #800080; font-weight: bold\">ReLU</span><span style=\"font-weight: bold\">()</span>                                                                                                   \n",
       "  <span style=\"font-weight: bold\">(</span>output<span style=\"font-weight: bold\">)</span>: <span style=\"color: #800080; text-decoration-color: #800080; font-weight: bold\">Linear</span><span style=\"font-weight: bold\">(</span><span style=\"color: #808000; text-decoration-color: #808000\">in_features</span>=<span style=\"color: #008080; text-decoration-color: #008080; font-weight: bold\">60</span>, <span style=\"color: #808000; text-decoration-color: #808000\">out_features</span>=<span style=\"color: #008080; text-decoration-color: #008080; font-weight: bold\">1</span>, <span style=\"color: #808000; text-decoration-color: #808000\">bias</span>=<span style=\"color: #00ff00; text-decoration-color: #00ff00; font-style: italic\">True</span><span style=\"font-weight: bold\">)</span>                                                      \n",
       "  <span style=\"font-weight: bold\">(</span>sigmoid<span style=\"font-weight: bold\">)</span>: <span style=\"color: #800080; text-decoration-color: #800080; font-weight: bold\">Sigmoid</span><span style=\"font-weight: bold\">()</span>                                                                                             \n",
       "<span style=\"font-weight: bold\">)</span>                                                                                                                  \n",
       "</pre>\n"
      ],
      "text/plain": [
       "Backbone: \u001b[1;35mDeepNet\u001b[0m\u001b[1m(\u001b[0m                                                                                                 \n",
       "  \u001b[1m(\u001b[0mlayer1\u001b[1m)\u001b[0m: \u001b[1;35mLinear\u001b[0m\u001b[1m(\u001b[0m\u001b[33min_features\u001b[0m=\u001b[1;36m14\u001b[0m, \u001b[33mout_features\u001b[0m=\u001b[1;36m512\u001b[0m, \u001b[33mbias\u001b[0m=\u001b[3;92mTrue\u001b[0m\u001b[1m)\u001b[0m                                                    \n",
       "  \u001b[1m(\u001b[0mact1\u001b[1m)\u001b[0m: \u001b[1;35mReLU\u001b[0m\u001b[1m(\u001b[0m\u001b[1m)\u001b[0m                                                                                                   \n",
       "  \u001b[1m(\u001b[0mdropout1\u001b[1m)\u001b[0m: \u001b[1;35mDropout\u001b[0m\u001b[1m(\u001b[0m\u001b[33mp\u001b[0m=\u001b[1;36m0\u001b[0m\u001b[1;36m.5\u001b[0m, \u001b[33minplace\u001b[0m=\u001b[3;91mFalse\u001b[0m\u001b[1m)\u001b[0m                                                                        \n",
       "  \u001b[1m(\u001b[0mlayer2\u001b[1m)\u001b[0m: \u001b[1;35mLinear\u001b[0m\u001b[1m(\u001b[0m\u001b[33min_features\u001b[0m=\u001b[1;36m512\u001b[0m, \u001b[33mout_features\u001b[0m=\u001b[1;36m256\u001b[0m, \u001b[33mbias\u001b[0m=\u001b[3;92mTrue\u001b[0m\u001b[1m)\u001b[0m                                                   \n",
       "  \u001b[1m(\u001b[0mact2\u001b[1m)\u001b[0m: \u001b[1;35mReLU\u001b[0m\u001b[1m(\u001b[0m\u001b[1m)\u001b[0m                                                                                                   \n",
       "  \u001b[1m(\u001b[0mlayer3\u001b[1m)\u001b[0m: \u001b[1;35mLinear\u001b[0m\u001b[1m(\u001b[0m\u001b[33min_features\u001b[0m=\u001b[1;36m256\u001b[0m, \u001b[33mout_features\u001b[0m=\u001b[1;36m60\u001b[0m, \u001b[33mbias\u001b[0m=\u001b[3;92mTrue\u001b[0m\u001b[1m)\u001b[0m                                                    \n",
       "  \u001b[1m(\u001b[0mact3\u001b[1m)\u001b[0m: \u001b[1;35mReLU\u001b[0m\u001b[1m(\u001b[0m\u001b[1m)\u001b[0m                                                                                                   \n",
       "  \u001b[1m(\u001b[0moutput\u001b[1m)\u001b[0m: \u001b[1;35mLinear\u001b[0m\u001b[1m(\u001b[0m\u001b[33min_features\u001b[0m=\u001b[1;36m60\u001b[0m, \u001b[33mout_features\u001b[0m=\u001b[1;36m1\u001b[0m, \u001b[33mbias\u001b[0m=\u001b[3;92mTrue\u001b[0m\u001b[1m)\u001b[0m                                                      \n",
       "  \u001b[1m(\u001b[0msigmoid\u001b[1m)\u001b[0m: \u001b[1;35mSigmoid\u001b[0m\u001b[1m(\u001b[0m\u001b[1m)\u001b[0m                                                                                             \n",
       "\u001b[1m)\u001b[0m                                                                                                                  \n"
      ]
     },
     "metadata": {},
     "output_type": "display_data"
    },
    {
     "name": "stdout",
     "output_type": "stream",
     "text": [
      "Base Server Called !\n",
      "Base Client constructor\n"
     ]
    }
   ],
   "source": [
    "class FedAvgServer(ServerBase):\n",
    "    def __init__(self):\n",
    "        super(FedAvgServer, self).__init__(args1, \"FedAvg\")\n",
    "\n",
    "        self.trainer = FedAvgClient(\n",
    "            backbone=self.backbone(),\n",
    "            dataset=self.args.dataset,\n",
    "            batch_size=self.args.batch_size,\n",
    "            valset_ratio=self.args.valset_ratio,\n",
    "            testset_ratio=self.args.testset_ratio,\n",
    "            local_epochs=self.args.local_epochs,\n",
    "            local_lr=self.args.local_lr,\n",
    "            logger=self.logger,\n",
    "            gpu=self.args.gpu,\n",
    "        )\n",
    "server = FedAvgServer()"
   ]
  },
  {
   "cell_type": "code",
   "execution_count": 10,
   "id": "e7f0a2bd",
   "metadata": {},
   "outputs": [
    {
     "name": "stdout",
     "output_type": "stream",
     "text": [
      "Base server Run called\n"
     ]
    },
    {
     "data": {
      "text/html": [
       "<pre style=\"white-space:pre;overflow-x:auto;line-height:normal;font-family:Menlo,'DejaVu Sans Mono',consolas,'Courier New',monospace\">Arguments:                                                                                                         \n",
       "<span style=\"font-weight: bold\">{</span>                                                                                                                  \n",
       "    <span style=\"color: #008000; text-decoration-color: #008000\">'k'</span>: <span style=\"color: #008080; text-decoration-color: #008080; font-weight: bold\">2</span>,                                                                                                        \n",
       "    <span style=\"color: #008000; text-decoration-color: #008000\">'global_epochs'</span>: <span style=\"color: #008080; text-decoration-color: #008080; font-weight: bold\">2</span>,                                                                                            \n",
       "    <span style=\"color: #008000; text-decoration-color: #008000\">'local_epochs'</span>: <span style=\"color: #008080; text-decoration-color: #008080; font-weight: bold\">5</span>,                                                                                             \n",
       "    <span style=\"color: #008000; text-decoration-color: #008000\">'local_lr'</span>: <span style=\"color: #008080; text-decoration-color: #008080; font-weight: bold\">0.001</span>,                                                                                             \n",
       "    <span style=\"color: #008000; text-decoration-color: #008000\">'hn_lr'</span>: <span style=\"color: #008080; text-decoration-color: #008080; font-weight: bold\">0.002</span>,                                                                                                \n",
       "    <span style=\"color: #008000; text-decoration-color: #008000\">'verbose_gap'</span>: <span style=\"color: #008080; text-decoration-color: #008080; font-weight: bold\">20</span>,                                                                                             \n",
       "    <span style=\"color: #008000; text-decoration-color: #008000\">'embedding_dim'</span>: <span style=\"color: #008080; text-decoration-color: #008080; font-weight: bold\">200</span>,                                                                                          \n",
       "    <span style=\"color: #008000; text-decoration-color: #008000\">'hidden_dim'</span>: <span style=\"color: #008080; text-decoration-color: #008080; font-weight: bold\">200</span>,                                                                                             \n",
       "    <span style=\"color: #008000; text-decoration-color: #008000\">'dataset'</span>: <span style=\"color: #008000; text-decoration-color: #008000\">'no'</span>,                                                                                               \n",
       "    <span style=\"color: #008000; text-decoration-color: #008000\">'batch_size'</span>: <span style=\"color: #008080; text-decoration-color: #008080; font-weight: bold\">64</span>,                                                                                              \n",
       "    <span style=\"color: #008000; text-decoration-color: #008000\">'valset_ratio'</span>: <span style=\"color: #008080; text-decoration-color: #008080; font-weight: bold\">0.0</span>,                                                                                           \n",
       "    <span style=\"color: #008000; text-decoration-color: #008000\">'testset_ratio'</span>: <span style=\"color: #008080; text-decoration-color: #008080; font-weight: bold\">0.3</span>,                                                                                          \n",
       "    <span style=\"color: #008000; text-decoration-color: #008000\">'gpu'</span>: <span style=\"color: #00ff00; text-decoration-color: #00ff00; font-style: italic\">True</span>,                                                                                                   \n",
       "    <span style=\"color: #008000; text-decoration-color: #008000\">'log'</span>: <span style=\"color: #008080; text-decoration-color: #008080; font-weight: bold\">0</span>,                                                                                                      \n",
       "    <span style=\"color: #008000; text-decoration-color: #008000\">'seed'</span>: <span style=\"color: #008080; text-decoration-color: #008080; font-weight: bold\">5</span>,                                                                                                     \n",
       "    <span style=\"color: #008000; text-decoration-color: #008000\">'client_num_per_round'</span>: <span style=\"color: #008080; text-decoration-color: #008080; font-weight: bold\">2</span>,                                                                                     \n",
       "    <span style=\"color: #008000; text-decoration-color: #008000\">'save_period'</span>: <span style=\"color: #008080; text-decoration-color: #008080; font-weight: bold\">10</span>                                                                                              \n",
       "<span style=\"font-weight: bold\">}</span>                                                                                                                  \n",
       "</pre>\n"
      ],
      "text/plain": [
       "Arguments:                                                                                                         \n",
       "\u001b[1m{\u001b[0m                                                                                                                  \n",
       "    \u001b[32m'k'\u001b[0m: \u001b[1;36m2\u001b[0m,                                                                                                        \n",
       "    \u001b[32m'global_epochs'\u001b[0m: \u001b[1;36m2\u001b[0m,                                                                                            \n",
       "    \u001b[32m'local_epochs'\u001b[0m: \u001b[1;36m5\u001b[0m,                                                                                             \n",
       "    \u001b[32m'local_lr'\u001b[0m: \u001b[1;36m0.001\u001b[0m,                                                                                             \n",
       "    \u001b[32m'hn_lr'\u001b[0m: \u001b[1;36m0.002\u001b[0m,                                                                                                \n",
       "    \u001b[32m'verbose_gap'\u001b[0m: \u001b[1;36m20\u001b[0m,                                                                                             \n",
       "    \u001b[32m'embedding_dim'\u001b[0m: \u001b[1;36m200\u001b[0m,                                                                                          \n",
       "    \u001b[32m'hidden_dim'\u001b[0m: \u001b[1;36m200\u001b[0m,                                                                                             \n",
       "    \u001b[32m'dataset'\u001b[0m: \u001b[32m'no'\u001b[0m,                                                                                               \n",
       "    \u001b[32m'batch_size'\u001b[0m: \u001b[1;36m64\u001b[0m,                                                                                              \n",
       "    \u001b[32m'valset_ratio'\u001b[0m: \u001b[1;36m0.0\u001b[0m,                                                                                           \n",
       "    \u001b[32m'testset_ratio'\u001b[0m: \u001b[1;36m0.3\u001b[0m,                                                                                          \n",
       "    \u001b[32m'gpu'\u001b[0m: \u001b[3;92mTrue\u001b[0m,                                                                                                   \n",
       "    \u001b[32m'log'\u001b[0m: \u001b[1;36m0\u001b[0m,                                                                                                      \n",
       "    \u001b[32m'seed'\u001b[0m: \u001b[1;36m5\u001b[0m,                                                                                                     \n",
       "    \u001b[32m'client_num_per_round'\u001b[0m: \u001b[1;36m2\u001b[0m,                                                                                     \n",
       "    \u001b[32m'save_period'\u001b[0m: \u001b[1;36m10\u001b[0m                                                                                              \n",
       "\u001b[1m}\u001b[0m                                                                                                                  \n"
      ]
     },
     "metadata": {},
     "output_type": "display_data"
    },
    {
     "name": "stdout",
     "output_type": "stream",
     "text": [
      "In Base server  train\n",
      "\n"
     ]
    },
    {
     "data": {
      "text/html": [
       "<pre style=\"white-space:pre;overflow-x:auto;line-height:normal;font-family:Menlo,'DejaVu Sans Mono',consolas,'Courier New',monospace\"><span style=\"color: #008000; text-decoration-color: #008000; font-weight: bold\">============================== TRAINING ==============================                                             </span>\n",
       "</pre>\n"
      ],
      "text/plain": [
       "\u001b[1;32m============================== TRAINING ==============================                                             \u001b[0m\n"
      ]
     },
     "metadata": {},
     "output_type": "display_data"
    },
    {
     "data": {
      "application/vnd.jupyter.widget-view+json": {
       "model_id": "bee4796d489f4f6580ab57577cb43f85",
       "version_major": 2,
       "version_minor": 0
      },
      "text/plain": [
       "Output()"
      ]
     },
     "metadata": {},
     "output_type": "display_data"
    },
    {
     "data": {
      "text/html": [
       "<pre style=\"white-space:pre;overflow-x:auto;line-height:normal;font-family:Menlo,'DejaVu Sans Mono',consolas,'Courier New',monospace\">============================== ROUND: <span style=\"color: #008080; text-decoration-color: #008080; font-weight: bold\">0</span> ==============================                                             \n",
       "</pre>\n"
      ],
      "text/plain": [
       "============================== ROUND: \u001b[1;36m0\u001b[0m ==============================                                             \n"
      ]
     },
     "metadata": {},
     "output_type": "display_data"
    },
    {
     "data": {
      "text/html": [
       "<pre style=\"white-space:pre;overflow-x:auto;line-height:normal;font-family:Menlo,'DejaVu Sans Mono',consolas,'Courier New',monospace\">Testing Accuracy: 52.87%\n",
       "</pre>\n"
      ],
      "text/plain": [
       "Testing Accuracy: 52.87%\n"
      ]
     },
     "metadata": {},
     "output_type": "display_data"
    },
    {
     "data": {
      "text/html": [
       "<pre style=\"white-space:pre;overflow-x:auto;line-height:normal;font-family:Menlo,'DejaVu Sans Mono',consolas,'Courier New',monospace\">Precision: 0.00%\n",
       "</pre>\n"
      ],
      "text/plain": [
       "Precision: 0.00%\n"
      ]
     },
     "metadata": {},
     "output_type": "display_data"
    },
    {
     "data": {
      "text/html": [
       "<pre style=\"white-space:pre;overflow-x:auto;line-height:normal;font-family:Menlo,'DejaVu Sans Mono',consolas,'Courier New',monospace\">Recall: 0.00%\n",
       "</pre>\n"
      ],
      "text/plain": [
       "Recall: 0.00%\n"
      ]
     },
     "metadata": {},
     "output_type": "display_data"
    },
    {
     "data": {
      "text/html": [
       "<pre style=\"white-space:pre;overflow-x:auto;line-height:normal;font-family:Menlo,'DejaVu Sans Mono',consolas,'Courier New',monospace\">\n",
       "\n",
       "</pre>\n"
      ],
      "text/plain": [
       "\n",
       "\n"
      ]
     },
     "metadata": {},
     "output_type": "display_data"
    },
    {
     "data": {
      "text/html": [
       "<pre style=\"white-space:pre;overflow-x:auto;line-height:normal;font-family:Menlo,'DejaVu Sans Mono',consolas,'Courier New',monospace\">\n",
       "</pre>\n"
      ],
      "text/plain": [
       "\n"
      ]
     },
     "metadata": {},
     "output_type": "display_data"
    },
    {
     "data": {
      "text/html": [
       "<pre style=\"white-space:pre;overflow-x:auto;line-height:normal;font-family:Menlo,'DejaVu Sans Mono',consolas,'Courier New',monospace\">epoch 0\n",
       "</pre>\n"
      ],
      "text/plain": [
       "epoch 0\n"
      ]
     },
     "metadata": {},
     "output_type": "display_data"
    },
    {
     "data": {
      "text/html": [
       "<pre style=\"white-space:pre;overflow-x:auto;line-height:normal;font-family:Menlo,'DejaVu Sans Mono',consolas,'Courier New',monospace\">epoch 1\n",
       "</pre>\n"
      ],
      "text/plain": [
       "epoch 1\n"
      ]
     },
     "metadata": {},
     "output_type": "display_data"
    },
    {
     "data": {
      "text/html": [
       "<pre style=\"white-space:pre;overflow-x:auto;line-height:normal;font-family:Menlo,'DejaVu Sans Mono',consolas,'Courier New',monospace\">epoch 2\n",
       "</pre>\n"
      ],
      "text/plain": [
       "epoch 2\n"
      ]
     },
     "metadata": {},
     "output_type": "display_data"
    },
    {
     "data": {
      "text/html": [
       "<pre style=\"white-space:pre;overflow-x:auto;line-height:normal;font-family:Menlo,'DejaVu Sans Mono',consolas,'Courier New',monospace\">epoch 3\n",
       "</pre>\n"
      ],
      "text/plain": [
       "epoch 3\n"
      ]
     },
     "metadata": {},
     "output_type": "display_data"
    },
    {
     "data": {
      "text/html": [
       "<pre style=\"white-space:pre;overflow-x:auto;line-height:normal;font-family:Menlo,'DejaVu Sans Mono',consolas,'Courier New',monospace\">epoch 4\n",
       "</pre>\n"
      ],
      "text/plain": [
       "epoch 4\n"
      ]
     },
     "metadata": {},
     "output_type": "display_data"
    },
    {
     "data": {
      "text/html": [
       "<pre style=\"white-space:pre;overflow-x:auto;line-height:normal;font-family:Menlo,'DejaVu Sans Mono',consolas,'Courier New',monospace\">Testing Accuracy: 82.95%\n",
       "</pre>\n"
      ],
      "text/plain": [
       "Testing Accuracy: 82.95%\n"
      ]
     },
     "metadata": {},
     "output_type": "display_data"
    },
    {
     "data": {
      "text/html": [
       "<pre style=\"white-space:pre;overflow-x:auto;line-height:normal;font-family:Menlo,'DejaVu Sans Mono',consolas,'Courier New',monospace\">Precision: 82.32%\n",
       "</pre>\n"
      ],
      "text/plain": [
       "Precision: 82.32%\n"
      ]
     },
     "metadata": {},
     "output_type": "display_data"
    },
    {
     "data": {
      "text/html": [
       "<pre style=\"white-space:pre;overflow-x:auto;line-height:normal;font-family:Menlo,'DejaVu Sans Mono',consolas,'Courier New',monospace\">Recall: 81.27%\n",
       "</pre>\n"
      ],
      "text/plain": [
       "Recall: 81.27%\n"
      ]
     },
     "metadata": {},
     "output_type": "display_data"
    },
    {
     "data": {
      "text/html": [
       "<pre style=\"white-space:pre;overflow-x:auto;line-height:normal;font-family:Menlo,'DejaVu Sans Mono',consolas,'Courier New',monospace\">\n",
       "\n",
       "</pre>\n"
      ],
      "text/plain": [
       "\n",
       "\n"
      ]
     },
     "metadata": {},
     "output_type": "display_data"
    },
    {
     "data": {
      "text/html": [
       "<pre style=\"white-space:pre;overflow-x:auto;line-height:normal;font-family:Menlo,'DejaVu Sans Mono',consolas,'Courier New',monospace\">\n",
       "</pre>\n"
      ],
      "text/plain": [
       "\n"
      ]
     },
     "metadata": {},
     "output_type": "display_data"
    },
    {
     "data": {
      "text/html": [
       "<pre style=\"white-space:pre;overflow-x:auto;line-height:normal;font-family:Menlo,'DejaVu Sans Mono',consolas,'Courier New',monospace\">weights_cache 40171\n",
       "</pre>\n"
      ],
      "text/plain": [
       "weights_cache 40171\n"
      ]
     },
     "metadata": {},
     "output_type": "display_data"
    },
    {
     "data": {
      "text/html": [
       "<pre style=\"white-space:pre;overflow-x:auto;line-height:normal;font-family:Menlo,'DejaVu Sans Mono',consolas,'Courier New',monospace\">Testing Accuracy: 62.10%\n",
       "</pre>\n"
      ],
      "text/plain": [
       "Testing Accuracy: 62.10%\n"
      ]
     },
     "metadata": {},
     "output_type": "display_data"
    },
    {
     "data": {
      "text/html": [
       "<pre style=\"white-space:pre;overflow-x:auto;line-height:normal;font-family:Menlo,'DejaVu Sans Mono',consolas,'Courier New',monospace\">Precision: 0.00%\n",
       "</pre>\n"
      ],
      "text/plain": [
       "Precision: 0.00%\n"
      ]
     },
     "metadata": {},
     "output_type": "display_data"
    },
    {
     "data": {
      "text/html": [
       "<pre style=\"white-space:pre;overflow-x:auto;line-height:normal;font-family:Menlo,'DejaVu Sans Mono',consolas,'Courier New',monospace\">Recall: 0.00%\n",
       "</pre>\n"
      ],
      "text/plain": [
       "Recall: 0.00%\n"
      ]
     },
     "metadata": {},
     "output_type": "display_data"
    },
    {
     "data": {
      "text/html": [
       "<pre style=\"white-space:pre;overflow-x:auto;line-height:normal;font-family:Menlo,'DejaVu Sans Mono',consolas,'Courier New',monospace\">\n",
       "\n",
       "</pre>\n"
      ],
      "text/plain": [
       "\n",
       "\n"
      ]
     },
     "metadata": {},
     "output_type": "display_data"
    },
    {
     "data": {
      "text/html": [
       "<pre style=\"white-space:pre;overflow-x:auto;line-height:normal;font-family:Menlo,'DejaVu Sans Mono',consolas,'Courier New',monospace\">\n",
       "</pre>\n"
      ],
      "text/plain": [
       "\n"
      ]
     },
     "metadata": {},
     "output_type": "display_data"
    },
    {
     "data": {
      "text/html": [
       "<pre style=\"white-space:pre;overflow-x:auto;line-height:normal;font-family:Menlo,'DejaVu Sans Mono',consolas,'Courier New',monospace\">epoch 0\n",
       "</pre>\n"
      ],
      "text/plain": [
       "epoch 0\n"
      ]
     },
     "metadata": {},
     "output_type": "display_data"
    },
    {
     "data": {
      "text/html": [
       "<pre style=\"white-space:pre;overflow-x:auto;line-height:normal;font-family:Menlo,'DejaVu Sans Mono',consolas,'Courier New',monospace\">epoch 1\n",
       "</pre>\n"
      ],
      "text/plain": [
       "epoch 1\n"
      ]
     },
     "metadata": {},
     "output_type": "display_data"
    },
    {
     "data": {
      "text/html": [
       "<pre style=\"white-space:pre;overflow-x:auto;line-height:normal;font-family:Menlo,'DejaVu Sans Mono',consolas,'Courier New',monospace\">epoch 2\n",
       "</pre>\n"
      ],
      "text/plain": [
       "epoch 2\n"
      ]
     },
     "metadata": {},
     "output_type": "display_data"
    },
    {
     "data": {
      "text/html": [
       "<pre style=\"white-space:pre;overflow-x:auto;line-height:normal;font-family:Menlo,'DejaVu Sans Mono',consolas,'Courier New',monospace\">epoch 3\n",
       "</pre>\n"
      ],
      "text/plain": [
       "epoch 3\n"
      ]
     },
     "metadata": {},
     "output_type": "display_data"
    },
    {
     "data": {
      "text/html": [
       "<pre style=\"white-space:pre;overflow-x:auto;line-height:normal;font-family:Menlo,'DejaVu Sans Mono',consolas,'Courier New',monospace\">epoch 4\n",
       "</pre>\n"
      ],
      "text/plain": [
       "epoch 4\n"
      ]
     },
     "metadata": {},
     "output_type": "display_data"
    },
    {
     "data": {
      "text/html": [
       "<pre style=\"white-space:pre;overflow-x:auto;line-height:normal;font-family:Menlo,'DejaVu Sans Mono',consolas,'Courier New',monospace\">Testing Accuracy: 78.46%\n",
       "</pre>\n"
      ],
      "text/plain": [
       "Testing Accuracy: 78.46%\n"
      ]
     },
     "metadata": {},
     "output_type": "display_data"
    },
    {
     "data": {
      "text/html": [
       "<pre style=\"white-space:pre;overflow-x:auto;line-height:normal;font-family:Menlo,'DejaVu Sans Mono',consolas,'Courier New',monospace\">Precision: 69.64%\n",
       "</pre>\n"
      ],
      "text/plain": [
       "Precision: 69.64%\n"
      ]
     },
     "metadata": {},
     "output_type": "display_data"
    },
    {
     "data": {
      "text/html": [
       "<pre style=\"white-space:pre;overflow-x:auto;line-height:normal;font-family:Menlo,'DejaVu Sans Mono',consolas,'Courier New',monospace\">Recall: 76.54%\n",
       "</pre>\n"
      ],
      "text/plain": [
       "Recall: 76.54%\n"
      ]
     },
     "metadata": {},
     "output_type": "display_data"
    },
    {
     "data": {
      "text/html": [
       "<pre style=\"white-space:pre;overflow-x:auto;line-height:normal;font-family:Menlo,'DejaVu Sans Mono',consolas,'Courier New',monospace\">\n",
       "\n",
       "</pre>\n"
      ],
      "text/plain": [
       "\n",
       "\n"
      ]
     },
     "metadata": {},
     "output_type": "display_data"
    },
    {
     "data": {
      "text/html": [
       "<pre style=\"white-space:pre;overflow-x:auto;line-height:normal;font-family:Menlo,'DejaVu Sans Mono',consolas,'Courier New',monospace\">\n",
       "</pre>\n"
      ],
      "text/plain": [
       "\n"
      ]
     },
     "metadata": {},
     "output_type": "display_data"
    },
    {
     "data": {
      "text/html": [
       "<pre style=\"white-space:pre;overflow-x:auto;line-height:normal;font-family:Menlo,'DejaVu Sans Mono',consolas,'Courier New',monospace\">weights_cache 40171\n",
       "</pre>\n"
      ],
      "text/plain": [
       "weights_cache 40171\n"
      ]
     },
     "metadata": {},
     "output_type": "display_data"
    },
    {
     "data": {
      "text/html": [
       "<pre style=\"white-space:pre;overflow-x:auto;line-height:normal;font-family:Menlo,'DejaVu Sans Mono',consolas,'Courier New',monospace\">Testing Accuracy: 82.28%\n",
       "</pre>\n"
      ],
      "text/plain": [
       "Testing Accuracy: 82.28%\n"
      ]
     },
     "metadata": {},
     "output_type": "display_data"
    },
    {
     "data": {
      "text/html": [
       "<pre style=\"white-space:pre;overflow-x:auto;line-height:normal;font-family:Menlo,'DejaVu Sans Mono',consolas,'Courier New',monospace\">Precision: 78.27%\n",
       "</pre>\n"
      ],
      "text/plain": [
       "Precision: 78.27%\n"
      ]
     },
     "metadata": {},
     "output_type": "display_data"
    },
    {
     "data": {
      "text/html": [
       "<pre style=\"white-space:pre;overflow-x:auto;line-height:normal;font-family:Menlo,'DejaVu Sans Mono',consolas,'Courier New',monospace\">Recall: 86.39%\n",
       "</pre>\n"
      ],
      "text/plain": [
       "Recall: 86.39%\n"
      ]
     },
     "metadata": {},
     "output_type": "display_data"
    },
    {
     "data": {
      "text/html": [
       "<pre style=\"white-space:pre;overflow-x:auto;line-height:normal;font-family:Menlo,'DejaVu Sans Mono',consolas,'Courier New',monospace\">\n",
       "\n",
       "</pre>\n"
      ],
      "text/plain": [
       "\n",
       "\n"
      ]
     },
     "metadata": {},
     "output_type": "display_data"
    },
    {
     "data": {
      "text/html": [
       "<pre style=\"white-space:pre;overflow-x:auto;line-height:normal;font-family:Menlo,'DejaVu Sans Mono',consolas,'Courier New',monospace\">\n",
       "</pre>\n"
      ],
      "text/plain": [
       "\n"
      ]
     },
     "metadata": {},
     "output_type": "display_data"
    },
    {
     "data": {
      "text/html": [
       "<pre style=\"white-space:pre;overflow-x:auto;line-height:normal;font-family:Menlo,'DejaVu Sans Mono',consolas,'Courier New',monospace\">epoch 0\n",
       "</pre>\n"
      ],
      "text/plain": [
       "epoch 0\n"
      ]
     },
     "metadata": {},
     "output_type": "display_data"
    },
    {
     "data": {
      "text/html": [
       "<pre style=\"white-space:pre;overflow-x:auto;line-height:normal;font-family:Menlo,'DejaVu Sans Mono',consolas,'Courier New',monospace\">epoch 1\n",
       "</pre>\n"
      ],
      "text/plain": [
       "epoch 1\n"
      ]
     },
     "metadata": {},
     "output_type": "display_data"
    },
    {
     "data": {
      "text/html": [
       "<pre style=\"white-space:pre;overflow-x:auto;line-height:normal;font-family:Menlo,'DejaVu Sans Mono',consolas,'Courier New',monospace\">epoch 2\n",
       "</pre>\n"
      ],
      "text/plain": [
       "epoch 2\n"
      ]
     },
     "metadata": {},
     "output_type": "display_data"
    },
    {
     "data": {
      "text/html": [
       "<pre style=\"white-space:pre;overflow-x:auto;line-height:normal;font-family:Menlo,'DejaVu Sans Mono',consolas,'Courier New',monospace\">epoch 3\n",
       "</pre>\n"
      ],
      "text/plain": [
       "epoch 3\n"
      ]
     },
     "metadata": {},
     "output_type": "display_data"
    },
    {
     "data": {
      "text/html": [
       "<pre style=\"white-space:pre;overflow-x:auto;line-height:normal;font-family:Menlo,'DejaVu Sans Mono',consolas,'Courier New',monospace\">epoch 4\n",
       "</pre>\n"
      ],
      "text/plain": [
       "epoch 4\n"
      ]
     },
     "metadata": {},
     "output_type": "display_data"
    },
    {
     "data": {
      "text/html": [
       "<pre style=\"white-space:pre;overflow-x:auto;line-height:normal;font-family:Menlo,'DejaVu Sans Mono',consolas,'Courier New',monospace\">Testing Accuracy: 83.23%\n",
       "</pre>\n"
      ],
      "text/plain": [
       "Testing Accuracy: 83.23%\n"
      ]
     },
     "metadata": {},
     "output_type": "display_data"
    },
    {
     "data": {
      "text/html": [
       "<pre style=\"white-space:pre;overflow-x:auto;line-height:normal;font-family:Menlo,'DejaVu Sans Mono',consolas,'Courier New',monospace\">Precision: 84.45%\n",
       "</pre>\n"
      ],
      "text/plain": [
       "Precision: 84.45%\n"
      ]
     },
     "metadata": {},
     "output_type": "display_data"
    },
    {
     "data": {
      "text/html": [
       "<pre style=\"white-space:pre;overflow-x:auto;line-height:normal;font-family:Menlo,'DejaVu Sans Mono',consolas,'Courier New',monospace\">Recall: 78.95%\n",
       "</pre>\n"
      ],
      "text/plain": [
       "Recall: 78.95%\n"
      ]
     },
     "metadata": {},
     "output_type": "display_data"
    },
    {
     "data": {
      "text/html": [
       "<pre style=\"white-space:pre;overflow-x:auto;line-height:normal;font-family:Menlo,'DejaVu Sans Mono',consolas,'Courier New',monospace\">\n",
       "\n",
       "</pre>\n"
      ],
      "text/plain": [
       "\n",
       "\n"
      ]
     },
     "metadata": {},
     "output_type": "display_data"
    },
    {
     "data": {
      "text/html": [
       "<pre style=\"white-space:pre;overflow-x:auto;line-height:normal;font-family:Menlo,'DejaVu Sans Mono',consolas,'Courier New',monospace\">\n",
       "</pre>\n"
      ],
      "text/plain": [
       "\n"
      ]
     },
     "metadata": {},
     "output_type": "display_data"
    },
    {
     "data": {
      "text/html": [
       "<pre style=\"white-space:pre;overflow-x:auto;line-height:normal;font-family:Menlo,'DejaVu Sans Mono',consolas,'Courier New',monospace\">weights_cache 40171\n",
       "</pre>\n"
      ],
      "text/plain": [
       "weights_cache 40171\n"
      ]
     },
     "metadata": {},
     "output_type": "display_data"
    },
    {
     "data": {
      "text/html": [
       "<pre style=\"white-space:pre;overflow-x:auto;line-height:normal;font-family:Menlo,'DejaVu Sans Mono',consolas,'Courier New',monospace\">Testing Accuracy: 76.87%\n",
       "</pre>\n"
      ],
      "text/plain": [
       "Testing Accuracy: 76.87%\n"
      ]
     },
     "metadata": {},
     "output_type": "display_data"
    },
    {
     "data": {
      "text/html": [
       "<pre style=\"white-space:pre;overflow-x:auto;line-height:normal;font-family:Menlo,'DejaVu Sans Mono',consolas,'Courier New',monospace\">Precision: 64.13%\n",
       "</pre>\n"
      ],
      "text/plain": [
       "Precision: 64.13%\n"
      ]
     },
     "metadata": {},
     "output_type": "display_data"
    },
    {
     "data": {
      "text/html": [
       "<pre style=\"white-space:pre;overflow-x:auto;line-height:normal;font-family:Menlo,'DejaVu Sans Mono',consolas,'Courier New',monospace\">Recall: 88.40%\n",
       "</pre>\n"
      ],
      "text/plain": [
       "Recall: 88.40%\n"
      ]
     },
     "metadata": {},
     "output_type": "display_data"
    },
    {
     "data": {
      "text/html": [
       "<pre style=\"white-space:pre;overflow-x:auto;line-height:normal;font-family:Menlo,'DejaVu Sans Mono',consolas,'Courier New',monospace\">\n",
       "\n",
       "</pre>\n"
      ],
      "text/plain": [
       "\n",
       "\n"
      ]
     },
     "metadata": {},
     "output_type": "display_data"
    },
    {
     "data": {
      "text/html": [
       "<pre style=\"white-space:pre;overflow-x:auto;line-height:normal;font-family:Menlo,'DejaVu Sans Mono',consolas,'Courier New',monospace\">\n",
       "</pre>\n"
      ],
      "text/plain": [
       "\n"
      ]
     },
     "metadata": {},
     "output_type": "display_data"
    },
    {
     "data": {
      "text/html": [
       "<pre style=\"white-space:pre;overflow-x:auto;line-height:normal;font-family:Menlo,'DejaVu Sans Mono',consolas,'Courier New',monospace\">epoch 0\n",
       "</pre>\n"
      ],
      "text/plain": [
       "epoch 0\n"
      ]
     },
     "metadata": {},
     "output_type": "display_data"
    },
    {
     "data": {
      "text/html": [
       "<pre style=\"white-space:pre;overflow-x:auto;line-height:normal;font-family:Menlo,'DejaVu Sans Mono',consolas,'Courier New',monospace\">epoch 1\n",
       "</pre>\n"
      ],
      "text/plain": [
       "epoch 1\n"
      ]
     },
     "metadata": {},
     "output_type": "display_data"
    },
    {
     "data": {
      "text/html": [
       "<pre style=\"white-space:pre;overflow-x:auto;line-height:normal;font-family:Menlo,'DejaVu Sans Mono',consolas,'Courier New',monospace\">epoch 2\n",
       "</pre>\n"
      ],
      "text/plain": [
       "epoch 2\n"
      ]
     },
     "metadata": {},
     "output_type": "display_data"
    },
    {
     "data": {
      "text/html": [
       "<pre style=\"white-space:pre;overflow-x:auto;line-height:normal;font-family:Menlo,'DejaVu Sans Mono',consolas,'Courier New',monospace\">epoch 3\n",
       "</pre>\n"
      ],
      "text/plain": [
       "epoch 3\n"
      ]
     },
     "metadata": {},
     "output_type": "display_data"
    },
    {
     "data": {
      "text/html": [
       "<pre style=\"white-space:pre;overflow-x:auto;line-height:normal;font-family:Menlo,'DejaVu Sans Mono',consolas,'Courier New',monospace\">epoch 4\n",
       "</pre>\n"
      ],
      "text/plain": [
       "epoch 4\n"
      ]
     },
     "metadata": {},
     "output_type": "display_data"
    },
    {
     "data": {
      "text/html": [
       "<pre style=\"white-space:pre;overflow-x:auto;line-height:normal;font-family:Menlo,'DejaVu Sans Mono',consolas,'Courier New',monospace\">Testing Accuracy: 78.70%\n",
       "</pre>\n"
      ],
      "text/plain": [
       "Testing Accuracy: 78.70%\n"
      ]
     },
     "metadata": {},
     "output_type": "display_data"
    },
    {
     "data": {
      "text/html": [
       "<pre style=\"white-space:pre;overflow-x:auto;line-height:normal;font-family:Menlo,'DejaVu Sans Mono',consolas,'Courier New',monospace\">Precision: 67.92%\n",
       "</pre>\n"
      ],
      "text/plain": [
       "Precision: 67.92%\n"
      ]
     },
     "metadata": {},
     "output_type": "display_data"
    },
    {
     "data": {
      "text/html": [
       "<pre style=\"white-space:pre;overflow-x:auto;line-height:normal;font-family:Menlo,'DejaVu Sans Mono',consolas,'Courier New',monospace\">Recall: 82.97%\n",
       "</pre>\n"
      ],
      "text/plain": [
       "Recall: 82.97%\n"
      ]
     },
     "metadata": {},
     "output_type": "display_data"
    },
    {
     "data": {
      "text/html": [
       "<pre style=\"white-space:pre;overflow-x:auto;line-height:normal;font-family:Menlo,'DejaVu Sans Mono',consolas,'Courier New',monospace\">\n",
       "\n",
       "</pre>\n"
      ],
      "text/plain": [
       "\n",
       "\n"
      ]
     },
     "metadata": {},
     "output_type": "display_data"
    },
    {
     "data": {
      "text/html": [
       "<pre style=\"white-space:pre;overflow-x:auto;line-height:normal;font-family:Menlo,'DejaVu Sans Mono',consolas,'Courier New',monospace\">\n",
       "</pre>\n"
      ],
      "text/plain": [
       "\n"
      ]
     },
     "metadata": {},
     "output_type": "display_data"
    },
    {
     "data": {
      "text/html": [
       "<pre style=\"white-space:pre;overflow-x:auto;line-height:normal;font-family:Menlo,'DejaVu Sans Mono',consolas,'Courier New',monospace\">weights_cache 40171\n",
       "</pre>\n"
      ],
      "text/plain": [
       "weights_cache 40171\n"
      ]
     },
     "metadata": {},
     "output_type": "display_data"
    },
    {
     "data": {
      "text/html": [
       "<pre style=\"white-space:pre;overflow-x:auto;line-height:normal;font-family:Menlo,'DejaVu Sans Mono',consolas,'Courier New',monospace\"></pre>\n"
      ],
      "text/plain": []
     },
     "metadata": {},
     "output_type": "display_data"
    },
    {
     "data": {
      "text/html": [
       "<pre style=\"white-space:pre;overflow-x:auto;line-height:normal;font-family:Menlo,'DejaVu Sans Mono',consolas,'Courier New',monospace\">\n",
       "</pre>\n"
      ],
      "text/plain": [
       "\n"
      ]
     },
     "metadata": {},
     "output_type": "display_data"
    },
    {
     "data": {
      "text/html": [
       "<pre style=\"white-space:pre;overflow-x:auto;line-height:normal;font-family:Menlo,'DejaVu Sans Mono',consolas,'Courier New',monospace\"><span style=\"font-weight: bold\">{</span>                                                                                                                  \n",
       "    <span style=\"color: #008080; text-decoration-color: #008080; font-weight: bold\">0</span>: <span style=\"font-weight: bold\">{}</span>,                                                                                                         \n",
       "    <span style=\"color: #008080; text-decoration-color: #008080; font-weight: bold\">1</span>: <span style=\"font-weight: bold\">{}</span>,                                                                                                         \n",
       "    <span style=\"color: #008080; text-decoration-color: #008080; font-weight: bold\">2</span>: <span style=\"font-weight: bold\">{</span><span style=\"color: #008000; text-decoration-color: #008000\">'ROUND: 0'</span>: <span style=\"font-weight: bold\">(</span><span style=\"color: #008000; text-decoration-color: #008000\">'0.6919 -&gt; 0.3923'</span>,<span style=\"font-weight: bold\">)</span>, <span style=\"color: #008000; text-decoration-color: #008000\">'ROUND: 1'</span>: <span style=\"font-weight: bold\">(</span><span style=\"color: #008000; text-decoration-color: #008000\">'0.4997 -&gt; 0.3894'</span>,<span style=\"font-weight: bold\">)}</span>,                                     \n",
       "    <span style=\"color: #008080; text-decoration-color: #008080; font-weight: bold\">3</span>: <span style=\"font-weight: bold\">{</span><span style=\"color: #008000; text-decoration-color: #008000\">'ROUND: 0'</span>: <span style=\"font-weight: bold\">(</span><span style=\"color: #008000; text-decoration-color: #008000\">'0.6853 -&gt; 0.4428'</span>,<span style=\"font-weight: bold\">)</span>, <span style=\"color: #008000; text-decoration-color: #008000\">'ROUND: 1'</span>: <span style=\"font-weight: bold\">(</span><span style=\"color: #008000; text-decoration-color: #008000\">'0.5244 -&gt; 0.4492'</span>,<span style=\"font-weight: bold\">)}</span>                                      \n",
       "<span style=\"font-weight: bold\">}</span>                                                                                                                  \n",
       "</pre>\n"
      ],
      "text/plain": [
       "\u001b[1m{\u001b[0m                                                                                                                  \n",
       "    \u001b[1;36m0\u001b[0m: \u001b[1m{\u001b[0m\u001b[1m}\u001b[0m,                                                                                                         \n",
       "    \u001b[1;36m1\u001b[0m: \u001b[1m{\u001b[0m\u001b[1m}\u001b[0m,                                                                                                         \n",
       "    \u001b[1;36m2\u001b[0m: \u001b[1m{\u001b[0m\u001b[32m'ROUND: 0'\u001b[0m: \u001b[1m(\u001b[0m\u001b[32m'0.6919 -> 0.3923'\u001b[0m,\u001b[1m)\u001b[0m, \u001b[32m'ROUND: 1'\u001b[0m: \u001b[1m(\u001b[0m\u001b[32m'0.4997 -> 0.3894'\u001b[0m,\u001b[1m)\u001b[0m\u001b[1m}\u001b[0m,                                     \n",
       "    \u001b[1;36m3\u001b[0m: \u001b[1m{\u001b[0m\u001b[32m'ROUND: 0'\u001b[0m: \u001b[1m(\u001b[0m\u001b[32m'0.6853 -> 0.4428'\u001b[0m,\u001b[1m)\u001b[0m, \u001b[32m'ROUND: 1'\u001b[0m: \u001b[1m(\u001b[0m\u001b[32m'0.5244 -> 0.4492'\u001b[0m,\u001b[1m)\u001b[0m\u001b[1m}\u001b[0m                                      \n",
       "\u001b[1m}\u001b[0m                                                                                                                  \n"
      ]
     },
     "metadata": {},
     "output_type": "display_data"
    },
    {
     "data": {
      "text/html": [
       "<pre style=\"white-space:pre;overflow-x:auto;line-height:normal;font-family:Menlo,'DejaVu Sans Mono',consolas,'Courier New',monospace\"><span style=\"color: #000080; text-decoration-color: #000080; font-weight: bold\">============================== TESTING ==============================                                              </span>\n",
       "</pre>\n"
      ],
      "text/plain": [
       "\u001b[1;34m============================== TESTING ==============================                                              \u001b[0m\n"
      ]
     },
     "metadata": {},
     "output_type": "display_data"
    },
    {
     "data": {
      "application/vnd.jupyter.widget-view+json": {
       "model_id": "8c8b6d4d8b4f428eae1e421625201a9d",
       "version_major": 2,
       "version_minor": 0
      },
      "text/plain": [
       "Output()"
      ]
     },
     "metadata": {},
     "output_type": "display_data"
    },
    {
     "data": {
      "text/html": [
       "<pre style=\"white-space:pre;overflow-x:auto;line-height:normal;font-family:Menlo,'DejaVu Sans Mono',consolas,'Courier New',monospace\">Testing Accuracy: 82.60%\n",
       "</pre>\n"
      ],
      "text/plain": [
       "Testing Accuracy: 82.60%\n"
      ]
     },
     "metadata": {},
     "output_type": "display_data"
    },
    {
     "data": {
      "text/html": [
       "<pre style=\"white-space:pre;overflow-x:auto;line-height:normal;font-family:Menlo,'DejaVu Sans Mono',consolas,'Courier New',monospace\">Precision: 73.01%\n",
       "</pre>\n"
      ],
      "text/plain": [
       "Precision: 73.01%\n"
      ]
     },
     "metadata": {},
     "output_type": "display_data"
    },
    {
     "data": {
      "text/html": [
       "<pre style=\"white-space:pre;overflow-x:auto;line-height:normal;font-family:Menlo,'DejaVu Sans Mono',consolas,'Courier New',monospace\">Recall: 81.01%\n",
       "</pre>\n"
      ],
      "text/plain": [
       "Recall: 81.01%\n"
      ]
     },
     "metadata": {},
     "output_type": "display_data"
    },
    {
     "data": {
      "text/html": [
       "<pre style=\"white-space:pre;overflow-x:auto;line-height:normal;font-family:Menlo,'DejaVu Sans Mono',consolas,'Courier New',monospace\">\n",
       "\n",
       "</pre>\n"
      ],
      "text/plain": [
       "\n",
       "\n"
      ]
     },
     "metadata": {},
     "output_type": "display_data"
    },
    {
     "data": {
      "text/html": [
       "<pre style=\"white-space:pre;overflow-x:auto;line-height:normal;font-family:Menlo,'DejaVu Sans Mono',consolas,'Courier New',monospace\">\n",
       "</pre>\n"
      ],
      "text/plain": [
       "\n"
      ]
     },
     "metadata": {},
     "output_type": "display_data"
    },
    {
     "data": {
      "text/html": [
       "<pre style=\"white-space:pre;overflow-x:auto;line-height:normal;font-family:Menlo,'DejaVu Sans Mono',consolas,'Courier New',monospace\">client <span style=\"font-weight: bold\">[</span><span style=\"color: #008080; text-decoration-color: #008080; font-weight: bold\">0</span><span style=\"font-weight: bold\">]</span>  <span style=\"color: #800000; text-decoration-color: #800000\">loss: </span><span style=\"color: #800000; text-decoration-color: #800000; font-weight: bold\">0.3893</span><span style=\"color: #800000; text-decoration-color: #800000\">    </span><span style=\"color: #800080; text-decoration-color: #800080\">accuracy: </span><span style=\"color: #800080; text-decoration-color: #800080; font-weight: bold\">0.83</span><span style=\"color: #800080; text-decoration-color: #800080\">%</span>                                                                        \n",
       "</pre>\n"
      ],
      "text/plain": [
       "client \u001b[1m[\u001b[0m\u001b[1;36m0\u001b[0m\u001b[1m]\u001b[0m  \u001b[31mloss: \u001b[0m\u001b[1;31m0.3893\u001b[0m\u001b[31m    \u001b[0m\u001b[35maccuracy: \u001b[0m\u001b[1;35m0.83\u001b[0m\u001b[35m%\u001b[0m                                                                        \n"
      ]
     },
     "metadata": {},
     "output_type": "display_data"
    },
    {
     "data": {
      "text/html": [
       "<pre style=\"white-space:pre;overflow-x:auto;line-height:normal;font-family:Menlo,'DejaVu Sans Mono',consolas,'Courier New',monospace\">Testing Accuracy: 79.89%\n",
       "</pre>\n"
      ],
      "text/plain": [
       "Testing Accuracy: 79.89%\n"
      ]
     },
     "metadata": {},
     "output_type": "display_data"
    },
    {
     "data": {
      "text/html": [
       "<pre style=\"white-space:pre;overflow-x:auto;line-height:normal;font-family:Menlo,'DejaVu Sans Mono',consolas,'Courier New',monospace\">Precision: 69.17%\n",
       "</pre>\n"
      ],
      "text/plain": [
       "Precision: 69.17%\n"
      ]
     },
     "metadata": {},
     "output_type": "display_data"
    },
    {
     "data": {
      "text/html": [
       "<pre style=\"white-space:pre;overflow-x:auto;line-height:normal;font-family:Menlo,'DejaVu Sans Mono',consolas,'Courier New',monospace\">Recall: 84.16%\n",
       "</pre>\n"
      ],
      "text/plain": [
       "Recall: 84.16%\n"
      ]
     },
     "metadata": {},
     "output_type": "display_data"
    },
    {
     "data": {
      "text/html": [
       "<pre style=\"white-space:pre;overflow-x:auto;line-height:normal;font-family:Menlo,'DejaVu Sans Mono',consolas,'Courier New',monospace\">\n",
       "\n",
       "</pre>\n"
      ],
      "text/plain": [
       "\n",
       "\n"
      ]
     },
     "metadata": {},
     "output_type": "display_data"
    },
    {
     "data": {
      "text/html": [
       "<pre style=\"white-space:pre;overflow-x:auto;line-height:normal;font-family:Menlo,'DejaVu Sans Mono',consolas,'Courier New',monospace\">\n",
       "</pre>\n"
      ],
      "text/plain": [
       "\n"
      ]
     },
     "metadata": {},
     "output_type": "display_data"
    },
    {
     "data": {
      "text/html": [
       "<pre style=\"white-space:pre;overflow-x:auto;line-height:normal;font-family:Menlo,'DejaVu Sans Mono',consolas,'Courier New',monospace\">client <span style=\"font-weight: bold\">[</span><span style=\"color: #008080; text-decoration-color: #008080; font-weight: bold\">1</span><span style=\"font-weight: bold\">]</span>  <span style=\"color: #800000; text-decoration-color: #800000\">loss: </span><span style=\"color: #800000; text-decoration-color: #800000; font-weight: bold\">0.4280</span><span style=\"color: #800000; text-decoration-color: #800000\">    </span><span style=\"color: #800080; text-decoration-color: #800080\">accuracy: </span><span style=\"color: #800080; text-decoration-color: #800080; font-weight: bold\">0.80</span><span style=\"color: #800080; text-decoration-color: #800080\">%</span>                                                                        \n",
       "</pre>\n"
      ],
      "text/plain": [
       "client \u001b[1m[\u001b[0m\u001b[1;36m1\u001b[0m\u001b[1m]\u001b[0m  \u001b[31mloss: \u001b[0m\u001b[1;31m0.4280\u001b[0m\u001b[31m    \u001b[0m\u001b[35maccuracy: \u001b[0m\u001b[1;35m0.80\u001b[0m\u001b[35m%\u001b[0m                                                                        \n"
      ]
     },
     "metadata": {},
     "output_type": "display_data"
    },
    {
     "data": {
      "text/html": [
       "<pre style=\"white-space:pre;overflow-x:auto;line-height:normal;font-family:Menlo,'DejaVu Sans Mono',consolas,'Courier New',monospace\">Testing Accuracy: 83.39%\n",
       "</pre>\n"
      ],
      "text/plain": [
       "Testing Accuracy: 83.39%\n"
      ]
     },
     "metadata": {},
     "output_type": "display_data"
    },
    {
     "data": {
      "text/html": [
       "<pre style=\"white-space:pre;overflow-x:auto;line-height:normal;font-family:Menlo,'DejaVu Sans Mono',consolas,'Courier New',monospace\">Precision: 82.47%\n",
       "</pre>\n"
      ],
      "text/plain": [
       "Precision: 82.47%\n"
      ]
     },
     "metadata": {},
     "output_type": "display_data"
    },
    {
     "data": {
      "text/html": [
       "<pre style=\"white-space:pre;overflow-x:auto;line-height:normal;font-family:Menlo,'DejaVu Sans Mono',consolas,'Courier New',monospace\">Recall: 82.24%\n",
       "</pre>\n"
      ],
      "text/plain": [
       "Recall: 82.24%\n"
      ]
     },
     "metadata": {},
     "output_type": "display_data"
    },
    {
     "data": {
      "text/html": [
       "<pre style=\"white-space:pre;overflow-x:auto;line-height:normal;font-family:Menlo,'DejaVu Sans Mono',consolas,'Courier New',monospace\">\n",
       "\n",
       "</pre>\n"
      ],
      "text/plain": [
       "\n",
       "\n"
      ]
     },
     "metadata": {},
     "output_type": "display_data"
    },
    {
     "data": {
      "text/html": [
       "<pre style=\"white-space:pre;overflow-x:auto;line-height:normal;font-family:Menlo,'DejaVu Sans Mono',consolas,'Courier New',monospace\">\n",
       "</pre>\n"
      ],
      "text/plain": [
       "\n"
      ]
     },
     "metadata": {},
     "output_type": "display_data"
    },
    {
     "data": {
      "text/html": [
       "<pre style=\"white-space:pre;overflow-x:auto;line-height:normal;font-family:Menlo,'DejaVu Sans Mono',consolas,'Courier New',monospace\">client <span style=\"font-weight: bold\">[</span><span style=\"color: #008080; text-decoration-color: #008080; font-weight: bold\">2</span><span style=\"font-weight: bold\">]</span>  <span style=\"color: #800000; text-decoration-color: #800000\">loss: </span><span style=\"color: #800000; text-decoration-color: #800000; font-weight: bold\">0.3819</span><span style=\"color: #800000; text-decoration-color: #800000\">    </span><span style=\"color: #800080; text-decoration-color: #800080\">accuracy: </span><span style=\"color: #800080; text-decoration-color: #800080; font-weight: bold\">0.83</span><span style=\"color: #800080; text-decoration-color: #800080\">%</span>                                                                        \n",
       "</pre>\n"
      ],
      "text/plain": [
       "client \u001b[1m[\u001b[0m\u001b[1;36m2\u001b[0m\u001b[1m]\u001b[0m  \u001b[31mloss: \u001b[0m\u001b[1;31m0.3819\u001b[0m\u001b[31m    \u001b[0m\u001b[35maccuracy: \u001b[0m\u001b[1;35m0.83\u001b[0m\u001b[35m%\u001b[0m                                                                        \n"
      ]
     },
     "metadata": {},
     "output_type": "display_data"
    },
    {
     "data": {
      "text/html": [
       "<pre style=\"white-space:pre;overflow-x:auto;line-height:normal;font-family:Menlo,'DejaVu Sans Mono',consolas,'Courier New',monospace\">Testing Accuracy: 78.71%\n",
       "</pre>\n"
      ],
      "text/plain": [
       "Testing Accuracy: 78.71%\n"
      ]
     },
     "metadata": {},
     "output_type": "display_data"
    },
    {
     "data": {
      "text/html": [
       "<pre style=\"white-space:pre;overflow-x:auto;line-height:normal;font-family:Menlo,'DejaVu Sans Mono',consolas,'Courier New',monospace\">Precision: 67.58%\n",
       "</pre>\n"
      ],
      "text/plain": [
       "Precision: 67.58%\n"
      ]
     },
     "metadata": {},
     "output_type": "display_data"
    },
    {
     "data": {
      "text/html": [
       "<pre style=\"white-space:pre;overflow-x:auto;line-height:normal;font-family:Menlo,'DejaVu Sans Mono',consolas,'Courier New',monospace\">Recall: 84.26%\n",
       "</pre>\n"
      ],
      "text/plain": [
       "Recall: 84.26%\n"
      ]
     },
     "metadata": {},
     "output_type": "display_data"
    },
    {
     "data": {
      "text/html": [
       "<pre style=\"white-space:pre;overflow-x:auto;line-height:normal;font-family:Menlo,'DejaVu Sans Mono',consolas,'Courier New',monospace\">\n",
       "\n",
       "</pre>\n"
      ],
      "text/plain": [
       "\n",
       "\n"
      ]
     },
     "metadata": {},
     "output_type": "display_data"
    },
    {
     "data": {
      "text/html": [
       "<pre style=\"white-space:pre;overflow-x:auto;line-height:normal;font-family:Menlo,'DejaVu Sans Mono',consolas,'Courier New',monospace\">\n",
       "</pre>\n"
      ],
      "text/plain": [
       "\n"
      ]
     },
     "metadata": {},
     "output_type": "display_data"
    },
    {
     "data": {
      "text/html": [
       "<pre style=\"white-space:pre;overflow-x:auto;line-height:normal;font-family:Menlo,'DejaVu Sans Mono',consolas,'Courier New',monospace\">client <span style=\"font-weight: bold\">[</span><span style=\"color: #008080; text-decoration-color: #008080; font-weight: bold\">3</span><span style=\"font-weight: bold\">]</span>  <span style=\"color: #800000; text-decoration-color: #800000\">loss: </span><span style=\"color: #800000; text-decoration-color: #800000; font-weight: bold\">0.4421</span><span style=\"color: #800000; text-decoration-color: #800000\">    </span><span style=\"color: #800080; text-decoration-color: #800080\">accuracy: </span><span style=\"color: #800080; text-decoration-color: #800080; font-weight: bold\">0.79</span><span style=\"color: #800080; text-decoration-color: #800080\">%</span>                                                                        \n",
       "</pre>\n"
      ],
      "text/plain": [
       "client \u001b[1m[\u001b[0m\u001b[1;36m3\u001b[0m\u001b[1m]\u001b[0m  \u001b[31mloss: \u001b[0m\u001b[1;31m0.4421\u001b[0m\u001b[31m    \u001b[0m\u001b[35maccuracy: \u001b[0m\u001b[1;35m0.79\u001b[0m\u001b[35m%\u001b[0m                                                                        \n"
      ]
     },
     "metadata": {},
     "output_type": "display_data"
    },
    {
     "data": {
      "text/html": [
       "<pre style=\"white-space:pre;overflow-x:auto;line-height:normal;font-family:Menlo,'DejaVu Sans Mono',consolas,'Courier New',monospace\"></pre>\n"
      ],
      "text/plain": []
     },
     "metadata": {},
     "output_type": "display_data"
    },
    {
     "data": {
      "text/html": [
       "<pre style=\"white-space:pre;overflow-x:auto;line-height:normal;font-family:Menlo,'DejaVu Sans Mono',consolas,'Courier New',monospace\">\n",
       "</pre>\n"
      ],
      "text/plain": [
       "\n"
      ]
     },
     "metadata": {},
     "output_type": "display_data"
    },
    {
     "data": {
      "text/html": [
       "<pre style=\"white-space:pre;overflow-x:auto;line-height:normal;font-family:Menlo,'DejaVu Sans Mono',consolas,'Courier New',monospace\"><span style=\"color: #008000; text-decoration-color: #008000; font-weight: bold\">==================== RESULTS ====================                                                                  </span>\n",
       "</pre>\n"
      ],
      "text/plain": [
       "\u001b[1;32m==================== RESULTS ====================                                                                  \u001b[0m\n"
      ]
     },
     "metadata": {},
     "output_type": "display_data"
    },
    {
     "data": {
      "text/html": [
       "<pre style=\"white-space:pre;overflow-x:auto;line-height:normal;font-family:Menlo,'DejaVu Sans Mono',consolas,'Courier New',monospace\">loss: <span style=\"color: #008080; text-decoration-color: #008080; font-weight: bold\">0.4103</span>    accuracy: <span style=\"color: #008080; text-decoration-color: #008080; font-weight: bold\">0.81</span>%                                                                                    \n",
       "</pre>\n"
      ],
      "text/plain": [
       "loss: \u001b[1;36m0.4103\u001b[0m    accuracy: \u001b[1;36m0.81\u001b[0m%                                                                                    \n"
      ]
     },
     "metadata": {},
     "output_type": "display_data"
    }
   ],
   "source": [
    "server.run()"
   ]
  },
  {
   "cell_type": "code",
   "execution_count": null,
   "id": "1f732203",
   "metadata": {},
   "outputs": [],
   "source": []
  },
  {
   "cell_type": "code",
   "execution_count": null,
   "id": "04f11e4a",
   "metadata": {},
   "outputs": [],
   "source": []
  },
  {
   "cell_type": "code",
   "execution_count": null,
   "id": "0b499095",
   "metadata": {
    "scrolled": true
   },
   "outputs": [],
   "source": []
  },
  {
   "cell_type": "code",
   "execution_count": null,
   "id": "3e13047e",
   "metadata": {},
   "outputs": [],
   "source": []
  },
  {
   "cell_type": "code",
   "execution_count": null,
   "id": "4b75712a",
   "metadata": {},
   "outputs": [],
   "source": []
  },
  {
   "cell_type": "code",
   "execution_count": null,
   "id": "66aa07ab",
   "metadata": {},
   "outputs": [],
   "source": []
  },
  {
   "cell_type": "code",
   "execution_count": null,
   "id": "aae55bed",
   "metadata": {},
   "outputs": [],
   "source": []
  },
  {
   "cell_type": "code",
   "execution_count": null,
   "id": "a1dbadf5",
   "metadata": {
    "scrolled": true
   },
   "outputs": [],
   "source": []
  },
  {
   "cell_type": "code",
   "execution_count": null,
   "id": "5de392c9",
   "metadata": {},
   "outputs": [],
   "source": []
  },
  {
   "cell_type": "code",
   "execution_count": null,
   "id": "35a1843d",
   "metadata": {},
   "outputs": [],
   "source": []
  },
  {
   "cell_type": "code",
   "execution_count": 86,
   "id": "28cd85c4",
   "metadata": {},
   "outputs": [],
   "source": []
  },
  {
   "cell_type": "code",
   "execution_count": null,
   "id": "e67613fd",
   "metadata": {},
   "outputs": [],
   "source": []
  },
  {
   "cell_type": "code",
   "execution_count": null,
   "id": "056691d5",
   "metadata": {},
   "outputs": [],
   "source": []
  },
  {
   "cell_type": "code",
   "execution_count": null,
   "id": "226dda2d",
   "metadata": {},
   "outputs": [],
   "source": []
  },
  {
   "cell_type": "code",
   "execution_count": null,
   "id": "281dab8c",
   "metadata": {},
   "outputs": [],
   "source": []
  },
  {
   "cell_type": "code",
   "execution_count": null,
   "id": "9e08b4ce",
   "metadata": {},
   "outputs": [],
   "source": []
  },
  {
   "cell_type": "code",
   "execution_count": null,
   "id": "fedab29b",
   "metadata": {},
   "outputs": [],
   "source": []
  },
  {
   "cell_type": "code",
   "execution_count": null,
   "id": "85ff5e55",
   "metadata": {},
   "outputs": [],
   "source": []
  },
  {
   "cell_type": "code",
   "execution_count": null,
   "id": "4bdaa790",
   "metadata": {},
   "outputs": [],
   "source": []
  },
  {
   "cell_type": "code",
   "execution_count": null,
   "id": "4f440fb0",
   "metadata": {},
   "outputs": [],
   "source": []
  },
  {
   "cell_type": "code",
   "execution_count": null,
   "id": "e8802ffa",
   "metadata": {},
   "outputs": [],
   "source": []
  },
  {
   "cell_type": "code",
   "execution_count": null,
   "id": "98c17a52",
   "metadata": {},
   "outputs": [],
   "source": []
  },
  {
   "cell_type": "code",
   "execution_count": null,
   "id": "b92a9fb9",
   "metadata": {},
   "outputs": [],
   "source": []
  },
  {
   "cell_type": "code",
   "execution_count": null,
   "id": "d4fceaf9",
   "metadata": {},
   "outputs": [],
   "source": []
  },
  {
   "cell_type": "code",
   "execution_count": null,
   "id": "f70f73ad",
   "metadata": {},
   "outputs": [],
   "source": []
  },
  {
   "cell_type": "code",
   "execution_count": null,
   "id": "831d6efd",
   "metadata": {},
   "outputs": [],
   "source": []
  },
  {
   "cell_type": "code",
   "execution_count": null,
   "id": "d45cf4b7",
   "metadata": {},
   "outputs": [],
   "source": []
  },
  {
   "cell_type": "code",
   "execution_count": null,
   "id": "b6b7239e",
   "metadata": {},
   "outputs": [],
   "source": []
  },
  {
   "cell_type": "code",
   "execution_count": null,
   "id": "cc3cb02e",
   "metadata": {},
   "outputs": [],
   "source": []
  },
  {
   "cell_type": "code",
   "execution_count": null,
   "id": "193901aa",
   "metadata": {},
   "outputs": [],
   "source": []
  }
 ],
 "metadata": {
  "kernelspec": {
   "display_name": "Python 3 (ipykernel)",
   "language": "python",
   "name": "python3"
  },
  "language_info": {
   "codemirror_mode": {
    "name": "ipython",
    "version": 3
   },
   "file_extension": ".py",
   "mimetype": "text/x-python",
   "name": "python",
   "nbconvert_exporter": "python",
   "pygments_lexer": "ipython3",
   "version": "3.10.12"
  }
 },
 "nbformat": 4,
 "nbformat_minor": 5
}
